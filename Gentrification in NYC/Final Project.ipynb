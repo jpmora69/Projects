{
 "cells": [
  {
   "cell_type": "code",
   "execution_count": 1,
   "metadata": {
    "collapsed": false
   },
   "outputs": [
    {
     "name": "stdout",
     "output_type": "stream",
     "text": [
      "Populating the interactive namespace from numpy and matplotlib\n"
     ]
    }
   ],
   "source": [
    "import pylab as pl\n",
    "import pandas as pd\n",
    "import numpy as np\n",
    "from numpy import ma\n",
    "import os\n",
    "import scipy.stats\n",
    "import statsmodels.api as sm\n",
    "import statsmodels.formula.api as smf\n",
    "from statsmodels.graphics.api import abline_plot\n",
    "import statsmodels.api as sm\n",
    "import statsmodels.formula.api as smf\n",
    "%pylab inline\n",
    "import geopandas as gpd\n",
    "import pysal as ps"
   ]
  },
  {
   "cell_type": "code",
   "execution_count": 2,
   "metadata": {
    "collapsed": false
   },
   "outputs": [
    {
     "data": {
      "text/plain": [
       "Index([u'Id2', u'Total', u'Male Bachelor degree', u'Female Bachelor degree'], dtype='object')"
      ]
     },
     "execution_count": 2,
     "metadata": {},
     "output_type": "execute_result"
    }
   ],
   "source": [
    "Education2000 = pd.read_excel('Education 2000.xlsx')\n",
    "Education2000.columns"
   ]
  },
  {
   "cell_type": "code",
   "execution_count": 3,
   "metadata": {
    "collapsed": false
   },
   "outputs": [
    {
     "data": {
      "text/html": [
       "<div>\n",
       "<table border=\"1\" class=\"dataframe\">\n",
       "  <thead>\n",
       "    <tr style=\"text-align: right;\">\n",
       "      <th></th>\n",
       "      <th>Id2</th>\n",
       "      <th>Total</th>\n",
       "      <th>Male Bachelor degree</th>\n",
       "      <th>Female Bachelor degree</th>\n",
       "    </tr>\n",
       "  </thead>\n",
       "  <tbody>\n",
       "    <tr>\n",
       "      <th>0</th>\n",
       "      <td>36005000100</td>\n",
       "      <td>9228</td>\n",
       "      <td>0</td>\n",
       "      <td>0</td>\n",
       "    </tr>\n",
       "    <tr>\n",
       "      <th>1</th>\n",
       "      <td>36005000200</td>\n",
       "      <td>2116</td>\n",
       "      <td>44</td>\n",
       "      <td>78</td>\n",
       "    </tr>\n",
       "    <tr>\n",
       "      <th>2</th>\n",
       "      <td>36005000400</td>\n",
       "      <td>1922</td>\n",
       "      <td>89</td>\n",
       "      <td>67</td>\n",
       "    </tr>\n",
       "    <tr>\n",
       "      <th>3</th>\n",
       "      <td>36005000500</td>\n",
       "      <td>0</td>\n",
       "      <td>0</td>\n",
       "      <td>0</td>\n",
       "    </tr>\n",
       "    <tr>\n",
       "      <th>4</th>\n",
       "      <td>36005001100</td>\n",
       "      <td>425</td>\n",
       "      <td>14</td>\n",
       "      <td>0</td>\n",
       "    </tr>\n",
       "  </tbody>\n",
       "</table>\n",
       "</div>"
      ],
      "text/plain": [
       "           Id2  Total  Male Bachelor degree  Female Bachelor degree\n",
       "0  36005000100   9228                     0                       0\n",
       "1  36005000200   2116                    44                      78\n",
       "2  36005000400   1922                    89                      67\n",
       "3  36005000500      0                     0                       0\n",
       "4  36005001100    425                    14                       0"
      ]
     },
     "execution_count": 3,
     "metadata": {},
     "output_type": "execute_result"
    }
   ],
   "source": [
    "Education2000.head()"
   ]
  },
  {
   "cell_type": "code",
   "execution_count": 4,
   "metadata": {
    "collapsed": false
   },
   "outputs": [],
   "source": [
    "Education2000['Totbach2000'] = Education2000['Male Bachelor degree'] + Education2000['Female Bachelor degree']"
   ]
  },
  {
   "cell_type": "code",
   "execution_count": 5,
   "metadata": {
    "collapsed": false
   },
   "outputs": [
    {
     "data": {
      "text/html": [
       "<div>\n",
       "<table border=\"1\" class=\"dataframe\">\n",
       "  <thead>\n",
       "    <tr style=\"text-align: right;\">\n",
       "      <th></th>\n",
       "      <th>Id2</th>\n",
       "      <th>Total</th>\n",
       "      <th>Male Bachelor degree</th>\n",
       "      <th>Female Bachelor degree</th>\n",
       "      <th>Totbach2000</th>\n",
       "    </tr>\n",
       "  </thead>\n",
       "  <tbody>\n",
       "    <tr>\n",
       "      <th>0</th>\n",
       "      <td>36005000100</td>\n",
       "      <td>9228</td>\n",
       "      <td>0</td>\n",
       "      <td>0</td>\n",
       "      <td>0</td>\n",
       "    </tr>\n",
       "    <tr>\n",
       "      <th>1</th>\n",
       "      <td>36005000200</td>\n",
       "      <td>2116</td>\n",
       "      <td>44</td>\n",
       "      <td>78</td>\n",
       "      <td>122</td>\n",
       "    </tr>\n",
       "    <tr>\n",
       "      <th>2</th>\n",
       "      <td>36005000400</td>\n",
       "      <td>1922</td>\n",
       "      <td>89</td>\n",
       "      <td>67</td>\n",
       "      <td>156</td>\n",
       "    </tr>\n",
       "    <tr>\n",
       "      <th>3</th>\n",
       "      <td>36005000500</td>\n",
       "      <td>0</td>\n",
       "      <td>0</td>\n",
       "      <td>0</td>\n",
       "      <td>0</td>\n",
       "    </tr>\n",
       "    <tr>\n",
       "      <th>4</th>\n",
       "      <td>36005001100</td>\n",
       "      <td>425</td>\n",
       "      <td>14</td>\n",
       "      <td>0</td>\n",
       "      <td>14</td>\n",
       "    </tr>\n",
       "  </tbody>\n",
       "</table>\n",
       "</div>"
      ],
      "text/plain": [
       "           Id2  Total  Male Bachelor degree  Female Bachelor degree  \\\n",
       "0  36005000100   9228                     0                       0   \n",
       "1  36005000200   2116                    44                      78   \n",
       "2  36005000400   1922                    89                      67   \n",
       "3  36005000500      0                     0                       0   \n",
       "4  36005001100    425                    14                       0   \n",
       "\n",
       "   Totbach2000  \n",
       "0            0  \n",
       "1          122  \n",
       "2          156  \n",
       "3            0  \n",
       "4           14  "
      ]
     },
     "execution_count": 5,
     "metadata": {},
     "output_type": "execute_result"
    }
   ],
   "source": [
    "Education2000.head()"
   ]
  },
  {
   "cell_type": "code",
   "execution_count": 6,
   "metadata": {
    "collapsed": false
   },
   "outputs": [
    {
     "data": {
      "text/plain": [
       "Index([u'Id2', u'Total', u'Male Bachelor degree', u'Female Bachelor degree'], dtype='object')"
      ]
     },
     "execution_count": 6,
     "metadata": {},
     "output_type": "execute_result"
    }
   ],
   "source": [
    "Education2009 = pd.read_excel('Education 2009.xlsx')\n",
    "Education2009.columns"
   ]
  },
  {
   "cell_type": "code",
   "execution_count": 7,
   "metadata": {
    "collapsed": false
   },
   "outputs": [
    {
     "data": {
      "text/html": [
       "<div>\n",
       "<table border=\"1\" class=\"dataframe\">\n",
       "  <thead>\n",
       "    <tr style=\"text-align: right;\">\n",
       "      <th></th>\n",
       "      <th>Id2</th>\n",
       "      <th>Total</th>\n",
       "      <th>Male Bachelor degree</th>\n",
       "      <th>Female Bachelor degree</th>\n",
       "    </tr>\n",
       "  </thead>\n",
       "  <tbody>\n",
       "    <tr>\n",
       "      <th>0</th>\n",
       "      <td>36005000100</td>\n",
       "      <td>8043</td>\n",
       "      <td>128</td>\n",
       "      <td>36</td>\n",
       "    </tr>\n",
       "    <tr>\n",
       "      <th>1</th>\n",
       "      <td>36005000200</td>\n",
       "      <td>2421</td>\n",
       "      <td>80</td>\n",
       "      <td>81</td>\n",
       "    </tr>\n",
       "    <tr>\n",
       "      <th>2</th>\n",
       "      <td>36005000400</td>\n",
       "      <td>2983</td>\n",
       "      <td>141</td>\n",
       "      <td>286</td>\n",
       "    </tr>\n",
       "    <tr>\n",
       "      <th>3</th>\n",
       "      <td>36005000500</td>\n",
       "      <td>0</td>\n",
       "      <td>0</td>\n",
       "      <td>0</td>\n",
       "    </tr>\n",
       "    <tr>\n",
       "      <th>4</th>\n",
       "      <td>36005001100</td>\n",
       "      <td>337</td>\n",
       "      <td>0</td>\n",
       "      <td>0</td>\n",
       "    </tr>\n",
       "  </tbody>\n",
       "</table>\n",
       "</div>"
      ],
      "text/plain": [
       "           Id2  Total  Male Bachelor degree  Female Bachelor degree\n",
       "0  36005000100   8043                   128                      36\n",
       "1  36005000200   2421                    80                      81\n",
       "2  36005000400   2983                   141                     286\n",
       "3  36005000500      0                     0                       0\n",
       "4  36005001100    337                     0                       0"
      ]
     },
     "execution_count": 7,
     "metadata": {},
     "output_type": "execute_result"
    }
   ],
   "source": [
    "Education2009.head()"
   ]
  },
  {
   "cell_type": "code",
   "execution_count": 8,
   "metadata": {
    "collapsed": true
   },
   "outputs": [],
   "source": [
    "Education2009['Totbach2009'] = Education2009['Male Bachelor degree'] + Education2009['Female Bachelor degree']"
   ]
  },
  {
   "cell_type": "code",
   "execution_count": 9,
   "metadata": {
    "collapsed": false
   },
   "outputs": [
    {
     "data": {
      "text/html": [
       "<div>\n",
       "<table border=\"1\" class=\"dataframe\">\n",
       "  <thead>\n",
       "    <tr style=\"text-align: right;\">\n",
       "      <th></th>\n",
       "      <th>Id2</th>\n",
       "      <th>Total</th>\n",
       "      <th>Male Bachelor degree</th>\n",
       "      <th>Female Bachelor degree</th>\n",
       "      <th>Totbach2009</th>\n",
       "    </tr>\n",
       "  </thead>\n",
       "  <tbody>\n",
       "    <tr>\n",
       "      <th>0</th>\n",
       "      <td>36005000100</td>\n",
       "      <td>8043</td>\n",
       "      <td>128</td>\n",
       "      <td>36</td>\n",
       "      <td>164</td>\n",
       "    </tr>\n",
       "    <tr>\n",
       "      <th>1</th>\n",
       "      <td>36005000200</td>\n",
       "      <td>2421</td>\n",
       "      <td>80</td>\n",
       "      <td>81</td>\n",
       "      <td>161</td>\n",
       "    </tr>\n",
       "    <tr>\n",
       "      <th>2</th>\n",
       "      <td>36005000400</td>\n",
       "      <td>2983</td>\n",
       "      <td>141</td>\n",
       "      <td>286</td>\n",
       "      <td>427</td>\n",
       "    </tr>\n",
       "    <tr>\n",
       "      <th>3</th>\n",
       "      <td>36005000500</td>\n",
       "      <td>0</td>\n",
       "      <td>0</td>\n",
       "      <td>0</td>\n",
       "      <td>0</td>\n",
       "    </tr>\n",
       "    <tr>\n",
       "      <th>4</th>\n",
       "      <td>36005001100</td>\n",
       "      <td>337</td>\n",
       "      <td>0</td>\n",
       "      <td>0</td>\n",
       "      <td>0</td>\n",
       "    </tr>\n",
       "  </tbody>\n",
       "</table>\n",
       "</div>"
      ],
      "text/plain": [
       "           Id2  Total  Male Bachelor degree  Female Bachelor degree  \\\n",
       "0  36005000100   8043                   128                      36   \n",
       "1  36005000200   2421                    80                      81   \n",
       "2  36005000400   2983                   141                     286   \n",
       "3  36005000500      0                     0                       0   \n",
       "4  36005001100    337                     0                       0   \n",
       "\n",
       "   Totbach2009  \n",
       "0          164  \n",
       "1          161  \n",
       "2          427  \n",
       "3            0  \n",
       "4            0  "
      ]
     },
     "execution_count": 9,
     "metadata": {},
     "output_type": "execute_result"
    }
   ],
   "source": [
    "Education2009.head()"
   ]
  },
  {
   "cell_type": "code",
   "execution_count": 10,
   "metadata": {
    "collapsed": false
   },
   "outputs": [
    {
     "data": {
      "text/plain": [
       "Index([u'Id2', u' Total', u'Male Bachelor degree', u'Female Bachelor degree'], dtype='object')"
      ]
     },
     "execution_count": 10,
     "metadata": {},
     "output_type": "execute_result"
    }
   ],
   "source": [
    "Education2013 = pd.read_excel('Education 2013.xlsx')\n",
    "Education2013.columns"
   ]
  },
  {
   "cell_type": "code",
   "execution_count": 11,
   "metadata": {
    "collapsed": true
   },
   "outputs": [],
   "source": [
    "Education2013['Totbach2013'] = Education2013['Male Bachelor degree'] + Education2013['Female Bachelor degree']"
   ]
  },
  {
   "cell_type": "code",
   "execution_count": 12,
   "metadata": {
    "collapsed": false
   },
   "outputs": [
    {
     "data": {
      "text/html": [
       "<div>\n",
       "<table border=\"1\" class=\"dataframe\">\n",
       "  <thead>\n",
       "    <tr style=\"text-align: right;\">\n",
       "      <th></th>\n",
       "      <th>Id2</th>\n",
       "      <th>Total</th>\n",
       "      <th>Male Bachelor degree</th>\n",
       "      <th>Female Bachelor degree</th>\n",
       "      <th>Totbach2013</th>\n",
       "    </tr>\n",
       "  </thead>\n",
       "  <tbody>\n",
       "    <tr>\n",
       "      <th>0</th>\n",
       "      <td>36005000100</td>\n",
       "      <td>5939</td>\n",
       "      <td>63</td>\n",
       "      <td>24</td>\n",
       "      <td>87</td>\n",
       "    </tr>\n",
       "    <tr>\n",
       "      <th>1</th>\n",
       "      <td>36005000200</td>\n",
       "      <td>3076</td>\n",
       "      <td>225</td>\n",
       "      <td>180</td>\n",
       "      <td>405</td>\n",
       "    </tr>\n",
       "    <tr>\n",
       "      <th>2</th>\n",
       "      <td>36005000400</td>\n",
       "      <td>3587</td>\n",
       "      <td>241</td>\n",
       "      <td>358</td>\n",
       "      <td>599</td>\n",
       "    </tr>\n",
       "    <tr>\n",
       "      <th>3</th>\n",
       "      <td>36005001600</td>\n",
       "      <td>3385</td>\n",
       "      <td>104</td>\n",
       "      <td>179</td>\n",
       "      <td>283</td>\n",
       "    </tr>\n",
       "    <tr>\n",
       "      <th>4</th>\n",
       "      <td>36005001900</td>\n",
       "      <td>1559</td>\n",
       "      <td>65</td>\n",
       "      <td>114</td>\n",
       "      <td>179</td>\n",
       "    </tr>\n",
       "  </tbody>\n",
       "</table>\n",
       "</div>"
      ],
      "text/plain": [
       "           Id2   Total  Male Bachelor degree  Female Bachelor degree  \\\n",
       "0  36005000100    5939                    63                      24   \n",
       "1  36005000200    3076                   225                     180   \n",
       "2  36005000400    3587                   241                     358   \n",
       "3  36005001600    3385                   104                     179   \n",
       "4  36005001900    1559                    65                     114   \n",
       "\n",
       "   Totbach2013  \n",
       "0           87  \n",
       "1          405  \n",
       "2          599  \n",
       "3          283  \n",
       "4          179  "
      ]
     },
     "execution_count": 12,
     "metadata": {},
     "output_type": "execute_result"
    }
   ],
   "source": [
    "Education2013.head()"
   ]
  },
  {
   "cell_type": "code",
   "execution_count": 13,
   "metadata": {
    "collapsed": false
   },
   "outputs": [
    {
     "data": {
      "text/plain": [
       "Index([u'Id2', u'neighborhood'], dtype='object')"
      ]
     },
     "execution_count": 13,
     "metadata": {},
     "output_type": "execute_result"
    }
   ],
   "source": [
    "IDtoN = pd.read_excel('GeoID to Neighborhoods.xlsx')\n",
    "IDtoN.columns"
   ]
  },
  {
   "cell_type": "code",
   "execution_count": 14,
   "metadata": {
    "collapsed": false
   },
   "outputs": [
    {
     "data": {
      "text/html": [
       "<div>\n",
       "<table border=\"1\" class=\"dataframe\">\n",
       "  <thead>\n",
       "    <tr style=\"text-align: right;\">\n",
       "      <th></th>\n",
       "      <th>Id2</th>\n",
       "      <th>neighborhood</th>\n",
       "    </tr>\n",
       "  </thead>\n",
       "  <tbody>\n",
       "    <tr>\n",
       "      <th>0</th>\n",
       "      <td>36005000100</td>\n",
       "      <td>Rikers Island</td>\n",
       "    </tr>\n",
       "    <tr>\n",
       "      <th>1</th>\n",
       "      <td>36005000100</td>\n",
       "      <td>Rikers Island</td>\n",
       "    </tr>\n",
       "    <tr>\n",
       "      <th>2</th>\n",
       "      <td>36005000200</td>\n",
       "      <td>Soundview-Castle Hill-Clason Point-Harding Park</td>\n",
       "    </tr>\n",
       "    <tr>\n",
       "      <th>3</th>\n",
       "      <td>36005000200</td>\n",
       "      <td>Soundview-Castle Hill-Clason Point-Harding Park</td>\n",
       "    </tr>\n",
       "    <tr>\n",
       "      <th>4</th>\n",
       "      <td>36005000200</td>\n",
       "      <td>Soundview-Castle Hill-Clason Point-Harding Park</td>\n",
       "    </tr>\n",
       "  </tbody>\n",
       "</table>\n",
       "</div>"
      ],
      "text/plain": [
       "           Id2                                     neighborhood\n",
       "0  36005000100                                    Rikers Island\n",
       "1  36005000100                                    Rikers Island\n",
       "2  36005000200  Soundview-Castle Hill-Clason Point-Harding Park\n",
       "3  36005000200  Soundview-Castle Hill-Clason Point-Harding Park\n",
       "4  36005000200  Soundview-Castle Hill-Clason Point-Harding Park"
      ]
     },
     "execution_count": 14,
     "metadata": {},
     "output_type": "execute_result"
    }
   ],
   "source": [
    "IDtoN.head()"
   ]
  },
  {
   "cell_type": "code",
   "execution_count": 15,
   "metadata": {
    "collapsed": false
   },
   "outputs": [],
   "source": [
    "Education2000a = pd.merge(Education2000, IDtoN, on='Id2')"
   ]
  },
  {
   "cell_type": "code",
   "execution_count": 16,
   "metadata": {
    "collapsed": false
   },
   "outputs": [
    {
     "data": {
      "text/html": [
       "<div>\n",
       "<table border=\"1\" class=\"dataframe\">\n",
       "  <thead>\n",
       "    <tr style=\"text-align: right;\">\n",
       "      <th></th>\n",
       "      <th>Id2</th>\n",
       "      <th>Total</th>\n",
       "      <th>Male Bachelor degree</th>\n",
       "      <th>Female Bachelor degree</th>\n",
       "      <th>Totbach2000</th>\n",
       "      <th>neighborhood</th>\n",
       "    </tr>\n",
       "  </thead>\n",
       "  <tbody>\n",
       "    <tr>\n",
       "      <th>0</th>\n",
       "      <td>36005000100</td>\n",
       "      <td>9228</td>\n",
       "      <td>0</td>\n",
       "      <td>0</td>\n",
       "      <td>0</td>\n",
       "      <td>Rikers Island</td>\n",
       "    </tr>\n",
       "    <tr>\n",
       "      <th>1</th>\n",
       "      <td>36005000100</td>\n",
       "      <td>9228</td>\n",
       "      <td>0</td>\n",
       "      <td>0</td>\n",
       "      <td>0</td>\n",
       "      <td>Rikers Island</td>\n",
       "    </tr>\n",
       "    <tr>\n",
       "      <th>2</th>\n",
       "      <td>36005000200</td>\n",
       "      <td>2116</td>\n",
       "      <td>44</td>\n",
       "      <td>78</td>\n",
       "      <td>122</td>\n",
       "      <td>Soundview-Castle Hill-Clason Point-Harding Park</td>\n",
       "    </tr>\n",
       "    <tr>\n",
       "      <th>3</th>\n",
       "      <td>36005000200</td>\n",
       "      <td>2116</td>\n",
       "      <td>44</td>\n",
       "      <td>78</td>\n",
       "      <td>122</td>\n",
       "      <td>Soundview-Castle Hill-Clason Point-Harding Park</td>\n",
       "    </tr>\n",
       "    <tr>\n",
       "      <th>4</th>\n",
       "      <td>36005000200</td>\n",
       "      <td>2116</td>\n",
       "      <td>44</td>\n",
       "      <td>78</td>\n",
       "      <td>122</td>\n",
       "      <td>Soundview-Castle Hill-Clason Point-Harding Park</td>\n",
       "    </tr>\n",
       "  </tbody>\n",
       "</table>\n",
       "</div>"
      ],
      "text/plain": [
       "           Id2  Total  Male Bachelor degree  Female Bachelor degree  \\\n",
       "0  36005000100   9228                     0                       0   \n",
       "1  36005000100   9228                     0                       0   \n",
       "2  36005000200   2116                    44                      78   \n",
       "3  36005000200   2116                    44                      78   \n",
       "4  36005000200   2116                    44                      78   \n",
       "\n",
       "   Totbach2000                                     neighborhood  \n",
       "0            0                                    Rikers Island  \n",
       "1            0                                    Rikers Island  \n",
       "2          122  Soundview-Castle Hill-Clason Point-Harding Park  \n",
       "3          122  Soundview-Castle Hill-Clason Point-Harding Park  \n",
       "4          122  Soundview-Castle Hill-Clason Point-Harding Park  "
      ]
     },
     "execution_count": 16,
     "metadata": {},
     "output_type": "execute_result"
    }
   ],
   "source": [
    "Education2000a.head()"
   ]
  },
  {
   "cell_type": "code",
   "execution_count": 17,
   "metadata": {
    "collapsed": false
   },
   "outputs": [],
   "source": [
    "Education2000b = (Education2000a.groupby(Education2000a['neighborhood']).sum())"
   ]
  },
  {
   "cell_type": "code",
   "execution_count": 18,
   "metadata": {
    "collapsed": false
   },
   "outputs": [
    {
     "data": {
      "text/html": [
       "<div>\n",
       "<table border=\"1\" class=\"dataframe\">\n",
       "  <thead>\n",
       "    <tr style=\"text-align: right;\">\n",
       "      <th></th>\n",
       "      <th>Id2</th>\n",
       "      <th>Total</th>\n",
       "      <th>Male Bachelor degree</th>\n",
       "      <th>Female Bachelor degree</th>\n",
       "      <th>Totbach2000</th>\n",
       "    </tr>\n",
       "    <tr>\n",
       "      <th>neighborhood</th>\n",
       "      <th></th>\n",
       "      <th></th>\n",
       "      <th></th>\n",
       "      <th></th>\n",
       "      <th></th>\n",
       "    </tr>\n",
       "  </thead>\n",
       "  <tbody>\n",
       "    <tr>\n",
       "      <th>Airport</th>\n",
       "      <td>108243137800</td>\n",
       "      <td>30</td>\n",
       "      <td>0</td>\n",
       "      <td>0</td>\n",
       "      <td>0</td>\n",
       "    </tr>\n",
       "    <tr>\n",
       "      <th>Allerton-Pelham Gardens</th>\n",
       "      <td>612085552200</td>\n",
       "      <td>27164</td>\n",
       "      <td>1630</td>\n",
       "      <td>1954</td>\n",
       "      <td>3584</td>\n",
       "    </tr>\n",
       "    <tr>\n",
       "      <th>Annadale-Huguenot-Prince's Bay-Eltingville</th>\n",
       "      <td>360850166818</td>\n",
       "      <td>27598</td>\n",
       "      <td>2292</td>\n",
       "      <td>1936</td>\n",
       "      <td>4228</td>\n",
       "    </tr>\n",
       "    <tr>\n",
       "      <th>Arden Heights</th>\n",
       "      <td>433020204105</td>\n",
       "      <td>51888</td>\n",
       "      <td>4123</td>\n",
       "      <td>3550</td>\n",
       "      <td>7673</td>\n",
       "    </tr>\n",
       "    <tr>\n",
       "      <th>Astoria</th>\n",
       "      <td>1948374570600</td>\n",
       "      <td>163976</td>\n",
       "      <td>14640</td>\n",
       "      <td>13082</td>\n",
       "      <td>27722</td>\n",
       "    </tr>\n",
       "  </tbody>\n",
       "</table>\n",
       "</div>"
      ],
      "text/plain": [
       "                                                      Id2   Total  \\\n",
       "neighborhood                                                        \n",
       "Airport                                      108243137800      30   \n",
       "Allerton-Pelham Gardens                      612085552200   27164   \n",
       "Annadale-Huguenot-Prince's Bay-Eltingville   360850166818   27598   \n",
       "Arden Heights                                433020204105   51888   \n",
       "Astoria                                     1948374570600  163976   \n",
       "\n",
       "                                            Male Bachelor degree  \\\n",
       "neighborhood                                                       \n",
       "Airport                                                        0   \n",
       "Allerton-Pelham Gardens                                     1630   \n",
       "Annadale-Huguenot-Prince's Bay-Eltingville                  2292   \n",
       "Arden Heights                                               4123   \n",
       "Astoria                                                    14640   \n",
       "\n",
       "                                            Female Bachelor degree  \\\n",
       "neighborhood                                                         \n",
       "Airport                                                          0   \n",
       "Allerton-Pelham Gardens                                       1954   \n",
       "Annadale-Huguenot-Prince's Bay-Eltingville                    1936   \n",
       "Arden Heights                                                 3550   \n",
       "Astoria                                                      13082   \n",
       "\n",
       "                                            Totbach2000  \n",
       "neighborhood                                             \n",
       "Airport                                               0  \n",
       "Allerton-Pelham Gardens                            3584  \n",
       "Annadale-Huguenot-Prince's Bay-Eltingville         4228  \n",
       "Arden Heights                                      7673  \n",
       "Astoria                                           27722  "
      ]
     },
     "execution_count": 18,
     "metadata": {},
     "output_type": "execute_result"
    }
   ],
   "source": [
    "Education2000b.head()"
   ]
  },
  {
   "cell_type": "code",
   "execution_count": 19,
   "metadata": {
    "collapsed": false
   },
   "outputs": [],
   "source": [
    "del Education2000b['Id2']"
   ]
  },
  {
   "cell_type": "code",
   "execution_count": 20,
   "metadata": {
    "collapsed": false
   },
   "outputs": [],
   "source": [
    "del Education2000b['Male Bachelor degree']\n",
    "del Education2000b['Female Bachelor degree']"
   ]
  },
  {
   "cell_type": "code",
   "execution_count": 21,
   "metadata": {
    "collapsed": false
   },
   "outputs": [
    {
     "data": {
      "text/html": [
       "<div>\n",
       "<table border=\"1\" class=\"dataframe\">\n",
       "  <thead>\n",
       "    <tr style=\"text-align: right;\">\n",
       "      <th></th>\n",
       "      <th>Total</th>\n",
       "      <th>Totbach2000</th>\n",
       "    </tr>\n",
       "    <tr>\n",
       "      <th>neighborhood</th>\n",
       "      <th></th>\n",
       "      <th></th>\n",
       "    </tr>\n",
       "  </thead>\n",
       "  <tbody>\n",
       "    <tr>\n",
       "      <th>Airport</th>\n",
       "      <td>30</td>\n",
       "      <td>0</td>\n",
       "    </tr>\n",
       "    <tr>\n",
       "      <th>Allerton-Pelham Gardens</th>\n",
       "      <td>27164</td>\n",
       "      <td>3584</td>\n",
       "    </tr>\n",
       "    <tr>\n",
       "      <th>Annadale-Huguenot-Prince's Bay-Eltingville</th>\n",
       "      <td>27598</td>\n",
       "      <td>4228</td>\n",
       "    </tr>\n",
       "    <tr>\n",
       "      <th>Arden Heights</th>\n",
       "      <td>51888</td>\n",
       "      <td>7673</td>\n",
       "    </tr>\n",
       "    <tr>\n",
       "      <th>Astoria</th>\n",
       "      <td>163976</td>\n",
       "      <td>27722</td>\n",
       "    </tr>\n",
       "  </tbody>\n",
       "</table>\n",
       "</div>"
      ],
      "text/plain": [
       "                                             Total  Totbach2000\n",
       "neighborhood                                                   \n",
       "Airport                                         30            0\n",
       "Allerton-Pelham Gardens                      27164         3584\n",
       "Annadale-Huguenot-Prince's Bay-Eltingville   27598         4228\n",
       "Arden Heights                                51888         7673\n",
       "Astoria                                     163976        27722"
      ]
     },
     "execution_count": 21,
     "metadata": {},
     "output_type": "execute_result"
    }
   ],
   "source": [
    "Education2000b.head()"
   ]
  },
  {
   "cell_type": "code",
   "execution_count": 22,
   "metadata": {
    "collapsed": true
   },
   "outputs": [],
   "source": [
    "Education2009a = pd.merge(Education2009, IDtoN, on='Id2')"
   ]
  },
  {
   "cell_type": "code",
   "execution_count": 23,
   "metadata": {
    "collapsed": true
   },
   "outputs": [],
   "source": [
    "Education2009b = (Education2009a.groupby(Education2009a['neighborhood']).sum())"
   ]
  },
  {
   "cell_type": "code",
   "execution_count": 24,
   "metadata": {
    "collapsed": true
   },
   "outputs": [],
   "source": [
    "del Education2009b['Id2']\n",
    "del Education2009b['Male Bachelor degree']\n",
    "del Education2009b['Female Bachelor degree']"
   ]
  },
  {
   "cell_type": "code",
   "execution_count": 25,
   "metadata": {
    "collapsed": false
   },
   "outputs": [
    {
     "data": {
      "text/html": [
       "<div>\n",
       "<table border=\"1\" class=\"dataframe\">\n",
       "  <thead>\n",
       "    <tr style=\"text-align: right;\">\n",
       "      <th></th>\n",
       "      <th>Total</th>\n",
       "      <th>Totbach2009</th>\n",
       "    </tr>\n",
       "    <tr>\n",
       "      <th>neighborhood</th>\n",
       "      <th></th>\n",
       "      <th></th>\n",
       "    </tr>\n",
       "  </thead>\n",
       "  <tbody>\n",
       "    <tr>\n",
       "      <th>Airport</th>\n",
       "      <td>9</td>\n",
       "      <td>9</td>\n",
       "    </tr>\n",
       "    <tr>\n",
       "      <th>Allerton-Pelham Gardens</th>\n",
       "      <td>32036</td>\n",
       "      <td>5271</td>\n",
       "    </tr>\n",
       "    <tr>\n",
       "      <th>Annadale-Huguenot-Prince's Bay-Eltingville</th>\n",
       "      <td>29650</td>\n",
       "      <td>4784</td>\n",
       "    </tr>\n",
       "    <tr>\n",
       "      <th>Arden Heights</th>\n",
       "      <td>57064</td>\n",
       "      <td>10561</td>\n",
       "    </tr>\n",
       "    <tr>\n",
       "      <th>Astoria</th>\n",
       "      <td>160471</td>\n",
       "      <td>41475</td>\n",
       "    </tr>\n",
       "  </tbody>\n",
       "</table>\n",
       "</div>"
      ],
      "text/plain": [
       "                                             Total  Totbach2009\n",
       "neighborhood                                                   \n",
       "Airport                                          9            9\n",
       "Allerton-Pelham Gardens                      32036         5271\n",
       "Annadale-Huguenot-Prince's Bay-Eltingville   29650         4784\n",
       "Arden Heights                                57064        10561\n",
       "Astoria                                     160471        41475"
      ]
     },
     "execution_count": 25,
     "metadata": {},
     "output_type": "execute_result"
    }
   ],
   "source": [
    "\n",
    "Education2009b.head()"
   ]
  },
  {
   "cell_type": "code",
   "execution_count": 26,
   "metadata": {
    "collapsed": true
   },
   "outputs": [],
   "source": [
    "Education2013a = pd.merge(Education2013, IDtoN, on='Id2')"
   ]
  },
  {
   "cell_type": "code",
   "execution_count": 27,
   "metadata": {
    "collapsed": true
   },
   "outputs": [],
   "source": [
    "Education2013b = (Education2013a.groupby(Education2013a['neighborhood']).sum())"
   ]
  },
  {
   "cell_type": "code",
   "execution_count": 28,
   "metadata": {
    "collapsed": true
   },
   "outputs": [],
   "source": [
    "del Education2013b['Id2']\n",
    "del Education2013b['Male Bachelor degree']\n",
    "del Education2013b['Female Bachelor degree']"
   ]
  },
  {
   "cell_type": "code",
   "execution_count": 29,
   "metadata": {
    "collapsed": false
   },
   "outputs": [
    {
     "data": {
      "text/html": [
       "<div>\n",
       "<table border=\"1\" class=\"dataframe\">\n",
       "  <thead>\n",
       "    <tr style=\"text-align: right;\">\n",
       "      <th></th>\n",
       "      <th>Total</th>\n",
       "      <th>Totbach2013</th>\n",
       "    </tr>\n",
       "    <tr>\n",
       "      <th>neighborhood</th>\n",
       "      <th></th>\n",
       "      <th></th>\n",
       "    </tr>\n",
       "  </thead>\n",
       "  <tbody>\n",
       "    <tr>\n",
       "      <th>Airport</th>\n",
       "      <td>0</td>\n",
       "      <td>0</td>\n",
       "    </tr>\n",
       "    <tr>\n",
       "      <th>Allerton-Pelham Gardens</th>\n",
       "      <td>61606</td>\n",
       "      <td>9420</td>\n",
       "    </tr>\n",
       "    <tr>\n",
       "      <th>Annadale-Huguenot-Prince's Bay-Eltingville</th>\n",
       "      <td>63284</td>\n",
       "      <td>12580</td>\n",
       "    </tr>\n",
       "    <tr>\n",
       "      <th>Arden Heights</th>\n",
       "      <td>54548</td>\n",
       "      <td>11717</td>\n",
       "    </tr>\n",
       "    <tr>\n",
       "      <th>Astoria</th>\n",
       "      <td>167580</td>\n",
       "      <td>44575</td>\n",
       "    </tr>\n",
       "  </tbody>\n",
       "</table>\n",
       "</div>"
      ],
      "text/plain": [
       "                                             Total  Totbach2013\n",
       "neighborhood                                                   \n",
       "Airport                                          0            0\n",
       "Allerton-Pelham Gardens                      61606         9420\n",
       "Annadale-Huguenot-Prince's Bay-Eltingville   63284        12580\n",
       "Arden Heights                                54548        11717\n",
       "Astoria                                     167580        44575"
      ]
     },
     "execution_count": 29,
     "metadata": {},
     "output_type": "execute_result"
    }
   ],
   "source": [
    "Education2013b.head()"
   ]
  },
  {
   "cell_type": "code",
   "execution_count": 30,
   "metadata": {
    "collapsed": true
   },
   "outputs": [],
   "source": [
    "Education = pd.concat([Education2000b, Education2009b, Education2013b], axis=1)"
   ]
  },
  {
   "cell_type": "code",
   "execution_count": 31,
   "metadata": {
    "collapsed": true
   },
   "outputs": [],
   "source": [
    "Education['Dif2000-2009Bch'] = (Education.Totbach2009-Education.Totbach2000)/Education.Totbach2000"
   ]
  },
  {
   "cell_type": "code",
   "execution_count": 32,
   "metadata": {
    "collapsed": false
   },
   "outputs": [],
   "source": [
    "Education['Dif2009-2013Bch'] = (Education.Totbach2013-Education.Totbach2009)/Education.Totbach2009"
   ]
  },
  {
   "cell_type": "code",
   "execution_count": 33,
   "metadata": {
    "collapsed": false
   },
   "outputs": [
    {
     "data": {
      "text/html": [
       "<div>\n",
       "<table border=\"1\" class=\"dataframe\">\n",
       "  <thead>\n",
       "    <tr style=\"text-align: right;\">\n",
       "      <th></th>\n",
       "      <th>Total</th>\n",
       "      <th>Totbach2000</th>\n",
       "      <th>Total</th>\n",
       "      <th>Totbach2009</th>\n",
       "      <th>Total</th>\n",
       "      <th>Totbach2013</th>\n",
       "      <th>Dif2000-2009Bch</th>\n",
       "      <th>Dif2009-2013Bch</th>\n",
       "    </tr>\n",
       "  </thead>\n",
       "  <tbody>\n",
       "    <tr>\n",
       "      <th>Airport</th>\n",
       "      <td>30</td>\n",
       "      <td>0</td>\n",
       "      <td>9</td>\n",
       "      <td>9</td>\n",
       "      <td>0</td>\n",
       "      <td>0</td>\n",
       "      <td>inf</td>\n",
       "      <td>-1.000000</td>\n",
       "    </tr>\n",
       "    <tr>\n",
       "      <th>Allerton-Pelham Gardens</th>\n",
       "      <td>27164</td>\n",
       "      <td>3584</td>\n",
       "      <td>32036</td>\n",
       "      <td>5271</td>\n",
       "      <td>61606</td>\n",
       "      <td>9420</td>\n",
       "      <td>0.470703</td>\n",
       "      <td>0.787137</td>\n",
       "    </tr>\n",
       "    <tr>\n",
       "      <th>Annadale-Huguenot-Prince's Bay-Eltingville</th>\n",
       "      <td>27598</td>\n",
       "      <td>4228</td>\n",
       "      <td>29650</td>\n",
       "      <td>4784</td>\n",
       "      <td>63284</td>\n",
       "      <td>12580</td>\n",
       "      <td>0.131504</td>\n",
       "      <td>1.629599</td>\n",
       "    </tr>\n",
       "    <tr>\n",
       "      <th>Arden Heights</th>\n",
       "      <td>51888</td>\n",
       "      <td>7673</td>\n",
       "      <td>57064</td>\n",
       "      <td>10561</td>\n",
       "      <td>54548</td>\n",
       "      <td>11717</td>\n",
       "      <td>0.376385</td>\n",
       "      <td>0.109459</td>\n",
       "    </tr>\n",
       "    <tr>\n",
       "      <th>Astoria</th>\n",
       "      <td>163976</td>\n",
       "      <td>27722</td>\n",
       "      <td>160471</td>\n",
       "      <td>41475</td>\n",
       "      <td>167580</td>\n",
       "      <td>44575</td>\n",
       "      <td>0.496104</td>\n",
       "      <td>0.074744</td>\n",
       "    </tr>\n",
       "  </tbody>\n",
       "</table>\n",
       "</div>"
      ],
      "text/plain": [
       "                                             Total  Totbach2000   Total  \\\n",
       "Airport                                         30            0       9   \n",
       "Allerton-Pelham Gardens                      27164         3584   32036   \n",
       "Annadale-Huguenot-Prince's Bay-Eltingville   27598         4228   29650   \n",
       "Arden Heights                                51888         7673   57064   \n",
       "Astoria                                     163976        27722  160471   \n",
       "\n",
       "                                            Totbach2009   Total  Totbach2013  \\\n",
       "Airport                                               9       0            0   \n",
       "Allerton-Pelham Gardens                            5271   61606         9420   \n",
       "Annadale-Huguenot-Prince's Bay-Eltingville         4784   63284        12580   \n",
       "Arden Heights                                     10561   54548        11717   \n",
       "Astoria                                           41475  167580        44575   \n",
       "\n",
       "                                            Dif2000-2009Bch  Dif2009-2013Bch  \n",
       "Airport                                                 inf        -1.000000  \n",
       "Allerton-Pelham Gardens                            0.470703         0.787137  \n",
       "Annadale-Huguenot-Prince's Bay-Eltingville         0.131504         1.629599  \n",
       "Arden Heights                                      0.376385         0.109459  \n",
       "Astoria                                            0.496104         0.074744  "
      ]
     },
     "execution_count": 33,
     "metadata": {},
     "output_type": "execute_result"
    }
   ],
   "source": [
    "Education.head()"
   ]
  },
  {
   "cell_type": "code",
   "execution_count": 34,
   "metadata": {
    "collapsed": false
   },
   "outputs": [
    {
     "data": {
      "text/plain": [
       "Index([u'Id2', u'Median Rent 2000'], dtype='object')"
      ]
     },
     "execution_count": 34,
     "metadata": {},
     "output_type": "execute_result"
    }
   ],
   "source": [
    "HouseMR2000 = pd.read_excel('Median Rent 2000.xlsx')\n",
    "HouseMR2000.columns"
   ]
  },
  {
   "cell_type": "code",
   "execution_count": 35,
   "metadata": {
    "collapsed": false
   },
   "outputs": [
    {
     "data": {
      "text/plain": [
       "Index([u'Id2', u'Median Rent 2010'], dtype='object')"
      ]
     },
     "execution_count": 35,
     "metadata": {},
     "output_type": "execute_result"
    }
   ],
   "source": [
    "HouseMR2009 = pd.read_excel('Median Rent 2010.xlsx')\n",
    "HouseMR2009.columns"
   ]
  },
  {
   "cell_type": "code",
   "execution_count": 36,
   "metadata": {
    "collapsed": false
   },
   "outputs": [
    {
     "data": {
      "text/plain": [
       "Index([u'Id2', u'Median Rent 2013'], dtype='object')"
      ]
     },
     "execution_count": 36,
     "metadata": {},
     "output_type": "execute_result"
    }
   ],
   "source": [
    "HouseMR2013 = pd.read_excel('Median Rent 2013.xlsx')\n",
    "HouseMR2013.columns"
   ]
  },
  {
   "cell_type": "code",
   "execution_count": 37,
   "metadata": {
    "collapsed": false
   },
   "outputs": [],
   "source": [
    "HouseMR2000a = pd.merge(HouseMR2000, IDtoN, on='Id2')"
   ]
  },
  {
   "cell_type": "code",
   "execution_count": 38,
   "metadata": {
    "collapsed": false
   },
   "outputs": [
    {
     "data": {
      "text/html": [
       "<div>\n",
       "<table border=\"1\" class=\"dataframe\">\n",
       "  <thead>\n",
       "    <tr style=\"text-align: right;\">\n",
       "      <th></th>\n",
       "      <th>Id2</th>\n",
       "      <th>Median Rent 2000</th>\n",
       "      <th>neighborhood</th>\n",
       "    </tr>\n",
       "  </thead>\n",
       "  <tbody>\n",
       "    <tr>\n",
       "      <th>0</th>\n",
       "      <td>36005000100</td>\n",
       "      <td>0</td>\n",
       "      <td>Rikers Island</td>\n",
       "    </tr>\n",
       "    <tr>\n",
       "      <th>1</th>\n",
       "      <td>36005000100</td>\n",
       "      <td>0</td>\n",
       "      <td>Rikers Island</td>\n",
       "    </tr>\n",
       "    <tr>\n",
       "      <th>2</th>\n",
       "      <td>36005000200</td>\n",
       "      <td>730</td>\n",
       "      <td>Soundview-Castle Hill-Clason Point-Harding Park</td>\n",
       "    </tr>\n",
       "    <tr>\n",
       "      <th>3</th>\n",
       "      <td>36005000200</td>\n",
       "      <td>730</td>\n",
       "      <td>Soundview-Castle Hill-Clason Point-Harding Park</td>\n",
       "    </tr>\n",
       "    <tr>\n",
       "      <th>4</th>\n",
       "      <td>36005000200</td>\n",
       "      <td>730</td>\n",
       "      <td>Soundview-Castle Hill-Clason Point-Harding Park</td>\n",
       "    </tr>\n",
       "  </tbody>\n",
       "</table>\n",
       "</div>"
      ],
      "text/plain": [
       "           Id2  Median Rent 2000  \\\n",
       "0  36005000100                 0   \n",
       "1  36005000100                 0   \n",
       "2  36005000200               730   \n",
       "3  36005000200               730   \n",
       "4  36005000200               730   \n",
       "\n",
       "                                      neighborhood  \n",
       "0                                    Rikers Island  \n",
       "1                                    Rikers Island  \n",
       "2  Soundview-Castle Hill-Clason Point-Harding Park  \n",
       "3  Soundview-Castle Hill-Clason Point-Harding Park  \n",
       "4  Soundview-Castle Hill-Clason Point-Harding Park  "
      ]
     },
     "execution_count": 38,
     "metadata": {},
     "output_type": "execute_result"
    }
   ],
   "source": [
    "HouseMR2000a.head()"
   ]
  },
  {
   "cell_type": "code",
   "execution_count": 39,
   "metadata": {
    "collapsed": true
   },
   "outputs": [],
   "source": [
    "HouseMR2009a = pd.merge(HouseMR2009, IDtoN, on='Id2')"
   ]
  },
  {
   "cell_type": "code",
   "execution_count": 40,
   "metadata": {
    "collapsed": true
   },
   "outputs": [],
   "source": [
    "HouseMR2013a = pd.merge(HouseMR2013, IDtoN, on='Id2')"
   ]
  },
  {
   "cell_type": "code",
   "execution_count": 41,
   "metadata": {
    "collapsed": true
   },
   "outputs": [],
   "source": [
    "HouseMR2000b = (HouseMR2000a.groupby(HouseMR2000a['neighborhood']).median())"
   ]
  },
  {
   "cell_type": "code",
   "execution_count": 42,
   "metadata": {
    "collapsed": true
   },
   "outputs": [],
   "source": [
    "HouseMR2009b = (HouseMR2009a.groupby(HouseMR2009a['neighborhood']).median())\n",
    "HouseMR2013b = (HouseMR2013a.groupby(HouseMR2013a['neighborhood']).median())"
   ]
  },
  {
   "cell_type": "code",
   "execution_count": 43,
   "metadata": {
    "collapsed": false
   },
   "outputs": [
    {
     "data": {
      "text/html": [
       "<div>\n",
       "<table border=\"1\" class=\"dataframe\">\n",
       "  <thead>\n",
       "    <tr style=\"text-align: right;\">\n",
       "      <th></th>\n",
       "      <th>Median Rent 2013</th>\n",
       "    </tr>\n",
       "    <tr>\n",
       "      <th>neighborhood</th>\n",
       "      <th></th>\n",
       "    </tr>\n",
       "  </thead>\n",
       "  <tbody>\n",
       "    <tr>\n",
       "      <th>Airport</th>\n",
       "      <td>NaN</td>\n",
       "    </tr>\n",
       "    <tr>\n",
       "      <th>Allerton-Pelham Gardens</th>\n",
       "      <td>1361</td>\n",
       "    </tr>\n",
       "    <tr>\n",
       "      <th>Annadale-Huguenot-Prince's Bay-Eltingville</th>\n",
       "      <td>1434</td>\n",
       "    </tr>\n",
       "    <tr>\n",
       "      <th>Arden Heights</th>\n",
       "      <td>1155</td>\n",
       "    </tr>\n",
       "    <tr>\n",
       "      <th>Astoria</th>\n",
       "      <td>1400</td>\n",
       "    </tr>\n",
       "  </tbody>\n",
       "</table>\n",
       "</div>"
      ],
      "text/plain": [
       "                                            Median Rent 2013\n",
       "neighborhood                                                \n",
       "Airport                                                  NaN\n",
       "Allerton-Pelham Gardens                                 1361\n",
       "Annadale-Huguenot-Prince's Bay-Eltingville              1434\n",
       "Arden Heights                                           1155\n",
       "Astoria                                                 1400"
      ]
     },
     "execution_count": 43,
     "metadata": {},
     "output_type": "execute_result"
    }
   ],
   "source": [
    "del HouseMR2013b['Id2']\n",
    "HouseMR2013b.head()"
   ]
  },
  {
   "cell_type": "code",
   "execution_count": 44,
   "metadata": {
    "collapsed": true
   },
   "outputs": [],
   "source": [
    "del HouseMR2000b['Id2']\n",
    "del HouseMR2009b['Id2']"
   ]
  },
  {
   "cell_type": "code",
   "execution_count": 45,
   "metadata": {
    "collapsed": false
   },
   "outputs": [
    {
     "data": {
      "text/html": [
       "<div>\n",
       "<table border=\"1\" class=\"dataframe\">\n",
       "  <thead>\n",
       "    <tr style=\"text-align: right;\">\n",
       "      <th></th>\n",
       "      <th>Median Rent 2000</th>\n",
       "      <th>Median Rent 2010</th>\n",
       "      <th>Median Rent 2013</th>\n",
       "    </tr>\n",
       "  </thead>\n",
       "  <tbody>\n",
       "    <tr>\n",
       "      <th>Airport</th>\n",
       "      <td>NaN</td>\n",
       "      <td>NaN</td>\n",
       "      <td>NaN</td>\n",
       "    </tr>\n",
       "    <tr>\n",
       "      <th>Allerton-Pelham Gardens</th>\n",
       "      <td>822</td>\n",
       "      <td>1317</td>\n",
       "      <td>1361</td>\n",
       "    </tr>\n",
       "    <tr>\n",
       "      <th>Annadale-Huguenot-Prince's Bay-Eltingville</th>\n",
       "      <td>808</td>\n",
       "      <td>1217</td>\n",
       "      <td>1434</td>\n",
       "    </tr>\n",
       "    <tr>\n",
       "      <th>Arden Heights</th>\n",
       "      <td>797</td>\n",
       "      <td>1240</td>\n",
       "      <td>1155</td>\n",
       "    </tr>\n",
       "    <tr>\n",
       "      <th>Astoria</th>\n",
       "      <td>782</td>\n",
       "      <td>1218</td>\n",
       "      <td>1400</td>\n",
       "    </tr>\n",
       "  </tbody>\n",
       "</table>\n",
       "</div>"
      ],
      "text/plain": [
       "                                            Median Rent 2000  \\\n",
       "Airport                                                  NaN   \n",
       "Allerton-Pelham Gardens                                  822   \n",
       "Annadale-Huguenot-Prince's Bay-Eltingville               808   \n",
       "Arden Heights                                            797   \n",
       "Astoria                                                  782   \n",
       "\n",
       "                                            Median Rent 2010  Median Rent 2013  \n",
       "Airport                                                  NaN               NaN  \n",
       "Allerton-Pelham Gardens                                 1317              1361  \n",
       "Annadale-Huguenot-Prince's Bay-Eltingville              1217              1434  \n",
       "Arden Heights                                           1240              1155  \n",
       "Astoria                                                 1218              1400  "
      ]
     },
     "execution_count": 45,
     "metadata": {},
     "output_type": "execute_result"
    }
   ],
   "source": [
    "HouseMR = pd.concat([HouseMR2000b, HouseMR2009b, HouseMR2013b], axis=1)\n",
    "HouseMR.head()"
   ]
  },
  {
   "cell_type": "code",
   "execution_count": 46,
   "metadata": {
    "collapsed": false
   },
   "outputs": [],
   "source": [
    "HouseMR['Dif2000-2009R'] = (HouseMR['Median Rent 2010'] - HouseMR['Median Rent 2000'])/ HouseMR['Median Rent 2000']\n",
    "HouseMR['Dif2009-2013R'] = (HouseMR['Median Rent 2013'] - HouseMR['Median Rent 2010'])/ HouseMR['Median Rent 2010']"
   ]
  },
  {
   "cell_type": "code",
   "execution_count": 47,
   "metadata": {
    "collapsed": false
   },
   "outputs": [
    {
     "data": {
      "text/html": [
       "<div>\n",
       "<table border=\"1\" class=\"dataframe\">\n",
       "  <thead>\n",
       "    <tr style=\"text-align: right;\">\n",
       "      <th></th>\n",
       "      <th>Median Rent 2000</th>\n",
       "      <th>Median Rent 2010</th>\n",
       "      <th>Median Rent 2013</th>\n",
       "      <th>Dif2000-2009R</th>\n",
       "      <th>Dif2009-2013R</th>\n",
       "    </tr>\n",
       "  </thead>\n",
       "  <tbody>\n",
       "    <tr>\n",
       "      <th>Airport</th>\n",
       "      <td>NaN</td>\n",
       "      <td>NaN</td>\n",
       "      <td>NaN</td>\n",
       "      <td>NaN</td>\n",
       "      <td>NaN</td>\n",
       "    </tr>\n",
       "    <tr>\n",
       "      <th>Allerton-Pelham Gardens</th>\n",
       "      <td>822</td>\n",
       "      <td>1317</td>\n",
       "      <td>1361</td>\n",
       "      <td>0.602190</td>\n",
       "      <td>0.033409</td>\n",
       "    </tr>\n",
       "    <tr>\n",
       "      <th>Annadale-Huguenot-Prince's Bay-Eltingville</th>\n",
       "      <td>808</td>\n",
       "      <td>1217</td>\n",
       "      <td>1434</td>\n",
       "      <td>0.506188</td>\n",
       "      <td>0.178307</td>\n",
       "    </tr>\n",
       "    <tr>\n",
       "      <th>Arden Heights</th>\n",
       "      <td>797</td>\n",
       "      <td>1240</td>\n",
       "      <td>1155</td>\n",
       "      <td>0.555834</td>\n",
       "      <td>-0.068548</td>\n",
       "    </tr>\n",
       "    <tr>\n",
       "      <th>Astoria</th>\n",
       "      <td>782</td>\n",
       "      <td>1218</td>\n",
       "      <td>1400</td>\n",
       "      <td>0.557545</td>\n",
       "      <td>0.149425</td>\n",
       "    </tr>\n",
       "  </tbody>\n",
       "</table>\n",
       "</div>"
      ],
      "text/plain": [
       "                                            Median Rent 2000  \\\n",
       "Airport                                                  NaN   \n",
       "Allerton-Pelham Gardens                                  822   \n",
       "Annadale-Huguenot-Prince's Bay-Eltingville               808   \n",
       "Arden Heights                                            797   \n",
       "Astoria                                                  782   \n",
       "\n",
       "                                            Median Rent 2010  \\\n",
       "Airport                                                  NaN   \n",
       "Allerton-Pelham Gardens                                 1317   \n",
       "Annadale-Huguenot-Prince's Bay-Eltingville              1217   \n",
       "Arden Heights                                           1240   \n",
       "Astoria                                                 1218   \n",
       "\n",
       "                                            Median Rent 2013  Dif2000-2009R  \\\n",
       "Airport                                                  NaN            NaN   \n",
       "Allerton-Pelham Gardens                                 1361       0.602190   \n",
       "Annadale-Huguenot-Prince's Bay-Eltingville              1434       0.506188   \n",
       "Arden Heights                                           1155       0.555834   \n",
       "Astoria                                                 1400       0.557545   \n",
       "\n",
       "                                            Dif2009-2013R  \n",
       "Airport                                               NaN  \n",
       "Allerton-Pelham Gardens                          0.033409  \n",
       "Annadale-Huguenot-Prince's Bay-Eltingville       0.178307  \n",
       "Arden Heights                                   -0.068548  \n",
       "Astoria                                          0.149425  "
      ]
     },
     "execution_count": 47,
     "metadata": {},
     "output_type": "execute_result"
    }
   ],
   "source": [
    "HouseMR.head()"
   ]
  },
  {
   "cell_type": "code",
   "execution_count": 48,
   "metadata": {
    "collapsed": false
   },
   "outputs": [
    {
     "data": {
      "text/plain": [
       "Index([u'Id2', u'Median value 2000'], dtype='object')"
      ]
     },
     "execution_count": 48,
     "metadata": {},
     "output_type": "execute_result"
    }
   ],
   "source": [
    "MHValue2000 = pd.read_excel('Median House Value 2000.xlsx')\n",
    "MHValue2000.columns"
   ]
  },
  {
   "cell_type": "code",
   "execution_count": 49,
   "metadata": {
    "collapsed": false
   },
   "outputs": [
    {
     "data": {
      "text/plain": [
       "Index([u'Id2', u'Median value 2009'], dtype='object')"
      ]
     },
     "execution_count": 49,
     "metadata": {},
     "output_type": "execute_result"
    }
   ],
   "source": [
    "MHValue2009 = pd.read_excel('Median House Value 2009.xlsx')\n",
    "MHValue2009.columns"
   ]
  },
  {
   "cell_type": "code",
   "execution_count": 50,
   "metadata": {
    "collapsed": false
   },
   "outputs": [
    {
     "data": {
      "text/plain": [
       "Index([u'Id2', u'Median value 2013'], dtype='object')"
      ]
     },
     "execution_count": 50,
     "metadata": {},
     "output_type": "execute_result"
    }
   ],
   "source": [
    "MHValue2013 = pd.read_excel('Median House Value 2013.xlsx')\n",
    "MHValue2013.columns"
   ]
  },
  {
   "cell_type": "code",
   "execution_count": 51,
   "metadata": {
    "collapsed": true
   },
   "outputs": [],
   "source": [
    "MHValue2000a = pd.merge(MHValue2000, IDtoN, on='Id2')\n",
    "MHValue2009a = pd.merge(MHValue2009, IDtoN, on='Id2')\n",
    "MHValue2013a = pd.merge(MHValue2013, IDtoN, on='Id2')"
   ]
  },
  {
   "cell_type": "code",
   "execution_count": 52,
   "metadata": {
    "collapsed": false
   },
   "outputs": [
    {
     "data": {
      "text/html": [
       "<div>\n",
       "<table border=\"1\" class=\"dataframe\">\n",
       "  <thead>\n",
       "    <tr style=\"text-align: right;\">\n",
       "      <th></th>\n",
       "      <th>Id2</th>\n",
       "      <th>Median value 2013</th>\n",
       "      <th>neighborhood</th>\n",
       "    </tr>\n",
       "  </thead>\n",
       "  <tbody>\n",
       "    <tr>\n",
       "      <th>0</th>\n",
       "      <td>36005000100</td>\n",
       "      <td>NaN</td>\n",
       "      <td>Rikers Island</td>\n",
       "    </tr>\n",
       "    <tr>\n",
       "      <th>1</th>\n",
       "      <td>36005000100</td>\n",
       "      <td>NaN</td>\n",
       "      <td>Rikers Island</td>\n",
       "    </tr>\n",
       "    <tr>\n",
       "      <th>2</th>\n",
       "      <td>36005000200</td>\n",
       "      <td>418100</td>\n",
       "      <td>Soundview-Castle Hill-Clason Point-Harding Park</td>\n",
       "    </tr>\n",
       "    <tr>\n",
       "      <th>3</th>\n",
       "      <td>36005000200</td>\n",
       "      <td>418100</td>\n",
       "      <td>Soundview-Castle Hill-Clason Point-Harding Park</td>\n",
       "    </tr>\n",
       "    <tr>\n",
       "      <th>4</th>\n",
       "      <td>36005000200</td>\n",
       "      <td>418100</td>\n",
       "      <td>Soundview-Castle Hill-Clason Point-Harding Park</td>\n",
       "    </tr>\n",
       "  </tbody>\n",
       "</table>\n",
       "</div>"
      ],
      "text/plain": [
       "           Id2  Median value 2013  \\\n",
       "0  36005000100                NaN   \n",
       "1  36005000100                NaN   \n",
       "2  36005000200             418100   \n",
       "3  36005000200             418100   \n",
       "4  36005000200             418100   \n",
       "\n",
       "                                      neighborhood  \n",
       "0                                    Rikers Island  \n",
       "1                                    Rikers Island  \n",
       "2  Soundview-Castle Hill-Clason Point-Harding Park  \n",
       "3  Soundview-Castle Hill-Clason Point-Harding Park  \n",
       "4  Soundview-Castle Hill-Clason Point-Harding Park  "
      ]
     },
     "execution_count": 52,
     "metadata": {},
     "output_type": "execute_result"
    }
   ],
   "source": [
    "MHValue2013a.head()"
   ]
  },
  {
   "cell_type": "code",
   "execution_count": 53,
   "metadata": {
    "collapsed": false
   },
   "outputs": [],
   "source": [
    "MHValue2000b = (MHValue2000a.groupby(MHValue2000a['neighborhood']).median())\n",
    "MHValue2009b = (MHValue2009a.groupby(MHValue2009a['neighborhood']).median())\n",
    "MHValue2013b = (MHValue2013a.groupby(MHValue2013a['neighborhood']).median())"
   ]
  },
  {
   "cell_type": "code",
   "execution_count": 54,
   "metadata": {
    "collapsed": true
   },
   "outputs": [],
   "source": [
    "del MHValue2000b['Id2']\n",
    "del MHValue2009b['Id2']\n",
    "del MHValue2013b['Id2']"
   ]
  },
  {
   "cell_type": "code",
   "execution_count": 55,
   "metadata": {
    "collapsed": false
   },
   "outputs": [],
   "source": [
    "MHValues = pd.concat([MHValue2000b, MHValue2009b, MHValue2013b], axis=1)"
   ]
  },
  {
   "cell_type": "code",
   "execution_count": 56,
   "metadata": {
    "collapsed": false
   },
   "outputs": [],
   "source": [
    "MHValues['Dif2000-2009HV'] = (MHValues['Median value 2009'] - MHValues['Median value 2000'])/ MHValues['Median value 2000']\n",
    "MHValues['Dif2009-2013HV'] = (MHValues['Median value 2013'] - MHValues['Median value 2009'])/ MHValues['Median value 2009']"
   ]
  },
  {
   "cell_type": "code",
   "execution_count": 57,
   "metadata": {
    "collapsed": false
   },
   "outputs": [
    {
     "data": {
      "text/html": [
       "<div>\n",
       "<table border=\"1\" class=\"dataframe\">\n",
       "  <thead>\n",
       "    <tr style=\"text-align: right;\">\n",
       "      <th></th>\n",
       "      <th>Median value 2000</th>\n",
       "      <th>Median value 2009</th>\n",
       "      <th>Median value 2013</th>\n",
       "      <th>Dif2000-2009HV</th>\n",
       "      <th>Dif2009-2013HV</th>\n",
       "    </tr>\n",
       "  </thead>\n",
       "  <tbody>\n",
       "    <tr>\n",
       "      <th>Airport</th>\n",
       "      <td>0</td>\n",
       "      <td>NaN</td>\n",
       "      <td>NaN</td>\n",
       "      <td>NaN</td>\n",
       "      <td>NaN</td>\n",
       "    </tr>\n",
       "    <tr>\n",
       "      <th>Allerton-Pelham Gardens</th>\n",
       "      <td>225100</td>\n",
       "      <td>473200</td>\n",
       "      <td>450800</td>\n",
       "      <td>1.102177</td>\n",
       "      <td>-0.047337</td>\n",
       "    </tr>\n",
       "    <tr>\n",
       "      <th>Annadale-Huguenot-Prince's Bay-Eltingville</th>\n",
       "      <td>291900</td>\n",
       "      <td>544900</td>\n",
       "      <td>533400</td>\n",
       "      <td>0.866735</td>\n",
       "      <td>-0.021105</td>\n",
       "    </tr>\n",
       "    <tr>\n",
       "      <th>Arden Heights</th>\n",
       "      <td>200000</td>\n",
       "      <td>428450</td>\n",
       "      <td>411650</td>\n",
       "      <td>1.142250</td>\n",
       "      <td>-0.039211</td>\n",
       "    </tr>\n",
       "    <tr>\n",
       "      <th>Astoria</th>\n",
       "      <td>281000</td>\n",
       "      <td>625800</td>\n",
       "      <td>625000</td>\n",
       "      <td>1.227046</td>\n",
       "      <td>-0.001278</td>\n",
       "    </tr>\n",
       "  </tbody>\n",
       "</table>\n",
       "</div>"
      ],
      "text/plain": [
       "                                            Median value 2000  \\\n",
       "Airport                                                     0   \n",
       "Allerton-Pelham Gardens                                225100   \n",
       "Annadale-Huguenot-Prince's Bay-Eltingville             291900   \n",
       "Arden Heights                                          200000   \n",
       "Astoria                                                281000   \n",
       "\n",
       "                                            Median value 2009  \\\n",
       "Airport                                                   NaN   \n",
       "Allerton-Pelham Gardens                                473200   \n",
       "Annadale-Huguenot-Prince's Bay-Eltingville             544900   \n",
       "Arden Heights                                          428450   \n",
       "Astoria                                                625800   \n",
       "\n",
       "                                            Median value 2013  Dif2000-2009HV  \\\n",
       "Airport                                                   NaN             NaN   \n",
       "Allerton-Pelham Gardens                                450800        1.102177   \n",
       "Annadale-Huguenot-Prince's Bay-Eltingville             533400        0.866735   \n",
       "Arden Heights                                          411650        1.142250   \n",
       "Astoria                                                625000        1.227046   \n",
       "\n",
       "                                            Dif2009-2013HV  \n",
       "Airport                                                NaN  \n",
       "Allerton-Pelham Gardens                          -0.047337  \n",
       "Annadale-Huguenot-Prince's Bay-Eltingville       -0.021105  \n",
       "Arden Heights                                    -0.039211  \n",
       "Astoria                                          -0.001278  "
      ]
     },
     "execution_count": 57,
     "metadata": {},
     "output_type": "execute_result"
    }
   ],
   "source": [
    "MHValues.head()"
   ]
  },
  {
   "cell_type": "code",
   "execution_count": 58,
   "metadata": {
    "collapsed": false
   },
   "outputs": [
    {
     "data": {
      "text/plain": [
       "Index([u'Id2', u'Median household income 2000'], dtype='object')"
      ]
     },
     "execution_count": 58,
     "metadata": {},
     "output_type": "execute_result"
    }
   ],
   "source": [
    "MHIncome2000 = pd.read_excel('Median Housesold income 2000.xlsx')\n",
    "MHIncome2000.columns"
   ]
  },
  {
   "cell_type": "code",
   "execution_count": 59,
   "metadata": {
    "collapsed": false
   },
   "outputs": [
    {
     "data": {
      "text/plain": [
       "Index([u'Id2', u'Median household income 2009'], dtype='object')"
      ]
     },
     "execution_count": 59,
     "metadata": {},
     "output_type": "execute_result"
    }
   ],
   "source": [
    "MHIncome2009 = pd.read_excel('Median Housesold income 2009.xlsx')\n",
    "MHIncome2009.columns"
   ]
  },
  {
   "cell_type": "code",
   "execution_count": 60,
   "metadata": {
    "collapsed": false
   },
   "outputs": [
    {
     "data": {
      "text/plain": [
       "Index([u'Id2', u'Median household income 2013'], dtype='object')"
      ]
     },
     "execution_count": 60,
     "metadata": {},
     "output_type": "execute_result"
    }
   ],
   "source": [
    "MHIncome2013 = pd.read_excel('Median Housesold income 2013.xlsx')\n",
    "MHIncome2013.columns"
   ]
  },
  {
   "cell_type": "code",
   "execution_count": 61,
   "metadata": {
    "collapsed": true
   },
   "outputs": [],
   "source": [
    "MHIncome2000a = pd.merge(MHIncome2000, IDtoN, on='Id2')\n",
    "MHIncome2009a = pd.merge(MHIncome2009, IDtoN, on='Id2')\n",
    "MHIncome2013a = pd.merge(MHIncome2013, IDtoN, on='Id2')"
   ]
  },
  {
   "cell_type": "code",
   "execution_count": 62,
   "metadata": {
    "collapsed": false
   },
   "outputs": [
    {
     "data": {
      "text/html": [
       "<div>\n",
       "<table border=\"1\" class=\"dataframe\">\n",
       "  <thead>\n",
       "    <tr style=\"text-align: right;\">\n",
       "      <th></th>\n",
       "      <th>Id2</th>\n",
       "      <th>Median household income 2013</th>\n",
       "      <th>neighborhood</th>\n",
       "    </tr>\n",
       "  </thead>\n",
       "  <tbody>\n",
       "    <tr>\n",
       "      <th>0</th>\n",
       "      <td>36005000100</td>\n",
       "      <td>NaN</td>\n",
       "      <td>Rikers Island</td>\n",
       "    </tr>\n",
       "    <tr>\n",
       "      <th>1</th>\n",
       "      <td>36005000100</td>\n",
       "      <td>NaN</td>\n",
       "      <td>Rikers Island</td>\n",
       "    </tr>\n",
       "    <tr>\n",
       "      <th>2</th>\n",
       "      <td>36005000200</td>\n",
       "      <td>69514</td>\n",
       "      <td>Soundview-Castle Hill-Clason Point-Harding Park</td>\n",
       "    </tr>\n",
       "    <tr>\n",
       "      <th>3</th>\n",
       "      <td>36005000200</td>\n",
       "      <td>69514</td>\n",
       "      <td>Soundview-Castle Hill-Clason Point-Harding Park</td>\n",
       "    </tr>\n",
       "    <tr>\n",
       "      <th>4</th>\n",
       "      <td>36005000200</td>\n",
       "      <td>69514</td>\n",
       "      <td>Soundview-Castle Hill-Clason Point-Harding Park</td>\n",
       "    </tr>\n",
       "  </tbody>\n",
       "</table>\n",
       "</div>"
      ],
      "text/plain": [
       "           Id2  Median household income 2013  \\\n",
       "0  36005000100                           NaN   \n",
       "1  36005000100                           NaN   \n",
       "2  36005000200                         69514   \n",
       "3  36005000200                         69514   \n",
       "4  36005000200                         69514   \n",
       "\n",
       "                                      neighborhood  \n",
       "0                                    Rikers Island  \n",
       "1                                    Rikers Island  \n",
       "2  Soundview-Castle Hill-Clason Point-Harding Park  \n",
       "3  Soundview-Castle Hill-Clason Point-Harding Park  \n",
       "4  Soundview-Castle Hill-Clason Point-Harding Park  "
      ]
     },
     "execution_count": 62,
     "metadata": {},
     "output_type": "execute_result"
    }
   ],
   "source": [
    "MHIncome2013a.head()"
   ]
  },
  {
   "cell_type": "code",
   "execution_count": 63,
   "metadata": {
    "collapsed": true
   },
   "outputs": [],
   "source": [
    "MHIncome2000b = (MHIncome2000a.groupby(MHIncome2000a['neighborhood']).median())\n",
    "MHIncome2009b = (MHIncome2009a.groupby(MHIncome2009a['neighborhood']).median())\n",
    "MHIncome2013b = (MHIncome2013a.groupby(MHIncome2013a['neighborhood']).median())"
   ]
  },
  {
   "cell_type": "code",
   "execution_count": 64,
   "metadata": {
    "collapsed": false
   },
   "outputs": [],
   "source": [
    "del MHIncome2000b['Id2']\n",
    "del MHIncome2009b['Id2']\n",
    "del MHIncome2013b['Id2']"
   ]
  },
  {
   "cell_type": "code",
   "execution_count": 65,
   "metadata": {
    "collapsed": true
   },
   "outputs": [],
   "source": [
    "MHIncome = pd.concat([MHIncome2000b, MHIncome2009b, MHIncome2013b], axis=1)"
   ]
  },
  {
   "cell_type": "code",
   "execution_count": 66,
   "metadata": {
    "collapsed": false
   },
   "outputs": [],
   "source": [
    "MHIncome['Dif2000-2009HI'] = (MHIncome['Median household income 2009'] - MHIncome['Median household income 2000'])/ MHIncome['Median household income 2000']\n",
    "MHIncome['Dif2009-2013HI'] = (MHIncome['Median household income 2013'] - MHIncome['Median household income 2009'])/ MHIncome['Median household income 2009']"
   ]
  },
  {
   "cell_type": "code",
   "execution_count": 67,
   "metadata": {
    "collapsed": false
   },
   "outputs": [
    {
     "data": {
      "text/html": [
       "<div>\n",
       "<table border=\"1\" class=\"dataframe\">\n",
       "  <thead>\n",
       "    <tr style=\"text-align: right;\">\n",
       "      <th></th>\n",
       "      <th>Median household income 2000</th>\n",
       "      <th>Median household income 2009</th>\n",
       "      <th>Median household income 2013</th>\n",
       "      <th>Dif2000-2009HI</th>\n",
       "      <th>Dif2009-2013HI</th>\n",
       "    </tr>\n",
       "  </thead>\n",
       "  <tbody>\n",
       "    <tr>\n",
       "      <th>Airport</th>\n",
       "      <td>0.0</td>\n",
       "      <td>NaN</td>\n",
       "      <td>NaN</td>\n",
       "      <td>NaN</td>\n",
       "      <td>NaN</td>\n",
       "    </tr>\n",
       "    <tr>\n",
       "      <th>Allerton-Pelham Gardens</th>\n",
       "      <td>52386.0</td>\n",
       "      <td>78400</td>\n",
       "      <td>62596</td>\n",
       "      <td>0.496583</td>\n",
       "      <td>-0.201582</td>\n",
       "    </tr>\n",
       "    <tr>\n",
       "      <th>Annadale-Huguenot-Prince's Bay-Eltingville</th>\n",
       "      <td>72863.0</td>\n",
       "      <td>98426</td>\n",
       "      <td>82950</td>\n",
       "      <td>0.350837</td>\n",
       "      <td>-0.157235</td>\n",
       "    </tr>\n",
       "    <tr>\n",
       "      <th>Arden Heights</th>\n",
       "      <td>68589.5</td>\n",
       "      <td>85484</td>\n",
       "      <td>92218</td>\n",
       "      <td>0.246313</td>\n",
       "      <td>0.078775</td>\n",
       "    </tr>\n",
       "    <tr>\n",
       "      <th>Astoria</th>\n",
       "      <td>35769.0</td>\n",
       "      <td>51394</td>\n",
       "      <td>54211</td>\n",
       "      <td>0.436831</td>\n",
       "      <td>0.054812</td>\n",
       "    </tr>\n",
       "  </tbody>\n",
       "</table>\n",
       "</div>"
      ],
      "text/plain": [
       "                                            Median household income 2000  \\\n",
       "Airport                                                              0.0   \n",
       "Allerton-Pelham Gardens                                          52386.0   \n",
       "Annadale-Huguenot-Prince's Bay-Eltingville                       72863.0   \n",
       "Arden Heights                                                    68589.5   \n",
       "Astoria                                                          35769.0   \n",
       "\n",
       "                                            Median household income 2009  \\\n",
       "Airport                                                              NaN   \n",
       "Allerton-Pelham Gardens                                            78400   \n",
       "Annadale-Huguenot-Prince's Bay-Eltingville                         98426   \n",
       "Arden Heights                                                      85484   \n",
       "Astoria                                                            51394   \n",
       "\n",
       "                                            Median household income 2013  \\\n",
       "Airport                                                              NaN   \n",
       "Allerton-Pelham Gardens                                            62596   \n",
       "Annadale-Huguenot-Prince's Bay-Eltingville                         82950   \n",
       "Arden Heights                                                      92218   \n",
       "Astoria                                                            54211   \n",
       "\n",
       "                                            Dif2000-2009HI  Dif2009-2013HI  \n",
       "Airport                                                NaN             NaN  \n",
       "Allerton-Pelham Gardens                           0.496583       -0.201582  \n",
       "Annadale-Huguenot-Prince's Bay-Eltingville        0.350837       -0.157235  \n",
       "Arden Heights                                     0.246313        0.078775  \n",
       "Astoria                                           0.436831        0.054812  "
      ]
     },
     "execution_count": 67,
     "metadata": {},
     "output_type": "execute_result"
    }
   ],
   "source": [
    "MHIncome.head()"
   ]
  },
  {
   "cell_type": "code",
   "execution_count": 68,
   "metadata": {
    "collapsed": false
   },
   "outputs": [
    {
     "data": {
      "text/plain": [
       "Index([u'Id2', u'Total', u'White alone 2000'], dtype='object')"
      ]
     },
     "execution_count": 68,
     "metadata": {},
     "output_type": "execute_result"
    }
   ],
   "source": [
    "Prace2000 = pd.read_excel('Population by race 2000.xlsx')\n",
    "Prace2000.columns"
   ]
  },
  {
   "cell_type": "code",
   "execution_count": 69,
   "metadata": {
    "collapsed": false
   },
   "outputs": [
    {
     "data": {
      "text/plain": [
       "Index([u'Id2', u'Total', u'White alone 2009'], dtype='object')"
      ]
     },
     "execution_count": 69,
     "metadata": {},
     "output_type": "execute_result"
    }
   ],
   "source": [
    "Prace2009 = pd.read_excel('Population by race 2010.xlsx')\n",
    "Prace2009.columns"
   ]
  },
  {
   "cell_type": "code",
   "execution_count": 70,
   "metadata": {
    "collapsed": false
   },
   "outputs": [
    {
     "data": {
      "text/plain": [
       "Index([u'Id2', u'Total', u'White alone 2013'], dtype='object')"
      ]
     },
     "execution_count": 70,
     "metadata": {},
     "output_type": "execute_result"
    }
   ],
   "source": [
    "Prace2013 = pd.read_excel('Population by race 2013.xlsx')\n",
    "Prace2013.columns"
   ]
  },
  {
   "cell_type": "code",
   "execution_count": 71,
   "metadata": {
    "collapsed": true
   },
   "outputs": [],
   "source": [
    "Prace2000a = pd.merge(Prace2000, IDtoN, on='Id2')\n",
    "Prace2009a = pd.merge(Prace2009, IDtoN, on='Id2')\n",
    "Prace2013a = pd.merge(Prace2013, IDtoN, on='Id2')"
   ]
  },
  {
   "cell_type": "code",
   "execution_count": 72,
   "metadata": {
    "collapsed": false
   },
   "outputs": [
    {
     "data": {
      "text/html": [
       "<div>\n",
       "<table border=\"1\" class=\"dataframe\">\n",
       "  <thead>\n",
       "    <tr style=\"text-align: right;\">\n",
       "      <th></th>\n",
       "      <th>Id2</th>\n",
       "      <th>Total</th>\n",
       "      <th>White alone 2013</th>\n",
       "      <th>neighborhood</th>\n",
       "    </tr>\n",
       "  </thead>\n",
       "  <tbody>\n",
       "    <tr>\n",
       "      <th>0</th>\n",
       "      <td>36005000100</td>\n",
       "      <td>9191</td>\n",
       "      <td>1361</td>\n",
       "      <td>Rikers Island</td>\n",
       "    </tr>\n",
       "    <tr>\n",
       "      <th>1</th>\n",
       "      <td>36005000100</td>\n",
       "      <td>9191</td>\n",
       "      <td>1361</td>\n",
       "      <td>Rikers Island</td>\n",
       "    </tr>\n",
       "    <tr>\n",
       "      <th>2</th>\n",
       "      <td>36005000200</td>\n",
       "      <td>4858</td>\n",
       "      <td>1352</td>\n",
       "      <td>Soundview-Castle Hill-Clason Point-Harding Park</td>\n",
       "    </tr>\n",
       "    <tr>\n",
       "      <th>3</th>\n",
       "      <td>36005000200</td>\n",
       "      <td>4858</td>\n",
       "      <td>1352</td>\n",
       "      <td>Soundview-Castle Hill-Clason Point-Harding Park</td>\n",
       "    </tr>\n",
       "    <tr>\n",
       "      <th>4</th>\n",
       "      <td>36005000200</td>\n",
       "      <td>4858</td>\n",
       "      <td>1352</td>\n",
       "      <td>Soundview-Castle Hill-Clason Point-Harding Park</td>\n",
       "    </tr>\n",
       "  </tbody>\n",
       "</table>\n",
       "</div>"
      ],
      "text/plain": [
       "           Id2  Total  White alone 2013  \\\n",
       "0  36005000100   9191              1361   \n",
       "1  36005000100   9191              1361   \n",
       "2  36005000200   4858              1352   \n",
       "3  36005000200   4858              1352   \n",
       "4  36005000200   4858              1352   \n",
       "\n",
       "                                      neighborhood  \n",
       "0                                    Rikers Island  \n",
       "1                                    Rikers Island  \n",
       "2  Soundview-Castle Hill-Clason Point-Harding Park  \n",
       "3  Soundview-Castle Hill-Clason Point-Harding Park  \n",
       "4  Soundview-Castle Hill-Clason Point-Harding Park  "
      ]
     },
     "execution_count": 72,
     "metadata": {},
     "output_type": "execute_result"
    }
   ],
   "source": [
    "Prace2013a.head()"
   ]
  },
  {
   "cell_type": "code",
   "execution_count": 73,
   "metadata": {
    "collapsed": true
   },
   "outputs": [],
   "source": [
    "Prace2000b = (Prace2000a.groupby(Prace2000a['neighborhood']).sum())\n",
    "Prace2009b = (Prace2009a.groupby(Prace2009a['neighborhood']).sum())\n",
    "Prace2013b = (Prace2013a.groupby(Prace2013a['neighborhood']).sum())"
   ]
  },
  {
   "cell_type": "code",
   "execution_count": 74,
   "metadata": {
    "collapsed": true
   },
   "outputs": [],
   "source": [
    "del Prace2000b['Id2']\n",
    "del Prace2009b['Id2']\n",
    "del Prace2013b['Id2']"
   ]
  },
  {
   "cell_type": "code",
   "execution_count": 75,
   "metadata": {
    "collapsed": true
   },
   "outputs": [],
   "source": [
    "Prace = pd.concat([Prace2000b, Prace2009b, Prace2013b], axis=1)"
   ]
  },
  {
   "cell_type": "code",
   "execution_count": 76,
   "metadata": {
    "collapsed": true
   },
   "outputs": [],
   "source": [
    "Prace['Dif2000-2009Pr'] = (Prace['White alone 2009'] - Prace['White alone 2000'])/ Prace['White alone 2000']\n",
    "Prace['Dif2009-2013Pr'] = (Prace['White alone 2013'] - Prace['White alone 2009'])/ Prace['White alone 2009']"
   ]
  },
  {
   "cell_type": "code",
   "execution_count": 77,
   "metadata": {
    "collapsed": false
   },
   "outputs": [
    {
     "data": {
      "text/html": [
       "<div>\n",
       "<table border=\"1\" class=\"dataframe\">\n",
       "  <thead>\n",
       "    <tr style=\"text-align: right;\">\n",
       "      <th></th>\n",
       "      <th>Total</th>\n",
       "      <th>White alone 2000</th>\n",
       "      <th>Total</th>\n",
       "      <th>White alone 2009</th>\n",
       "      <th>Total</th>\n",
       "      <th>White alone 2013</th>\n",
       "      <th>Dif2000-2009Pr</th>\n",
       "      <th>Dif2009-2013Pr</th>\n",
       "    </tr>\n",
       "  </thead>\n",
       "  <tbody>\n",
       "    <tr>\n",
       "      <th>Airport</th>\n",
       "      <td>28</td>\n",
       "      <td>20</td>\n",
       "      <td>0</td>\n",
       "      <td>0</td>\n",
       "      <td>0</td>\n",
       "      <td>0</td>\n",
       "      <td>-1.000000</td>\n",
       "      <td>NaN</td>\n",
       "    </tr>\n",
       "    <tr>\n",
       "      <th>Allerton-Pelham Gardens</th>\n",
       "      <td>37118</td>\n",
       "      <td>20851</td>\n",
       "      <td>80339</td>\n",
       "      <td>29411</td>\n",
       "      <td>92196</td>\n",
       "      <td>29060</td>\n",
       "      <td>0.410532</td>\n",
       "      <td>-0.011934</td>\n",
       "    </tr>\n",
       "    <tr>\n",
       "      <th>Annadale-Huguenot-Prince's Bay-Eltingville</th>\n",
       "      <td>41232</td>\n",
       "      <td>39282</td>\n",
       "      <td>88689</td>\n",
       "      <td>82382</td>\n",
       "      <td>91222</td>\n",
       "      <td>86611</td>\n",
       "      <td>1.097195</td>\n",
       "      <td>0.051334</td>\n",
       "    </tr>\n",
       "    <tr>\n",
       "      <th>Arden Heights</th>\n",
       "      <td>81260</td>\n",
       "      <td>74054</td>\n",
       "      <td>79329</td>\n",
       "      <td>70636</td>\n",
       "      <td>77467</td>\n",
       "      <td>71267</td>\n",
       "      <td>-0.046156</td>\n",
       "      <td>0.008933</td>\n",
       "    </tr>\n",
       "    <tr>\n",
       "      <th>Astoria</th>\n",
       "      <td>231863</td>\n",
       "      <td>137099</td>\n",
       "      <td>227249</td>\n",
       "      <td>143342</td>\n",
       "      <td>217058</td>\n",
       "      <td>156207</td>\n",
       "      <td>0.045536</td>\n",
       "      <td>0.089750</td>\n",
       "    </tr>\n",
       "  </tbody>\n",
       "</table>\n",
       "</div>"
      ],
      "text/plain": [
       "                                             Total  White alone 2000   Total  \\\n",
       "Airport                                         28                20       0   \n",
       "Allerton-Pelham Gardens                      37118             20851   80339   \n",
       "Annadale-Huguenot-Prince's Bay-Eltingville   41232             39282   88689   \n",
       "Arden Heights                                81260             74054   79329   \n",
       "Astoria                                     231863            137099  227249   \n",
       "\n",
       "                                            White alone 2009   Total  \\\n",
       "Airport                                                    0       0   \n",
       "Allerton-Pelham Gardens                                29411   92196   \n",
       "Annadale-Huguenot-Prince's Bay-Eltingville             82382   91222   \n",
       "Arden Heights                                          70636   77467   \n",
       "Astoria                                               143342  217058   \n",
       "\n",
       "                                            White alone 2013  Dif2000-2009Pr  \\\n",
       "Airport                                                    0       -1.000000   \n",
       "Allerton-Pelham Gardens                                29060        0.410532   \n",
       "Annadale-Huguenot-Prince's Bay-Eltingville             86611        1.097195   \n",
       "Arden Heights                                          71267       -0.046156   \n",
       "Astoria                                               156207        0.045536   \n",
       "\n",
       "                                            Dif2009-2013Pr  \n",
       "Airport                                                NaN  \n",
       "Allerton-Pelham Gardens                          -0.011934  \n",
       "Annadale-Huguenot-Prince's Bay-Eltingville        0.051334  \n",
       "Arden Heights                                     0.008933  \n",
       "Astoria                                           0.089750  "
      ]
     },
     "execution_count": 77,
     "metadata": {},
     "output_type": "execute_result"
    }
   ],
   "source": [
    "Prace.head()"
   ]
  },
  {
   "cell_type": "code",
   "execution_count": 78,
   "metadata": {
    "collapsed": false
   },
   "outputs": [
    {
     "data": {
      "text/plain": [
       "Index([u'Id2', u'Total', u'Income below poverty level 2000'], dtype='object')"
      ]
     },
     "execution_count": 78,
     "metadata": {},
     "output_type": "execute_result"
    }
   ],
   "source": [
    "Pov2000 = pd.read_excel('Poverty 2000.xlsx')\n",
    "Pov2000.columns"
   ]
  },
  {
   "cell_type": "code",
   "execution_count": 79,
   "metadata": {
    "collapsed": false
   },
   "outputs": [
    {
     "data": {
      "text/plain": [
       "Index([u'Id2', u'Total', u'Income below poverty level 2009'], dtype='object')"
      ]
     },
     "execution_count": 79,
     "metadata": {},
     "output_type": "execute_result"
    }
   ],
   "source": [
    "Pov2009 = pd.read_excel('Poverty 2009.xlsx')\n",
    "Pov2009.columns"
   ]
  },
  {
   "cell_type": "code",
   "execution_count": 80,
   "metadata": {
    "collapsed": false
   },
   "outputs": [
    {
     "data": {
      "text/plain": [
       "Index([u'Id2', u'Total', u'Income below poverty level 2013'], dtype='object')"
      ]
     },
     "execution_count": 80,
     "metadata": {},
     "output_type": "execute_result"
    }
   ],
   "source": [
    "Pov2013= pd.read_excel('Poverty 2013.xlsx')\n",
    "Pov2013.columns"
   ]
  },
  {
   "cell_type": "code",
   "execution_count": 81,
   "metadata": {
    "collapsed": true
   },
   "outputs": [],
   "source": [
    "Pov2000a = pd.merge(Pov2000, IDtoN, on='Id2')\n",
    "Pov2009a = pd.merge(Pov2009, IDtoN, on='Id2')\n",
    "Pov2013a = pd.merge(Pov2013, IDtoN, on='Id2')"
   ]
  },
  {
   "cell_type": "code",
   "execution_count": 82,
   "metadata": {
    "collapsed": true
   },
   "outputs": [],
   "source": [
    "Pov2000b = (Pov2000a.groupby(Pov2000a['neighborhood']).sum())\n",
    "Pov2009b = (Pov2009a.groupby(Pov2009a['neighborhood']).sum())\n",
    "Pov2013b = (Pov2013a.groupby(Pov2013a['neighborhood']).sum())"
   ]
  },
  {
   "cell_type": "code",
   "execution_count": 83,
   "metadata": {
    "collapsed": true
   },
   "outputs": [],
   "source": [
    "del Pov2000b['Id2']\n",
    "del Pov2009b['Id2']\n",
    "del Pov2013b['Id2']"
   ]
  },
  {
   "cell_type": "code",
   "execution_count": 84,
   "metadata": {
    "collapsed": false
   },
   "outputs": [],
   "source": [
    "Pov = pd.concat([Pov2000b, Pov2009b, Pov2013b], axis=1)"
   ]
  },
  {
   "cell_type": "code",
   "execution_count": 85,
   "metadata": {
    "collapsed": true
   },
   "outputs": [],
   "source": [
    "Pov['Dif2000-2009Pv'] = (Pov['Income below poverty level 2009'] - Pov['Income below poverty level 2000'])/ Pov['Income below poverty level 2000']\n",
    "Pov['Dif2009-2013Pv'] = (Pov['Income below poverty level 2013'] - Pov['Income below poverty level 2009'])/ Pov['Income below poverty level 2009']"
   ]
  },
  {
   "cell_type": "code",
   "execution_count": 86,
   "metadata": {
    "collapsed": false
   },
   "outputs": [
    {
     "data": {
      "text/html": [
       "<div>\n",
       "<table border=\"1\" class=\"dataframe\">\n",
       "  <thead>\n",
       "    <tr style=\"text-align: right;\">\n",
       "      <th></th>\n",
       "      <th>Total</th>\n",
       "      <th>Income below poverty level 2000</th>\n",
       "      <th>Total</th>\n",
       "      <th>Income below poverty level 2009</th>\n",
       "      <th>Total</th>\n",
       "      <th>Income below poverty level 2013</th>\n",
       "      <th>Dif2000-2009Pv</th>\n",
       "      <th>Dif2009-2013Pv</th>\n",
       "    </tr>\n",
       "  </thead>\n",
       "  <tbody>\n",
       "    <tr>\n",
       "      <th>Airport</th>\n",
       "      <td>30</td>\n",
       "      <td>0</td>\n",
       "      <td>9</td>\n",
       "      <td>9</td>\n",
       "      <td>0</td>\n",
       "      <td>0</td>\n",
       "      <td>inf</td>\n",
       "      <td>-1.000000</td>\n",
       "    </tr>\n",
       "    <tr>\n",
       "      <th>Allerton-Pelham Gardens</th>\n",
       "      <td>33442</td>\n",
       "      <td>2709</td>\n",
       "      <td>41670</td>\n",
       "      <td>3678</td>\n",
       "      <td>87284</td>\n",
       "      <td>13105</td>\n",
       "      <td>0.357697</td>\n",
       "      <td>2.563078</td>\n",
       "    </tr>\n",
       "    <tr>\n",
       "      <th>Annadale-Huguenot-Prince's Bay-Eltingville</th>\n",
       "      <td>41256</td>\n",
       "      <td>1512</td>\n",
       "      <td>43114</td>\n",
       "      <td>1030</td>\n",
       "      <td>91086</td>\n",
       "      <td>5908</td>\n",
       "      <td>-0.318783</td>\n",
       "      <td>4.735922</td>\n",
       "    </tr>\n",
       "    <tr>\n",
       "      <th>Arden Heights</th>\n",
       "      <td>81310</td>\n",
       "      <td>3015</td>\n",
       "      <td>83998</td>\n",
       "      <td>5497</td>\n",
       "      <td>77335</td>\n",
       "      <td>4399</td>\n",
       "      <td>0.823217</td>\n",
       "      <td>-0.199745</td>\n",
       "    </tr>\n",
       "    <tr>\n",
       "      <th>Astoria</th>\n",
       "      <td>230822</td>\n",
       "      <td>44907</td>\n",
       "      <td>210687</td>\n",
       "      <td>30603</td>\n",
       "      <td>216933</td>\n",
       "      <td>37231</td>\n",
       "      <td>-0.318525</td>\n",
       "      <td>0.216580</td>\n",
       "    </tr>\n",
       "  </tbody>\n",
       "</table>\n",
       "</div>"
      ],
      "text/plain": [
       "                                             Total  \\\n",
       "Airport                                         30   \n",
       "Allerton-Pelham Gardens                      33442   \n",
       "Annadale-Huguenot-Prince's Bay-Eltingville   41256   \n",
       "Arden Heights                                81310   \n",
       "Astoria                                     230822   \n",
       "\n",
       "                                            Income below poverty level 2000  \\\n",
       "Airport                                                                   0   \n",
       "Allerton-Pelham Gardens                                                2709   \n",
       "Annadale-Huguenot-Prince's Bay-Eltingville                             1512   \n",
       "Arden Heights                                                          3015   \n",
       "Astoria                                                               44907   \n",
       "\n",
       "                                             Total  \\\n",
       "Airport                                          9   \n",
       "Allerton-Pelham Gardens                      41670   \n",
       "Annadale-Huguenot-Prince's Bay-Eltingville   43114   \n",
       "Arden Heights                                83998   \n",
       "Astoria                                     210687   \n",
       "\n",
       "                                            Income below poverty level 2009  \\\n",
       "Airport                                                                   9   \n",
       "Allerton-Pelham Gardens                                                3678   \n",
       "Annadale-Huguenot-Prince's Bay-Eltingville                             1030   \n",
       "Arden Heights                                                          5497   \n",
       "Astoria                                                               30603   \n",
       "\n",
       "                                             Total  \\\n",
       "Airport                                          0   \n",
       "Allerton-Pelham Gardens                      87284   \n",
       "Annadale-Huguenot-Prince's Bay-Eltingville   91086   \n",
       "Arden Heights                                77335   \n",
       "Astoria                                     216933   \n",
       "\n",
       "                                            Income below poverty level 2013  \\\n",
       "Airport                                                                   0   \n",
       "Allerton-Pelham Gardens                                               13105   \n",
       "Annadale-Huguenot-Prince's Bay-Eltingville                             5908   \n",
       "Arden Heights                                                          4399   \n",
       "Astoria                                                               37231   \n",
       "\n",
       "                                            Dif2000-2009Pv  Dif2009-2013Pv  \n",
       "Airport                                                inf       -1.000000  \n",
       "Allerton-Pelham Gardens                           0.357697        2.563078  \n",
       "Annadale-Huguenot-Prince's Bay-Eltingville       -0.318783        4.735922  \n",
       "Arden Heights                                     0.823217       -0.199745  \n",
       "Astoria                                          -0.318525        0.216580  "
      ]
     },
     "execution_count": 86,
     "metadata": {},
     "output_type": "execute_result"
    }
   ],
   "source": [
    "Pov.head()"
   ]
  },
  {
   "cell_type": "code",
   "execution_count": 87,
   "metadata": {
    "collapsed": false
   },
   "outputs": [],
   "source": [
    "Total = pd.concat([Education, HouseMR, MHValues, MHIncome, Prace, Pov], axis=1)"
   ]
  },
  {
   "cell_type": "code",
   "execution_count": 88,
   "metadata": {
    "collapsed": false
   },
   "outputs": [
    {
     "data": {
      "text/plain": [
       "Index([                          u'Total',                     u'Totbach2000',\n",
       "                                 u'Total',                     u'Totbach2009',\n",
       "                                u' Total',                     u'Totbach2013',\n",
       "                       u'Dif2000-2009Bch',                 u'Dif2009-2013Bch',\n",
       "                      u'Median Rent 2000',                u'Median Rent 2010',\n",
       "                      u'Median Rent 2013',                   u'Dif2000-2009R',\n",
       "                         u'Dif2009-2013R',               u'Median value 2000',\n",
       "                     u'Median value 2009',               u'Median value 2013',\n",
       "                        u'Dif2000-2009HV',                  u'Dif2009-2013HV',\n",
       "          u'Median household income 2000',    u'Median household income 2009',\n",
       "          u'Median household income 2013',                  u'Dif2000-2009HI',\n",
       "                        u'Dif2009-2013HI',                           u'Total',\n",
       "                      u'White alone 2000',                           u'Total',\n",
       "                      u'White alone 2009',                           u'Total',\n",
       "                      u'White alone 2013',                  u'Dif2000-2009Pr',\n",
       "                        u'Dif2009-2013Pr',                           u'Total',\n",
       "       u'Income below poverty level 2000',                           u'Total',\n",
       "       u'Income below poverty level 2009',                           u'Total',\n",
       "       u'Income below poverty level 2013',                  u'Dif2000-2009Pv',\n",
       "                        u'Dif2009-2013Pv'],\n",
       "      dtype='object')"
      ]
     },
     "execution_count": 88,
     "metadata": {},
     "output_type": "execute_result"
    }
   ],
   "source": [
    "Total.columns"
   ]
  },
  {
   "cell_type": "code",
   "execution_count": 89,
   "metadata": {
    "collapsed": false
   },
   "outputs": [],
   "source": [
    "Totala = Total.drop(['Total', 'Totbach2000', 'Total', 'Totbach2009', ' Total', 'Totbach2013', 'Median Rent 2000', \\\n",
    "                     'Median Rent 2010', 'Median Rent 2013', 'Median value 2000', 'Median value 2009', 'Median value 2013',\\\n",
    "                     'Median household income 2000', 'Median household income 2009', 'Median household income 2013', 'Total',\\\n",
    "                     'White alone 2000', 'Total', 'White alone 2009', 'Total', 'White alone 2013', 'Total', \\\n",
    "                     'Income below poverty level 2000', 'Total', 'Income below poverty level 2009', 'Total', 'Income below poverty level 2013'],\\\n",
    "                     axis=1)"
   ]
  },
  {
   "cell_type": "code",
   "execution_count": 90,
   "metadata": {
    "collapsed": false
   },
   "outputs": [
    {
     "data": {
      "text/plain": [
       "Index([u'Dif2000-2009Bch', u'Dif2009-2013Bch', u'Dif2000-2009R',\n",
       "       u'Dif2009-2013R', u'Dif2000-2009HV', u'Dif2009-2013HV',\n",
       "       u'Dif2000-2009HI', u'Dif2009-2013HI', u'Dif2000-2009Pr',\n",
       "       u'Dif2009-2013Pr', u'Dif2000-2009Pv', u'Dif2009-2013Pv'],\n",
       "      dtype='object')"
      ]
     },
     "execution_count": 90,
     "metadata": {},
     "output_type": "execute_result"
    }
   ],
   "source": [
    "Totala.columns"
   ]
  },
  {
   "cell_type": "code",
   "execution_count": 91,
   "metadata": {
    "collapsed": false
   },
   "outputs": [
    {
     "data": {
      "text/html": [
       "<div>\n",
       "<table border=\"1\" class=\"dataframe\">\n",
       "  <thead>\n",
       "    <tr style=\"text-align: right;\">\n",
       "      <th></th>\n",
       "      <th>Dif2000-2009Bch</th>\n",
       "      <th>Dif2009-2013Bch</th>\n",
       "      <th>Dif2000-2009R</th>\n",
       "      <th>Dif2009-2013R</th>\n",
       "      <th>Dif2000-2009HV</th>\n",
       "      <th>Dif2009-2013HV</th>\n",
       "      <th>Dif2000-2009HI</th>\n",
       "      <th>Dif2009-2013HI</th>\n",
       "      <th>Dif2000-2009Pr</th>\n",
       "      <th>Dif2009-2013Pr</th>\n",
       "      <th>Dif2000-2009Pv</th>\n",
       "      <th>Dif2009-2013Pv</th>\n",
       "    </tr>\n",
       "  </thead>\n",
       "  <tbody>\n",
       "    <tr>\n",
       "      <th>Airport</th>\n",
       "      <td>inf</td>\n",
       "      <td>-1.000000</td>\n",
       "      <td>NaN</td>\n",
       "      <td>NaN</td>\n",
       "      <td>NaN</td>\n",
       "      <td>NaN</td>\n",
       "      <td>NaN</td>\n",
       "      <td>NaN</td>\n",
       "      <td>-1.000000</td>\n",
       "      <td>NaN</td>\n",
       "      <td>inf</td>\n",
       "      <td>-1.000000</td>\n",
       "    </tr>\n",
       "    <tr>\n",
       "      <th>Allerton-Pelham Gardens</th>\n",
       "      <td>0.470703</td>\n",
       "      <td>0.787137</td>\n",
       "      <td>0.602190</td>\n",
       "      <td>0.033409</td>\n",
       "      <td>1.102177</td>\n",
       "      <td>-0.047337</td>\n",
       "      <td>0.496583</td>\n",
       "      <td>-0.201582</td>\n",
       "      <td>0.410532</td>\n",
       "      <td>-0.011934</td>\n",
       "      <td>0.357697</td>\n",
       "      <td>2.563078</td>\n",
       "    </tr>\n",
       "    <tr>\n",
       "      <th>Annadale-Huguenot-Prince's Bay-Eltingville</th>\n",
       "      <td>0.131504</td>\n",
       "      <td>1.629599</td>\n",
       "      <td>0.506188</td>\n",
       "      <td>0.178307</td>\n",
       "      <td>0.866735</td>\n",
       "      <td>-0.021105</td>\n",
       "      <td>0.350837</td>\n",
       "      <td>-0.157235</td>\n",
       "      <td>1.097195</td>\n",
       "      <td>0.051334</td>\n",
       "      <td>-0.318783</td>\n",
       "      <td>4.735922</td>\n",
       "    </tr>\n",
       "    <tr>\n",
       "      <th>Arden Heights</th>\n",
       "      <td>0.376385</td>\n",
       "      <td>0.109459</td>\n",
       "      <td>0.555834</td>\n",
       "      <td>-0.068548</td>\n",
       "      <td>1.142250</td>\n",
       "      <td>-0.039211</td>\n",
       "      <td>0.246313</td>\n",
       "      <td>0.078775</td>\n",
       "      <td>-0.046156</td>\n",
       "      <td>0.008933</td>\n",
       "      <td>0.823217</td>\n",
       "      <td>-0.199745</td>\n",
       "    </tr>\n",
       "    <tr>\n",
       "      <th>Astoria</th>\n",
       "      <td>0.496104</td>\n",
       "      <td>0.074744</td>\n",
       "      <td>0.557545</td>\n",
       "      <td>0.149425</td>\n",
       "      <td>1.227046</td>\n",
       "      <td>-0.001278</td>\n",
       "      <td>0.436831</td>\n",
       "      <td>0.054812</td>\n",
       "      <td>0.045536</td>\n",
       "      <td>0.089750</td>\n",
       "      <td>-0.318525</td>\n",
       "      <td>0.216580</td>\n",
       "    </tr>\n",
       "  </tbody>\n",
       "</table>\n",
       "</div>"
      ],
      "text/plain": [
       "                                            Dif2000-2009Bch  Dif2009-2013Bch  \\\n",
       "Airport                                                 inf        -1.000000   \n",
       "Allerton-Pelham Gardens                            0.470703         0.787137   \n",
       "Annadale-Huguenot-Prince's Bay-Eltingville         0.131504         1.629599   \n",
       "Arden Heights                                      0.376385         0.109459   \n",
       "Astoria                                            0.496104         0.074744   \n",
       "\n",
       "                                            Dif2000-2009R  Dif2009-2013R  \\\n",
       "Airport                                               NaN            NaN   \n",
       "Allerton-Pelham Gardens                          0.602190       0.033409   \n",
       "Annadale-Huguenot-Prince's Bay-Eltingville       0.506188       0.178307   \n",
       "Arden Heights                                    0.555834      -0.068548   \n",
       "Astoria                                          0.557545       0.149425   \n",
       "\n",
       "                                            Dif2000-2009HV  Dif2009-2013HV  \\\n",
       "Airport                                                NaN             NaN   \n",
       "Allerton-Pelham Gardens                           1.102177       -0.047337   \n",
       "Annadale-Huguenot-Prince's Bay-Eltingville        0.866735       -0.021105   \n",
       "Arden Heights                                     1.142250       -0.039211   \n",
       "Astoria                                           1.227046       -0.001278   \n",
       "\n",
       "                                            Dif2000-2009HI  Dif2009-2013HI  \\\n",
       "Airport                                                NaN             NaN   \n",
       "Allerton-Pelham Gardens                           0.496583       -0.201582   \n",
       "Annadale-Huguenot-Prince's Bay-Eltingville        0.350837       -0.157235   \n",
       "Arden Heights                                     0.246313        0.078775   \n",
       "Astoria                                           0.436831        0.054812   \n",
       "\n",
       "                                            Dif2000-2009Pr  Dif2009-2013Pr  \\\n",
       "Airport                                          -1.000000             NaN   \n",
       "Allerton-Pelham Gardens                           0.410532       -0.011934   \n",
       "Annadale-Huguenot-Prince's Bay-Eltingville        1.097195        0.051334   \n",
       "Arden Heights                                    -0.046156        0.008933   \n",
       "Astoria                                           0.045536        0.089750   \n",
       "\n",
       "                                            Dif2000-2009Pv  Dif2009-2013Pv  \n",
       "Airport                                                inf       -1.000000  \n",
       "Allerton-Pelham Gardens                           0.357697        2.563078  \n",
       "Annadale-Huguenot-Prince's Bay-Eltingville       -0.318783        4.735922  \n",
       "Arden Heights                                     0.823217       -0.199745  \n",
       "Astoria                                          -0.318525        0.216580  "
      ]
     },
     "execution_count": 91,
     "metadata": {},
     "output_type": "execute_result"
    }
   ],
   "source": [
    "Totala.head()"
   ]
  },
  {
   "cell_type": "code",
   "execution_count": 92,
   "metadata": {
    "collapsed": false
   },
   "outputs": [
    {
     "name": "stderr",
     "output_type": "stream",
     "text": [
      "C:\\Users\\juanpablo\\Anaconda\\lib\\site-packages\\IPython\\kernel\\__main__.py:2: SettingWithCopyWarning: \n",
      "A value is trying to be set on a copy of a slice from a DataFrame.\n",
      "Try using .loc[row_indexer,col_indexer] = value instead\n",
      "\n",
      "See the the caveats in the documentation: http://pandas.pydata.org/pandas-docs/stable/indexing.html#indexing-view-versus-copy\n",
      "  from IPython.kernel.zmq import kernelapp as app\n"
     ]
    }
   ],
   "source": [
    "b = float(1)/float(6)\n",
    "Totala['Genindx2009'] = b*(Totala['Dif2000-2009Bch'] + Totala['Dif2000-2009R'] + Totala['Dif2000-2009HV'] + \\\n",
    "Totala['Dif2000-2009HI'] + Totala['Dif2000-2009Pr'] - Totala['Dif2000-2009Pv'])"
   ]
  },
  {
   "cell_type": "code",
   "execution_count": 93,
   "metadata": {
    "collapsed": false
   },
   "outputs": [
    {
     "name": "stderr",
     "output_type": "stream",
     "text": [
      "C:\\Users\\juanpablo\\Anaconda\\lib\\site-packages\\IPython\\kernel\\__main__.py:1: SettingWithCopyWarning: \n",
      "A value is trying to be set on a copy of a slice from a DataFrame.\n",
      "Try using .loc[row_indexer,col_indexer] = value instead\n",
      "\n",
      "See the the caveats in the documentation: http://pandas.pydata.org/pandas-docs/stable/indexing.html#indexing-view-versus-copy\n",
      "  if __name__ == '__main__':\n"
     ]
    }
   ],
   "source": [
    "Totala['Genindx2013'] = b*(Totala['Dif2009-2013Bch'] + Totala['Dif2009-2013R'] + Totala['Dif2009-2013HV'] + \\\n",
    "Totala['Dif2009-2013HI'] + Totala['Dif2009-2013Pr'] - Totala['Dif2009-2013Pv'])"
   ]
  },
  {
   "cell_type": "code",
   "execution_count": 94,
   "metadata": {
    "collapsed": false
   },
   "outputs": [
    {
     "data": {
      "text/html": [
       "<div>\n",
       "<table border=\"1\" class=\"dataframe\">\n",
       "  <thead>\n",
       "    <tr style=\"text-align: right;\">\n",
       "      <th></th>\n",
       "      <th>Dif2000-2009Bch</th>\n",
       "      <th>Dif2009-2013Bch</th>\n",
       "      <th>Dif2000-2009R</th>\n",
       "      <th>Dif2009-2013R</th>\n",
       "      <th>Dif2000-2009HV</th>\n",
       "      <th>Dif2009-2013HV</th>\n",
       "      <th>Dif2000-2009HI</th>\n",
       "      <th>Dif2009-2013HI</th>\n",
       "      <th>Dif2000-2009Pr</th>\n",
       "      <th>Dif2009-2013Pr</th>\n",
       "      <th>Dif2000-2009Pv</th>\n",
       "      <th>Dif2009-2013Pv</th>\n",
       "      <th>Genindx2009</th>\n",
       "      <th>Genindx2013</th>\n",
       "    </tr>\n",
       "  </thead>\n",
       "  <tbody>\n",
       "    <tr>\n",
       "      <th>Yorkville</th>\n",
       "      <td>0.113586</td>\n",
       "      <td>-0.013947</td>\n",
       "      <td>0.436109</td>\n",
       "      <td>-0.001722</td>\n",
       "      <td>1.046393</td>\n",
       "      <td>-0.044927</td>\n",
       "      <td>0.341233</td>\n",
       "      <td>0.068384</td>\n",
       "      <td>-0.024750</td>\n",
       "      <td>0.033386</td>\n",
       "      <td>-0.218596</td>\n",
       "      <td>0.169774</td>\n",
       "      <td>0.355195</td>\n",
       "      <td>-0.021433</td>\n",
       "    </tr>\n",
       "    <tr>\n",
       "      <th>park-cemetery-etc-Bronx</th>\n",
       "      <td>2.500000</td>\n",
       "      <td>10.928571</td>\n",
       "      <td>NaN</td>\n",
       "      <td>0.136946</td>\n",
       "      <td>inf</td>\n",
       "      <td>7.081633</td>\n",
       "      <td>inf</td>\n",
       "      <td>0.778683</td>\n",
       "      <td>8.472222</td>\n",
       "      <td>-0.473607</td>\n",
       "      <td>0.330855</td>\n",
       "      <td>-0.203911</td>\n",
       "      <td>NaN</td>\n",
       "      <td>3.109356</td>\n",
       "    </tr>\n",
       "    <tr>\n",
       "      <th>park-cemetery-etc-Brooklyn</th>\n",
       "      <td>-1.000000</td>\n",
       "      <td>inf</td>\n",
       "      <td>NaN</td>\n",
       "      <td>NaN</td>\n",
       "      <td>inf</td>\n",
       "      <td>NaN</td>\n",
       "      <td>inf</td>\n",
       "      <td>0.982378</td>\n",
       "      <td>0.401070</td>\n",
       "      <td>0.034351</td>\n",
       "      <td>16.000000</td>\n",
       "      <td>0.235294</td>\n",
       "      <td>NaN</td>\n",
       "      <td>NaN</td>\n",
       "    </tr>\n",
       "    <tr>\n",
       "      <th>park-cemetery-etc-Manhattan</th>\n",
       "      <td>0.688259</td>\n",
       "      <td>-0.082734</td>\n",
       "      <td>0.532609</td>\n",
       "      <td>NaN</td>\n",
       "      <td>inf</td>\n",
       "      <td>10.819672</td>\n",
       "      <td>inf</td>\n",
       "      <td>-0.683255</td>\n",
       "      <td>0.146172</td>\n",
       "      <td>0.087449</td>\n",
       "      <td>0.292560</td>\n",
       "      <td>-0.162927</td>\n",
       "      <td>inf</td>\n",
       "      <td>NaN</td>\n",
       "    </tr>\n",
       "    <tr>\n",
       "      <th>park-cemetery-etc-Queens</th>\n",
       "      <td>0.925926</td>\n",
       "      <td>-0.506410</td>\n",
       "      <td>1.123465</td>\n",
       "      <td>0.124317</td>\n",
       "      <td>inf</td>\n",
       "      <td>-0.268020</td>\n",
       "      <td>inf</td>\n",
       "      <td>-0.367934</td>\n",
       "      <td>0.093960</td>\n",
       "      <td>-0.015337</td>\n",
       "      <td>0.600000</td>\n",
       "      <td>-0.941176</td>\n",
       "      <td>inf</td>\n",
       "      <td>-0.015368</td>\n",
       "    </tr>\n",
       "    <tr>\n",
       "      <th>park-cemetery-etc-Staten Island</th>\n",
       "      <td>NaN</td>\n",
       "      <td>NaN</td>\n",
       "      <td>NaN</td>\n",
       "      <td>NaN</td>\n",
       "      <td>NaN</td>\n",
       "      <td>NaN</td>\n",
       "      <td>NaN</td>\n",
       "      <td>NaN</td>\n",
       "      <td>-1.000000</td>\n",
       "      <td>NaN</td>\n",
       "      <td>NaN</td>\n",
       "      <td>NaN</td>\n",
       "      <td>NaN</td>\n",
       "      <td>NaN</td>\n",
       "    </tr>\n",
       "  </tbody>\n",
       "</table>\n",
       "</div>"
      ],
      "text/plain": [
       "                                 Dif2000-2009Bch  Dif2009-2013Bch  \\\n",
       "Yorkville                               0.113586        -0.013947   \n",
       "park-cemetery-etc-Bronx                 2.500000        10.928571   \n",
       "park-cemetery-etc-Brooklyn             -1.000000              inf   \n",
       "park-cemetery-etc-Manhattan             0.688259        -0.082734   \n",
       "park-cemetery-etc-Queens                0.925926        -0.506410   \n",
       "park-cemetery-etc-Staten Island              NaN              NaN   \n",
       "\n",
       "                                 Dif2000-2009R  Dif2009-2013R  Dif2000-2009HV  \\\n",
       "Yorkville                             0.436109      -0.001722        1.046393   \n",
       "park-cemetery-etc-Bronx                    NaN       0.136946             inf   \n",
       "park-cemetery-etc-Brooklyn                 NaN            NaN             inf   \n",
       "park-cemetery-etc-Manhattan           0.532609            NaN             inf   \n",
       "park-cemetery-etc-Queens              1.123465       0.124317             inf   \n",
       "park-cemetery-etc-Staten Island            NaN            NaN             NaN   \n",
       "\n",
       "                                 Dif2009-2013HV  Dif2000-2009HI  \\\n",
       "Yorkville                             -0.044927        0.341233   \n",
       "park-cemetery-etc-Bronx                7.081633             inf   \n",
       "park-cemetery-etc-Brooklyn                  NaN             inf   \n",
       "park-cemetery-etc-Manhattan           10.819672             inf   \n",
       "park-cemetery-etc-Queens              -0.268020             inf   \n",
       "park-cemetery-etc-Staten Island             NaN             NaN   \n",
       "\n",
       "                                 Dif2009-2013HI  Dif2000-2009Pr  \\\n",
       "Yorkville                              0.068384       -0.024750   \n",
       "park-cemetery-etc-Bronx                0.778683        8.472222   \n",
       "park-cemetery-etc-Brooklyn             0.982378        0.401070   \n",
       "park-cemetery-etc-Manhattan           -0.683255        0.146172   \n",
       "park-cemetery-etc-Queens              -0.367934        0.093960   \n",
       "park-cemetery-etc-Staten Island             NaN       -1.000000   \n",
       "\n",
       "                                 Dif2009-2013Pr  Dif2000-2009Pv  \\\n",
       "Yorkville                              0.033386       -0.218596   \n",
       "park-cemetery-etc-Bronx               -0.473607        0.330855   \n",
       "park-cemetery-etc-Brooklyn             0.034351       16.000000   \n",
       "park-cemetery-etc-Manhattan            0.087449        0.292560   \n",
       "park-cemetery-etc-Queens              -0.015337        0.600000   \n",
       "park-cemetery-etc-Staten Island             NaN             NaN   \n",
       "\n",
       "                                 Dif2009-2013Pv  Genindx2009  Genindx2013  \n",
       "Yorkville                              0.169774     0.355195    -0.021433  \n",
       "park-cemetery-etc-Bronx               -0.203911          NaN     3.109356  \n",
       "park-cemetery-etc-Brooklyn             0.235294          NaN          NaN  \n",
       "park-cemetery-etc-Manhattan           -0.162927          inf          NaN  \n",
       "park-cemetery-etc-Queens              -0.941176          inf    -0.015368  \n",
       "park-cemetery-etc-Staten Island             NaN          NaN          NaN  "
      ]
     },
     "execution_count": 94,
     "metadata": {},
     "output_type": "execute_result"
    }
   ],
   "source": [
    "Totala.tail(6)"
   ]
  },
  {
   "cell_type": "code",
   "execution_count": 95,
   "metadata": {
    "collapsed": true
   },
   "outputs": [],
   "source": [
    "Totalb = Totala.drop(Totala.index[[-1, -2, -3, -4, -5]])"
   ]
  },
  {
   "cell_type": "code",
   "execution_count": 96,
   "metadata": {
    "collapsed": false
   },
   "outputs": [
    {
     "data": {
      "text/html": [
       "<div>\n",
       "<table border=\"1\" class=\"dataframe\">\n",
       "  <thead>\n",
       "    <tr style=\"text-align: right;\">\n",
       "      <th></th>\n",
       "      <th>Dif2000-2009Bch</th>\n",
       "      <th>Dif2009-2013Bch</th>\n",
       "      <th>Dif2000-2009R</th>\n",
       "      <th>Dif2009-2013R</th>\n",
       "      <th>Dif2000-2009HV</th>\n",
       "      <th>Dif2009-2013HV</th>\n",
       "      <th>Dif2000-2009HI</th>\n",
       "      <th>Dif2009-2013HI</th>\n",
       "      <th>Dif2000-2009Pr</th>\n",
       "      <th>Dif2009-2013Pr</th>\n",
       "      <th>Dif2000-2009Pv</th>\n",
       "      <th>Dif2009-2013Pv</th>\n",
       "      <th>Genindx2009</th>\n",
       "      <th>Genindx2013</th>\n",
       "    </tr>\n",
       "  </thead>\n",
       "  <tbody>\n",
       "    <tr>\n",
       "      <th>Airport</th>\n",
       "      <td>inf</td>\n",
       "      <td>-1.000000</td>\n",
       "      <td>NaN</td>\n",
       "      <td>NaN</td>\n",
       "      <td>NaN</td>\n",
       "      <td>NaN</td>\n",
       "      <td>NaN</td>\n",
       "      <td>NaN</td>\n",
       "      <td>-1.000000</td>\n",
       "      <td>NaN</td>\n",
       "      <td>inf</td>\n",
       "      <td>-1.000000</td>\n",
       "      <td>NaN</td>\n",
       "      <td>NaN</td>\n",
       "    </tr>\n",
       "    <tr>\n",
       "      <th>Allerton-Pelham Gardens</th>\n",
       "      <td>0.470703</td>\n",
       "      <td>0.787137</td>\n",
       "      <td>0.602190</td>\n",
       "      <td>0.033409</td>\n",
       "      <td>1.102177</td>\n",
       "      <td>-0.047337</td>\n",
       "      <td>0.496583</td>\n",
       "      <td>-0.201582</td>\n",
       "      <td>0.410532</td>\n",
       "      <td>-0.011934</td>\n",
       "      <td>0.357697</td>\n",
       "      <td>2.563078</td>\n",
       "      <td>0.454081</td>\n",
       "      <td>-0.333897</td>\n",
       "    </tr>\n",
       "    <tr>\n",
       "      <th>Annadale-Huguenot-Prince's Bay-Eltingville</th>\n",
       "      <td>0.131504</td>\n",
       "      <td>1.629599</td>\n",
       "      <td>0.506188</td>\n",
       "      <td>0.178307</td>\n",
       "      <td>0.866735</td>\n",
       "      <td>-0.021105</td>\n",
       "      <td>0.350837</td>\n",
       "      <td>-0.157235</td>\n",
       "      <td>1.097195</td>\n",
       "      <td>0.051334</td>\n",
       "      <td>-0.318783</td>\n",
       "      <td>4.735922</td>\n",
       "      <td>0.545207</td>\n",
       "      <td>-0.509170</td>\n",
       "    </tr>\n",
       "    <tr>\n",
       "      <th>Arden Heights</th>\n",
       "      <td>0.376385</td>\n",
       "      <td>0.109459</td>\n",
       "      <td>0.555834</td>\n",
       "      <td>-0.068548</td>\n",
       "      <td>1.142250</td>\n",
       "      <td>-0.039211</td>\n",
       "      <td>0.246313</td>\n",
       "      <td>0.078775</td>\n",
       "      <td>-0.046156</td>\n",
       "      <td>0.008933</td>\n",
       "      <td>0.823217</td>\n",
       "      <td>-0.199745</td>\n",
       "      <td>0.241902</td>\n",
       "      <td>0.048192</td>\n",
       "    </tr>\n",
       "    <tr>\n",
       "      <th>Astoria</th>\n",
       "      <td>0.496104</td>\n",
       "      <td>0.074744</td>\n",
       "      <td>0.557545</td>\n",
       "      <td>0.149425</td>\n",
       "      <td>1.227046</td>\n",
       "      <td>-0.001278</td>\n",
       "      <td>0.436831</td>\n",
       "      <td>0.054812</td>\n",
       "      <td>0.045536</td>\n",
       "      <td>0.089750</td>\n",
       "      <td>-0.318525</td>\n",
       "      <td>0.216580</td>\n",
       "      <td>0.513598</td>\n",
       "      <td>0.025145</td>\n",
       "    </tr>\n",
       "  </tbody>\n",
       "</table>\n",
       "</div>"
      ],
      "text/plain": [
       "                                            Dif2000-2009Bch  Dif2009-2013Bch  \\\n",
       "Airport                                                 inf        -1.000000   \n",
       "Allerton-Pelham Gardens                            0.470703         0.787137   \n",
       "Annadale-Huguenot-Prince's Bay-Eltingville         0.131504         1.629599   \n",
       "Arden Heights                                      0.376385         0.109459   \n",
       "Astoria                                            0.496104         0.074744   \n",
       "\n",
       "                                            Dif2000-2009R  Dif2009-2013R  \\\n",
       "Airport                                               NaN            NaN   \n",
       "Allerton-Pelham Gardens                          0.602190       0.033409   \n",
       "Annadale-Huguenot-Prince's Bay-Eltingville       0.506188       0.178307   \n",
       "Arden Heights                                    0.555834      -0.068548   \n",
       "Astoria                                          0.557545       0.149425   \n",
       "\n",
       "                                            Dif2000-2009HV  Dif2009-2013HV  \\\n",
       "Airport                                                NaN             NaN   \n",
       "Allerton-Pelham Gardens                           1.102177       -0.047337   \n",
       "Annadale-Huguenot-Prince's Bay-Eltingville        0.866735       -0.021105   \n",
       "Arden Heights                                     1.142250       -0.039211   \n",
       "Astoria                                           1.227046       -0.001278   \n",
       "\n",
       "                                            Dif2000-2009HI  Dif2009-2013HI  \\\n",
       "Airport                                                NaN             NaN   \n",
       "Allerton-Pelham Gardens                           0.496583       -0.201582   \n",
       "Annadale-Huguenot-Prince's Bay-Eltingville        0.350837       -0.157235   \n",
       "Arden Heights                                     0.246313        0.078775   \n",
       "Astoria                                           0.436831        0.054812   \n",
       "\n",
       "                                            Dif2000-2009Pr  Dif2009-2013Pr  \\\n",
       "Airport                                          -1.000000             NaN   \n",
       "Allerton-Pelham Gardens                           0.410532       -0.011934   \n",
       "Annadale-Huguenot-Prince's Bay-Eltingville        1.097195        0.051334   \n",
       "Arden Heights                                    -0.046156        0.008933   \n",
       "Astoria                                           0.045536        0.089750   \n",
       "\n",
       "                                            Dif2000-2009Pv  Dif2009-2013Pv  \\\n",
       "Airport                                                inf       -1.000000   \n",
       "Allerton-Pelham Gardens                           0.357697        2.563078   \n",
       "Annadale-Huguenot-Prince's Bay-Eltingville       -0.318783        4.735922   \n",
       "Arden Heights                                     0.823217       -0.199745   \n",
       "Astoria                                          -0.318525        0.216580   \n",
       "\n",
       "                                            Genindx2009  Genindx2013  \n",
       "Airport                                             NaN          NaN  \n",
       "Allerton-Pelham Gardens                        0.454081    -0.333897  \n",
       "Annadale-Huguenot-Prince's Bay-Eltingville     0.545207    -0.509170  \n",
       "Arden Heights                                  0.241902     0.048192  \n",
       "Astoria                                        0.513598     0.025145  "
      ]
     },
     "execution_count": 96,
     "metadata": {},
     "output_type": "execute_result"
    }
   ],
   "source": [
    "Totalb.head()"
   ]
  },
  {
   "cell_type": "code",
   "execution_count": 97,
   "metadata": {
    "collapsed": false
   },
   "outputs": [],
   "source": [
    "Totala = Totala.replace([np.inf, -np.inf], np.nan)"
   ]
  },
  {
   "cell_type": "code",
   "execution_count": 98,
   "metadata": {
    "collapsed": false
   },
   "outputs": [
    {
     "data": {
      "text/plain": [
       "count    186.000000\n",
       "mean       0.493924\n",
       "std        0.191575\n",
       "min        0.061527\n",
       "25%        0.366964\n",
       "50%        0.466102\n",
       "75%        0.572628\n",
       "max        1.337848\n",
       "Name: Genindx2009, dtype: float64"
      ]
     },
     "execution_count": 98,
     "metadata": {},
     "output_type": "execute_result"
    }
   ],
   "source": [
    "Totala['Genindx2009'].describe()"
   ]
  },
  {
   "cell_type": "code",
   "execution_count": 99,
   "metadata": {
    "collapsed": false
   },
   "outputs": [
    {
     "data": {
      "text/plain": [
       "<matplotlib.text.Text at 0x1a1af320>"
      ]
     },
     "execution_count": 99,
     "metadata": {},
     "output_type": "execute_result"
    },
    {
     "data": {
      "image/png": "[encoded data removed]",
      "text/plain": [
       "<matplotlib.figure.Figure at 0x199cf518>"
      ]
     },
     "metadata": {},
     "output_type": "display_data"
    }
   ],
   "source": [
    "plt.figure(figsize=(8,6))\n",
    "ax = Totala['Genindx2009'].hist(color='red', alpha=0.7, bins=10)\n",
    "ax.set_xlabel(\"GI Index values 2000-2009\", fontsize = 12)\n",
    "ax.set_ylabel(\"# of observations\", fontsize = 12)\n"
   ]
  },
  {
   "cell_type": "code",
   "execution_count": 100,
   "metadata": {
    "collapsed": false
   },
   "outputs": [],
   "source": [
    "writer = pd.ExcelWriter('Gentrification Index.xlsx', engine='xlsxwriter')\n",
    "Totalb.to_excel(writer, sheet_name='Gentrification index', header=True, index=True, startrow=0, startcol=0)"
   ]
  },
  {
   "cell_type": "code",
   "execution_count": 101,
   "metadata": {
    "collapsed": true
   },
   "outputs": [],
   "source": [
    "writer.save()"
   ]
  },
  {
   "cell_type": "code",
   "execution_count": 102,
   "metadata": {
    "collapsed": false
   },
   "outputs": [
    {
     "data": {
      "text/html": [
       "<div>\n",
       "<table border=\"1\" class=\"dataframe\">\n",
       "  <thead>\n",
       "    <tr style=\"text-align: right;\">\n",
       "      <th></th>\n",
       "      <th>Dif2000-2009Bch</th>\n",
       "      <th>Dif2009-2013Bch</th>\n",
       "      <th>Dif2000-2009R</th>\n",
       "      <th>Dif2009-2013R</th>\n",
       "      <th>Dif2000-2009HV</th>\n",
       "      <th>Dif2009-2013HV</th>\n",
       "      <th>Dif2000-2009HI</th>\n",
       "      <th>Dif2009-2013HI</th>\n",
       "      <th>Dif2000-2009Pr</th>\n",
       "      <th>Dif2009-2013Pr</th>\n",
       "      <th>Dif2000-2009Pv</th>\n",
       "      <th>Dif2009-2013Pv</th>\n",
       "      <th>Genindx2009</th>\n",
       "      <th>Genindx2013</th>\n",
       "    </tr>\n",
       "  </thead>\n",
       "  <tbody>\n",
       "    <tr>\n",
       "      <th>Claremont-Bathgate</th>\n",
       "      <td>0.425699</td>\n",
       "      <td>1.286941</td>\n",
       "      <td>0.300000</td>\n",
       "      <td>0.104396</td>\n",
       "      <td>5.647655</td>\n",
       "      <td>-0.259867</td>\n",
       "      <td>0.380841</td>\n",
       "      <td>0.027710</td>\n",
       "      <td>1.322995</td>\n",
       "      <td>-0.286344</td>\n",
       "      <td>0.050105</td>\n",
       "      <td>1.496856</td>\n",
       "      <td>1.337848</td>\n",
       "      <td>-0.104003</td>\n",
       "    </tr>\n",
       "    <tr>\n",
       "      <th>Bedford</th>\n",
       "      <td>1.216309</td>\n",
       "      <td>0.339604</td>\n",
       "      <td>0.747834</td>\n",
       "      <td>0.113535</td>\n",
       "      <td>2.023692</td>\n",
       "      <td>0.007346</td>\n",
       "      <td>0.249315</td>\n",
       "      <td>0.516779</td>\n",
       "      <td>3.251678</td>\n",
       "      <td>0.137964</td>\n",
       "      <td>0.095561</td>\n",
       "      <td>0.108736</td>\n",
       "      <td>1.232211</td>\n",
       "      <td>0.167749</td>\n",
       "    </tr>\n",
       "    <tr>\n",
       "      <th>South Jamaica</th>\n",
       "      <td>0.559205</td>\n",
       "      <td>0.916775</td>\n",
       "      <td>0.454297</td>\n",
       "      <td>0.207317</td>\n",
       "      <td>1.407945</td>\n",
       "      <td>0.032993</td>\n",
       "      <td>0.470827</td>\n",
       "      <td>-0.037541</td>\n",
       "      <td>3.796999</td>\n",
       "      <td>-0.231647</td>\n",
       "      <td>-0.263263</td>\n",
       "      <td>2.419681</td>\n",
       "      <td>1.158756</td>\n",
       "      <td>-0.255297</td>\n",
       "    </tr>\n",
       "    <tr>\n",
       "      <th>Central Harlem South</th>\n",
       "      <td>0.803269</td>\n",
       "      <td>0.389543</td>\n",
       "      <td>0.841649</td>\n",
       "      <td>0.273263</td>\n",
       "      <td>1.375636</td>\n",
       "      <td>0.068575</td>\n",
       "      <td>0.673923</td>\n",
       "      <td>0.239628</td>\n",
       "      <td>2.433256</td>\n",
       "      <td>0.116858</td>\n",
       "      <td>-0.130375</td>\n",
       "      <td>0.213226</td>\n",
       "      <td>1.043018</td>\n",
       "      <td>0.145774</td>\n",
       "    </tr>\n",
       "    <tr>\n",
       "      <th>Marble Hill-Inwood</th>\n",
       "      <td>0.535373</td>\n",
       "      <td>0.306732</td>\n",
       "      <td>0.525890</td>\n",
       "      <td>0.124072</td>\n",
       "      <td>3.755435</td>\n",
       "      <td>-0.016000</td>\n",
       "      <td>0.449375</td>\n",
       "      <td>-0.040862</td>\n",
       "      <td>0.200444</td>\n",
       "      <td>0.006928</td>\n",
       "      <td>-0.266319</td>\n",
       "      <td>0.239624</td>\n",
       "      <td>0.955473</td>\n",
       "      <td>0.023541</td>\n",
       "    </tr>\n",
       "    <tr>\n",
       "      <th>Bushwick South</th>\n",
       "      <td>1.620210</td>\n",
       "      <td>0.519642</td>\n",
       "      <td>0.668896</td>\n",
       "      <td>0.154309</td>\n",
       "      <td>1.912821</td>\n",
       "      <td>-0.051643</td>\n",
       "      <td>0.444326</td>\n",
       "      <td>0.255034</td>\n",
       "      <td>0.973455</td>\n",
       "      <td>0.344850</td>\n",
       "      <td>-0.052829</td>\n",
       "      <td>-0.092468</td>\n",
       "      <td>0.945423</td>\n",
       "      <td>0.219110</td>\n",
       "    </tr>\n",
       "    <tr>\n",
       "      <th>Crown Heights North</th>\n",
       "      <td>0.966945</td>\n",
       "      <td>0.415577</td>\n",
       "      <td>0.584459</td>\n",
       "      <td>0.109275</td>\n",
       "      <td>1.822340</td>\n",
       "      <td>0.089521</td>\n",
       "      <td>0.272595</td>\n",
       "      <td>0.193961</td>\n",
       "      <td>1.786685</td>\n",
       "      <td>0.056820</td>\n",
       "      <td>-0.097043</td>\n",
       "      <td>0.153792</td>\n",
       "      <td>0.921678</td>\n",
       "      <td>0.118560</td>\n",
       "    </tr>\n",
       "    <tr>\n",
       "      <th>Stuyvesant Heights</th>\n",
       "      <td>0.998200</td>\n",
       "      <td>0.120515</td>\n",
       "      <td>0.539629</td>\n",
       "      <td>0.190581</td>\n",
       "      <td>1.875445</td>\n",
       "      <td>0.010078</td>\n",
       "      <td>0.593423</td>\n",
       "      <td>-0.113351</td>\n",
       "      <td>1.252818</td>\n",
       "      <td>0.557180</td>\n",
       "      <td>-0.163633</td>\n",
       "      <td>0.027733</td>\n",
       "      <td>0.903858</td>\n",
       "      <td>0.122878</td>\n",
       "    </tr>\n",
       "    <tr>\n",
       "      <th>Co-op City</th>\n",
       "      <td>0.091367</td>\n",
       "      <td>0.182420</td>\n",
       "      <td>0.293740</td>\n",
       "      <td>0.136476</td>\n",
       "      <td>4.792857</td>\n",
       "      <td>-0.023428</td>\n",
       "      <td>0.160601</td>\n",
       "      <td>-0.083351</td>\n",
       "      <td>-0.134151</td>\n",
       "      <td>-0.088195</td>\n",
       "      <td>0.066304</td>\n",
       "      <td>0.244827</td>\n",
       "      <td>0.856352</td>\n",
       "      <td>-0.020151</td>\n",
       "    </tr>\n",
       "    <tr>\n",
       "      <th>Greenpoint</th>\n",
       "      <td>1.235224</td>\n",
       "      <td>0.320839</td>\n",
       "      <td>0.758077</td>\n",
       "      <td>0.255556</td>\n",
       "      <td>2.071671</td>\n",
       "      <td>0.036380</td>\n",
       "      <td>0.535415</td>\n",
       "      <td>0.226005</td>\n",
       "      <td>0.097737</td>\n",
       "      <td>-0.080038</td>\n",
       "      <td>-0.302723</td>\n",
       "      <td>0.076451</td>\n",
       "      <td>0.833474</td>\n",
       "      <td>0.113715</td>\n",
       "    </tr>\n",
       "    <tr>\n",
       "      <th>Queensbridge-Ravenswood-Long Island City</th>\n",
       "      <td>0.604013</td>\n",
       "      <td>0.722515</td>\n",
       "      <td>2.930796</td>\n",
       "      <td>0.102993</td>\n",
       "      <td>0.480513</td>\n",
       "      <td>0.809952</td>\n",
       "      <td>0.129227</td>\n",
       "      <td>1.150608</td>\n",
       "      <td>0.619392</td>\n",
       "      <td>0.279802</td>\n",
       "      <td>-0.125163</td>\n",
       "      <td>0.004743</td>\n",
       "      <td>0.814851</td>\n",
       "      <td>0.510188</td>\n",
       "    </tr>\n",
       "    <tr>\n",
       "      <th>North Side-South Side</th>\n",
       "      <td>1.878241</td>\n",
       "      <td>0.179607</td>\n",
       "      <td>0.661211</td>\n",
       "      <td>-0.062069</td>\n",
       "      <td>1.321493</td>\n",
       "      <td>0.298083</td>\n",
       "      <td>0.424388</td>\n",
       "      <td>0.613509</td>\n",
       "      <td>0.485689</td>\n",
       "      <td>0.298062</td>\n",
       "      <td>-0.049090</td>\n",
       "      <td>-0.084302</td>\n",
       "      <td>0.803352</td>\n",
       "      <td>0.235249</td>\n",
       "    </tr>\n",
       "    <tr>\n",
       "      <th>Bushwick North</th>\n",
       "      <td>1.509772</td>\n",
       "      <td>0.450230</td>\n",
       "      <td>0.604361</td>\n",
       "      <td>0.183495</td>\n",
       "      <td>1.723288</td>\n",
       "      <td>-0.085915</td>\n",
       "      <td>0.475884</td>\n",
       "      <td>0.299171</td>\n",
       "      <td>0.392872</td>\n",
       "      <td>0.313123</td>\n",
       "      <td>-0.097362</td>\n",
       "      <td>0.077017</td>\n",
       "      <td>0.800590</td>\n",
       "      <td>0.180514</td>\n",
       "    </tr>\n",
       "    <tr>\n",
       "      <th>Clinton Hill</th>\n",
       "      <td>0.522297</td>\n",
       "      <td>0.166500</td>\n",
       "      <td>0.771067</td>\n",
       "      <td>0.103886</td>\n",
       "      <td>2.032653</td>\n",
       "      <td>0.223755</td>\n",
       "      <td>0.310261</td>\n",
       "      <td>0.351304</td>\n",
       "      <td>1.038579</td>\n",
       "      <td>0.142342</td>\n",
       "      <td>-0.003770</td>\n",
       "      <td>-0.168105</td>\n",
       "      <td>0.779771</td>\n",
       "      <td>0.192649</td>\n",
       "    </tr>\n",
       "    <tr>\n",
       "      <th>Battery Park City-Lower Manhattan</th>\n",
       "      <td>0.764415</td>\n",
       "      <td>1.557064</td>\n",
       "      <td>-0.876379</td>\n",
       "      <td>2.580913</td>\n",
       "      <td>2.231280</td>\n",
       "      <td>0.402728</td>\n",
       "      <td>0.380075</td>\n",
       "      <td>0.099026</td>\n",
       "      <td>2.429166</td>\n",
       "      <td>0.010257</td>\n",
       "      <td>0.254068</td>\n",
       "      <td>1.148570</td>\n",
       "      <td>0.779081</td>\n",
       "      <td>0.583570</td>\n",
       "    </tr>\n",
       "    <tr>\n",
       "      <th>East Harlem North</th>\n",
       "      <td>1.589861</td>\n",
       "      <td>0.133365</td>\n",
       "      <td>0.459873</td>\n",
       "      <td>0.010471</td>\n",
       "      <td>1.523538</td>\n",
       "      <td>0.099097</td>\n",
       "      <td>0.610551</td>\n",
       "      <td>-0.032402</td>\n",
       "      <td>0.230191</td>\n",
       "      <td>-0.159679</td>\n",
       "      <td>-0.141946</td>\n",
       "      <td>0.092947</td>\n",
       "      <td>0.759327</td>\n",
       "      <td>-0.007016</td>\n",
       "    </tr>\n",
       "    <tr>\n",
       "      <th>Parkchester</th>\n",
       "      <td>0.459296</td>\n",
       "      <td>1.920799</td>\n",
       "      <td>0.498899</td>\n",
       "      <td>0.116985</td>\n",
       "      <td>1.332054</td>\n",
       "      <td>0.143210</td>\n",
       "      <td>0.366189</td>\n",
       "      <td>0.010014</td>\n",
       "      <td>2.211797</td>\n",
       "      <td>-0.338713</td>\n",
       "      <td>0.342515</td>\n",
       "      <td>1.611686</td>\n",
       "      <td>0.754287</td>\n",
       "      <td>0.040101</td>\n",
       "    </tr>\n",
       "    <tr>\n",
       "      <th>Central Harlem North-Polo Grounds</th>\n",
       "      <td>0.910684</td>\n",
       "      <td>0.215129</td>\n",
       "      <td>0.615542</td>\n",
       "      <td>0.055696</td>\n",
       "      <td>0.342539</td>\n",
       "      <td>0.647714</td>\n",
       "      <td>0.745357</td>\n",
       "      <td>0.077365</td>\n",
       "      <td>1.836890</td>\n",
       "      <td>0.353190</td>\n",
       "      <td>-0.067970</td>\n",
       "      <td>-0.033257</td>\n",
       "      <td>0.753164</td>\n",
       "      <td>0.230392</td>\n",
       "    </tr>\n",
       "    <tr>\n",
       "      <th>Chinatown</th>\n",
       "      <td>1.161930</td>\n",
       "      <td>0.103437</td>\n",
       "      <td>0.462385</td>\n",
       "      <td>0.191970</td>\n",
       "      <td>2.169714</td>\n",
       "      <td>0.378042</td>\n",
       "      <td>0.270130</td>\n",
       "      <td>0.171420</td>\n",
       "      <td>0.325095</td>\n",
       "      <td>-0.020904</td>\n",
       "      <td>-0.085094</td>\n",
       "      <td>-0.042670</td>\n",
       "      <td>0.745725</td>\n",
       "      <td>0.144439</td>\n",
       "    </tr>\n",
       "    <tr>\n",
       "      <th>Baisley Park</th>\n",
       "      <td>0.356295</td>\n",
       "      <td>0.012065</td>\n",
       "      <td>0.612658</td>\n",
       "      <td>0.093407</td>\n",
       "      <td>1.395916</td>\n",
       "      <td>0.031894</td>\n",
       "      <td>0.672521</td>\n",
       "      <td>-0.020775</td>\n",
       "      <td>0.816770</td>\n",
       "      <td>0.320085</td>\n",
       "      <td>-0.450357</td>\n",
       "      <td>0.234283</td>\n",
       "      <td>0.717419</td>\n",
       "      <td>0.033732</td>\n",
       "    </tr>\n",
       "    <tr>\n",
       "      <th>East Elmhurst</th>\n",
       "      <td>0.646360</td>\n",
       "      <td>0.638989</td>\n",
       "      <td>0.537275</td>\n",
       "      <td>0.106187</td>\n",
       "      <td>1.387144</td>\n",
       "      <td>0.020045</td>\n",
       "      <td>0.289308</td>\n",
       "      <td>0.117053</td>\n",
       "      <td>1.139955</td>\n",
       "      <td>-0.233331</td>\n",
       "      <td>-0.295758</td>\n",
       "      <td>0.966582</td>\n",
       "      <td>0.715966</td>\n",
       "      <td>-0.052940</td>\n",
       "    </tr>\n",
       "  </tbody>\n",
       "</table>\n",
       "</div>"
      ],
      "text/plain": [
       "                                          Dif2000-2009Bch  Dif2009-2013Bch  \\\n",
       "Claremont-Bathgate                               0.425699         1.286941   \n",
       "Bedford                                          1.216309         0.339604   \n",
       "South Jamaica                                    0.559205         0.916775   \n",
       "Central Harlem South                             0.803269         0.389543   \n",
       "Marble Hill-Inwood                               0.535373         0.306732   \n",
       "Bushwick South                                   1.620210         0.519642   \n",
       "Crown Heights North                              0.966945         0.415577   \n",
       "Stuyvesant Heights                               0.998200         0.120515   \n",
       "Co-op City                                       0.091367         0.182420   \n",
       "Greenpoint                                       1.235224         0.320839   \n",
       "Queensbridge-Ravenswood-Long Island City         0.604013         0.722515   \n",
       "North Side-South Side                            1.878241         0.179607   \n",
       "Bushwick North                                   1.509772         0.450230   \n",
       "Clinton Hill                                     0.522297         0.166500   \n",
       "Battery Park City-Lower Manhattan                0.764415         1.557064   \n",
       "East Harlem North                                1.589861         0.133365   \n",
       "Parkchester                                      0.459296         1.920799   \n",
       "Central Harlem North-Polo Grounds                0.910684         0.215129   \n",
       "Chinatown                                        1.161930         0.103437   \n",
       "Baisley Park                                     0.356295         0.012065   \n",
       "East Elmhurst                                    0.646360         0.638989   \n",
       "\n",
       "                                          Dif2000-2009R  Dif2009-2013R  \\\n",
       "Claremont-Bathgate                             0.300000       0.104396   \n",
       "Bedford                                        0.747834       0.113535   \n",
       "South Jamaica                                  0.454297       0.207317   \n",
       "Central Harlem South                           0.841649       0.273263   \n",
       "Marble Hill-Inwood                             0.525890       0.124072   \n",
       "Bushwick South                                 0.668896       0.154309   \n",
       "Crown Heights North                            0.584459       0.109275   \n",
       "Stuyvesant Heights                             0.539629       0.190581   \n",
       "Co-op City                                     0.293740       0.136476   \n",
       "Greenpoint                                     0.758077       0.255556   \n",
       "Queensbridge-Ravenswood-Long Island City       2.930796       0.102993   \n",
       "North Side-South Side                          0.661211      -0.062069   \n",
       "Bushwick North                                 0.604361       0.183495   \n",
       "Clinton Hill                                   0.771067       0.103886   \n",
       "Battery Park City-Lower Manhattan             -0.876379       2.580913   \n",
       "East Harlem North                              0.459873       0.010471   \n",
       "Parkchester                                    0.498899       0.116985   \n",
       "Central Harlem North-Polo Grounds              0.615542       0.055696   \n",
       "Chinatown                                      0.462385       0.191970   \n",
       "Baisley Park                                   0.612658       0.093407   \n",
       "East Elmhurst                                  0.537275       0.106187   \n",
       "\n",
       "                                          Dif2000-2009HV  Dif2009-2013HV  \\\n",
       "Claremont-Bathgate                              5.647655       -0.259867   \n",
       "Bedford                                         2.023692        0.007346   \n",
       "South Jamaica                                   1.407945        0.032993   \n",
       "Central Harlem South                            1.375636        0.068575   \n",
       "Marble Hill-Inwood                              3.755435       -0.016000   \n",
       "Bushwick South                                  1.912821       -0.051643   \n",
       "Crown Heights North                             1.822340        0.089521   \n",
       "Stuyvesant Heights                              1.875445        0.010078   \n",
       "Co-op City                                      4.792857       -0.023428   \n",
       "Greenpoint                                      2.071671        0.036380   \n",
       "Queensbridge-Ravenswood-Long Island City        0.480513        0.809952   \n",
       "North Side-South Side                           1.321493        0.298083   \n",
       "Bushwick North                                  1.723288       -0.085915   \n",
       "Clinton Hill                                    2.032653        0.223755   \n",
       "Battery Park City-Lower Manhattan               2.231280        0.402728   \n",
       "East Harlem North                               1.523538        0.099097   \n",
       "Parkchester                                     1.332054        0.143210   \n",
       "Central Harlem North-Polo Grounds               0.342539        0.647714   \n",
       "Chinatown                                       2.169714        0.378042   \n",
       "Baisley Park                                    1.395916        0.031894   \n",
       "East Elmhurst                                   1.387144        0.020045   \n",
       "\n",
       "                                          Dif2000-2009HI  Dif2009-2013HI  \\\n",
       "Claremont-Bathgate                              0.380841        0.027710   \n",
       "Bedford                                         0.249315        0.516779   \n",
       "South Jamaica                                   0.470827       -0.037541   \n",
       "Central Harlem South                            0.673923        0.239628   \n",
       "Marble Hill-Inwood                              0.449375       -0.040862   \n",
       "Bushwick South                                  0.444326        0.255034   \n",
       "Crown Heights North                             0.272595        0.193961   \n",
       "Stuyvesant Heights                              0.593423       -0.113351   \n",
       "Co-op City                                      0.160601       -0.083351   \n",
       "Greenpoint                                      0.535415        0.226005   \n",
       "Queensbridge-Ravenswood-Long Island City        0.129227        1.150608   \n",
       "North Side-South Side                           0.424388        0.613509   \n",
       "Bushwick North                                  0.475884        0.299171   \n",
       "Clinton Hill                                    0.310261        0.351304   \n",
       "Battery Park City-Lower Manhattan               0.380075        0.099026   \n",
       "East Harlem North                               0.610551       -0.032402   \n",
       "Parkchester                                     0.366189        0.010014   \n",
       "Central Harlem North-Polo Grounds               0.745357        0.077365   \n",
       "Chinatown                                       0.270130        0.171420   \n",
       "Baisley Park                                    0.672521       -0.020775   \n",
       "East Elmhurst                                   0.289308        0.117053   \n",
       "\n",
       "                                          Dif2000-2009Pr  Dif2009-2013Pr  \\\n",
       "Claremont-Bathgate                              1.322995       -0.286344   \n",
       "Bedford                                         3.251678        0.137964   \n",
       "South Jamaica                                   3.796999       -0.231647   \n",
       "Central Harlem South                            2.433256        0.116858   \n",
       "Marble Hill-Inwood                              0.200444        0.006928   \n",
       "Bushwick South                                  0.973455        0.344850   \n",
       "Crown Heights North                             1.786685        0.056820   \n",
       "Stuyvesant Heights                              1.252818        0.557180   \n",
       "Co-op City                                     -0.134151       -0.088195   \n",
       "Greenpoint                                      0.097737       -0.080038   \n",
       "Queensbridge-Ravenswood-Long Island City        0.619392        0.279802   \n",
       "North Side-South Side                           0.485689        0.298062   \n",
       "Bushwick North                                  0.392872        0.313123   \n",
       "Clinton Hill                                    1.038579        0.142342   \n",
       "Battery Park City-Lower Manhattan               2.429166        0.010257   \n",
       "East Harlem North                               0.230191       -0.159679   \n",
       "Parkchester                                     2.211797       -0.338713   \n",
       "Central Harlem North-Polo Grounds               1.836890        0.353190   \n",
       "Chinatown                                       0.325095       -0.020904   \n",
       "Baisley Park                                    0.816770        0.320085   \n",
       "East Elmhurst                                   1.139955       -0.233331   \n",
       "\n",
       "                                          Dif2000-2009Pv  Dif2009-2013Pv  \\\n",
       "Claremont-Bathgate                              0.050105        1.496856   \n",
       "Bedford                                         0.095561        0.108736   \n",
       "South Jamaica                                  -0.263263        2.419681   \n",
       "Central Harlem South                           -0.130375        0.213226   \n",
       "Marble Hill-Inwood                             -0.266319        0.239624   \n",
       "Bushwick South                                 -0.052829       -0.092468   \n",
       "Crown Heights North                            -0.097043        0.153792   \n",
       "Stuyvesant Heights                             -0.163633        0.027733   \n",
       "Co-op City                                      0.066304        0.244827   \n",
       "Greenpoint                                     -0.302723        0.076451   \n",
       "Queensbridge-Ravenswood-Long Island City       -0.125163        0.004743   \n",
       "North Side-South Side                          -0.049090       -0.084302   \n",
       "Bushwick North                                 -0.097362        0.077017   \n",
       "Clinton Hill                                   -0.003770       -0.168105   \n",
       "Battery Park City-Lower Manhattan               0.254068        1.148570   \n",
       "East Harlem North                              -0.141946        0.092947   \n",
       "Parkchester                                     0.342515        1.611686   \n",
       "Central Harlem North-Polo Grounds              -0.067970       -0.033257   \n",
       "Chinatown                                      -0.085094       -0.042670   \n",
       "Baisley Park                                   -0.450357        0.234283   \n",
       "East Elmhurst                                  -0.295758        0.966582   \n",
       "\n",
       "                                          Genindx2009  Genindx2013  \n",
       "Claremont-Bathgate                           1.337848    -0.104003  \n",
       "Bedford                                      1.232211     0.167749  \n",
       "South Jamaica                                1.158756    -0.255297  \n",
       "Central Harlem South                         1.043018     0.145774  \n",
       "Marble Hill-Inwood                           0.955473     0.023541  \n",
       "Bushwick South                               0.945423     0.219110  \n",
       "Crown Heights North                          0.921678     0.118560  \n",
       "Stuyvesant Heights                           0.903858     0.122878  \n",
       "Co-op City                                   0.856352    -0.020151  \n",
       "Greenpoint                                   0.833474     0.113715  \n",
       "Queensbridge-Ravenswood-Long Island City     0.814851     0.510188  \n",
       "North Side-South Side                        0.803352     0.235249  \n",
       "Bushwick North                               0.800590     0.180514  \n",
       "Clinton Hill                                 0.779771     0.192649  \n",
       "Battery Park City-Lower Manhattan            0.779081     0.583570  \n",
       "East Harlem North                            0.759327    -0.007016  \n",
       "Parkchester                                  0.754287     0.040101  \n",
       "Central Harlem North-Polo Grounds            0.753164     0.230392  \n",
       "Chinatown                                    0.745725     0.144439  \n",
       "Baisley Park                                 0.717419     0.033732  \n",
       "East Elmhurst                                0.715966    -0.052940  "
      ]
     },
     "execution_count": 102,
     "metadata": {},
     "output_type": "execute_result"
    }
   ],
   "source": [
    "Totalb.sort(['Genindx2009'], ascending=False).head(21)"
   ]
  },
  {
   "cell_type": "code",
   "execution_count": 103,
   "metadata": {
    "collapsed": false
   },
   "outputs": [
    {
     "data": {
      "text/html": [
       "<div>\n",
       "<table border=\"1\" class=\"dataframe\">\n",
       "  <thead>\n",
       "    <tr style=\"text-align: right;\">\n",
       "      <th></th>\n",
       "      <th>Dif2000-2009Bch</th>\n",
       "      <th>Dif2009-2013Bch</th>\n",
       "      <th>Dif2000-2009R</th>\n",
       "      <th>Dif2009-2013R</th>\n",
       "      <th>Dif2000-2009HV</th>\n",
       "      <th>Dif2009-2013HV</th>\n",
       "      <th>Dif2000-2009HI</th>\n",
       "      <th>Dif2009-2013HI</th>\n",
       "      <th>Dif2000-2009Pr</th>\n",
       "      <th>Dif2009-2013Pr</th>\n",
       "      <th>Dif2000-2009Pv</th>\n",
       "      <th>Dif2009-2013Pv</th>\n",
       "      <th>Genindx2009</th>\n",
       "      <th>Genindx2013</th>\n",
       "    </tr>\n",
       "  </thead>\n",
       "  <tbody>\n",
       "    <tr>\n",
       "      <th>SoHo-TriBeCa-Civic Center-Little Italy</th>\n",
       "      <td>0.346950</td>\n",
       "      <td>0.277158</td>\n",
       "      <td>-0.739726</td>\n",
       "      <td>2.980861</td>\n",
       "      <td>0.692347</td>\n",
       "      <td>-0.119538</td>\n",
       "      <td>0.429492</td>\n",
       "      <td>0.374802</td>\n",
       "      <td>0.385545</td>\n",
       "      <td>-0.040920</td>\n",
       "      <td>-0.100027</td>\n",
       "      <td>-0.158291</td>\n",
       "      <td>0.202439</td>\n",
       "      <td>0.605109</td>\n",
       "    </tr>\n",
       "    <tr>\n",
       "      <th>Battery Park City-Lower Manhattan</th>\n",
       "      <td>0.764415</td>\n",
       "      <td>1.557064</td>\n",
       "      <td>-0.876379</td>\n",
       "      <td>2.580913</td>\n",
       "      <td>2.231280</td>\n",
       "      <td>0.402728</td>\n",
       "      <td>0.380075</td>\n",
       "      <td>0.099026</td>\n",
       "      <td>2.429166</td>\n",
       "      <td>0.010257</td>\n",
       "      <td>0.254068</td>\n",
       "      <td>1.148570</td>\n",
       "      <td>0.779081</td>\n",
       "      <td>0.583570</td>\n",
       "    </tr>\n",
       "    <tr>\n",
       "      <th>Queensbridge-Ravenswood-Long Island City</th>\n",
       "      <td>0.604013</td>\n",
       "      <td>0.722515</td>\n",
       "      <td>2.930796</td>\n",
       "      <td>0.102993</td>\n",
       "      <td>0.480513</td>\n",
       "      <td>0.809952</td>\n",
       "      <td>0.129227</td>\n",
       "      <td>1.150608</td>\n",
       "      <td>0.619392</td>\n",
       "      <td>0.279802</td>\n",
       "      <td>-0.125163</td>\n",
       "      <td>0.004743</td>\n",
       "      <td>0.814851</td>\n",
       "      <td>0.510188</td>\n",
       "    </tr>\n",
       "    <tr>\n",
       "      <th>Springfield Gardens North</th>\n",
       "      <td>-0.100809</td>\n",
       "      <td>0.950018</td>\n",
       "      <td>1.136602</td>\n",
       "      <td>-0.051639</td>\n",
       "      <td>0.032110</td>\n",
       "      <td>1.834074</td>\n",
       "      <td>0.072840</td>\n",
       "      <td>0.374811</td>\n",
       "      <td>0.583056</td>\n",
       "      <td>-0.044771</td>\n",
       "      <td>0.100128</td>\n",
       "      <td>0.705465</td>\n",
       "      <td>0.270612</td>\n",
       "      <td>0.392838</td>\n",
       "    </tr>\n",
       "    <tr>\n",
       "      <th>East Harlem South</th>\n",
       "      <td>0.746602</td>\n",
       "      <td>0.528228</td>\n",
       "      <td>0.204409</td>\n",
       "      <td>0.623960</td>\n",
       "      <td>1.906433</td>\n",
       "      <td>0.642426</td>\n",
       "      <td>0.138156</td>\n",
       "      <td>0.151432</td>\n",
       "      <td>0.270158</td>\n",
       "      <td>0.164201</td>\n",
       "      <td>-0.094417</td>\n",
       "      <td>0.069679</td>\n",
       "      <td>0.560029</td>\n",
       "      <td>0.340095</td>\n",
       "    </tr>\n",
       "    <tr>\n",
       "      <th>Hunts Point</th>\n",
       "      <td>0.470297</td>\n",
       "      <td>1.836364</td>\n",
       "      <td>1.128329</td>\n",
       "      <td>0.080774</td>\n",
       "      <td>1.294378</td>\n",
       "      <td>-0.043227</td>\n",
       "      <td>0.260261</td>\n",
       "      <td>0.229232</td>\n",
       "      <td>1.005375</td>\n",
       "      <td>-0.082363</td>\n",
       "      <td>0.083762</td>\n",
       "      <td>0.567362</td>\n",
       "      <td>0.679146</td>\n",
       "      <td>0.242236</td>\n",
       "    </tr>\n",
       "    <tr>\n",
       "      <th>Hamilton Heights</th>\n",
       "      <td>1.441146</td>\n",
       "      <td>0.353084</td>\n",
       "      <td>0.573402</td>\n",
       "      <td>0.075741</td>\n",
       "      <td>-0.137346</td>\n",
       "      <td>0.602862</td>\n",
       "      <td>0.348144</td>\n",
       "      <td>0.266654</td>\n",
       "      <td>0.725452</td>\n",
       "      <td>0.187560</td>\n",
       "      <td>-0.085278</td>\n",
       "      <td>0.058771</td>\n",
       "      <td>0.506013</td>\n",
       "      <td>0.237855</td>\n",
       "    </tr>\n",
       "    <tr>\n",
       "      <th>North Side-South Side</th>\n",
       "      <td>1.878241</td>\n",
       "      <td>0.179607</td>\n",
       "      <td>0.661211</td>\n",
       "      <td>-0.062069</td>\n",
       "      <td>1.321493</td>\n",
       "      <td>0.298083</td>\n",
       "      <td>0.424388</td>\n",
       "      <td>0.613509</td>\n",
       "      <td>0.485689</td>\n",
       "      <td>0.298062</td>\n",
       "      <td>-0.049090</td>\n",
       "      <td>-0.084302</td>\n",
       "      <td>0.803352</td>\n",
       "      <td>0.235249</td>\n",
       "    </tr>\n",
       "    <tr>\n",
       "      <th>Central Harlem North-Polo Grounds</th>\n",
       "      <td>0.910684</td>\n",
       "      <td>0.215129</td>\n",
       "      <td>0.615542</td>\n",
       "      <td>0.055696</td>\n",
       "      <td>0.342539</td>\n",
       "      <td>0.647714</td>\n",
       "      <td>0.745357</td>\n",
       "      <td>0.077365</td>\n",
       "      <td>1.836890</td>\n",
       "      <td>0.353190</td>\n",
       "      <td>-0.067970</td>\n",
       "      <td>-0.033257</td>\n",
       "      <td>0.753164</td>\n",
       "      <td>0.230392</td>\n",
       "    </tr>\n",
       "    <tr>\n",
       "      <th>Bushwick South</th>\n",
       "      <td>1.620210</td>\n",
       "      <td>0.519642</td>\n",
       "      <td>0.668896</td>\n",
       "      <td>0.154309</td>\n",
       "      <td>1.912821</td>\n",
       "      <td>-0.051643</td>\n",
       "      <td>0.444326</td>\n",
       "      <td>0.255034</td>\n",
       "      <td>0.973455</td>\n",
       "      <td>0.344850</td>\n",
       "      <td>-0.052829</td>\n",
       "      <td>-0.092468</td>\n",
       "      <td>0.945423</td>\n",
       "      <td>0.219110</td>\n",
       "    </tr>\n",
       "    <tr>\n",
       "      <th>Manhattanville</th>\n",
       "      <td>1.218529</td>\n",
       "      <td>0.861705</td>\n",
       "      <td>0.725806</td>\n",
       "      <td>0.181075</td>\n",
       "      <td>-0.626436</td>\n",
       "      <td>0.115190</td>\n",
       "      <td>0.088903</td>\n",
       "      <td>0.651034</td>\n",
       "      <td>0.904730</td>\n",
       "      <td>-0.171017</td>\n",
       "      <td>-0.059116</td>\n",
       "      <td>0.367204</td>\n",
       "      <td>0.395108</td>\n",
       "      <td>0.211797</td>\n",
       "    </tr>\n",
       "    <tr>\n",
       "      <th>Clinton Hill</th>\n",
       "      <td>0.522297</td>\n",
       "      <td>0.166500</td>\n",
       "      <td>0.771067</td>\n",
       "      <td>0.103886</td>\n",
       "      <td>2.032653</td>\n",
       "      <td>0.223755</td>\n",
       "      <td>0.310261</td>\n",
       "      <td>0.351304</td>\n",
       "      <td>1.038579</td>\n",
       "      <td>0.142342</td>\n",
       "      <td>-0.003770</td>\n",
       "      <td>-0.168105</td>\n",
       "      <td>0.779771</td>\n",
       "      <td>0.192649</td>\n",
       "    </tr>\n",
       "    <tr>\n",
       "      <th>Grasmere-Arrochar-Ft. Wadsworth</th>\n",
       "      <td>0.153086</td>\n",
       "      <td>0.285600</td>\n",
       "      <td>0.162826</td>\n",
       "      <td>0.793923</td>\n",
       "      <td>1.229398</td>\n",
       "      <td>-0.081388</td>\n",
       "      <td>0.488900</td>\n",
       "      <td>0.016908</td>\n",
       "      <td>-0.027587</td>\n",
       "      <td>-0.063979</td>\n",
       "      <td>-0.193672</td>\n",
       "      <td>-0.136952</td>\n",
       "      <td>0.366716</td>\n",
       "      <td>0.181336</td>\n",
       "    </tr>\n",
       "    <tr>\n",
       "      <th>East Concourse-Concourse Village</th>\n",
       "      <td>0.344150</td>\n",
       "      <td>1.768992</td>\n",
       "      <td>0.619820</td>\n",
       "      <td>0.176863</td>\n",
       "      <td>0.743469</td>\n",
       "      <td>-0.121366</td>\n",
       "      <td>0.169998</td>\n",
       "      <td>0.205929</td>\n",
       "      <td>1.342178</td>\n",
       "      <td>-0.146407</td>\n",
       "      <td>-0.058936</td>\n",
       "      <td>0.798765</td>\n",
       "      <td>0.546425</td>\n",
       "      <td>0.180874</td>\n",
       "    </tr>\n",
       "    <tr>\n",
       "      <th>Bushwick North</th>\n",
       "      <td>1.509772</td>\n",
       "      <td>0.450230</td>\n",
       "      <td>0.604361</td>\n",
       "      <td>0.183495</td>\n",
       "      <td>1.723288</td>\n",
       "      <td>-0.085915</td>\n",
       "      <td>0.475884</td>\n",
       "      <td>0.299171</td>\n",
       "      <td>0.392872</td>\n",
       "      <td>0.313123</td>\n",
       "      <td>-0.097362</td>\n",
       "      <td>0.077017</td>\n",
       "      <td>0.800590</td>\n",
       "      <td>0.180514</td>\n",
       "    </tr>\n",
       "    <tr>\n",
       "      <th>East Williamsburg</th>\n",
       "      <td>0.802894</td>\n",
       "      <td>0.307881</td>\n",
       "      <td>0.504559</td>\n",
       "      <td>0.460606</td>\n",
       "      <td>1.598565</td>\n",
       "      <td>0.055791</td>\n",
       "      <td>0.763295</td>\n",
       "      <td>0.267446</td>\n",
       "      <td>0.364866</td>\n",
       "      <td>0.057888</td>\n",
       "      <td>-0.070789</td>\n",
       "      <td>0.067961</td>\n",
       "      <td>0.684161</td>\n",
       "      <td>0.180275</td>\n",
       "    </tr>\n",
       "    <tr>\n",
       "      <th>Grymes Hill-Clifton-Fox Hills</th>\n",
       "      <td>0.618796</td>\n",
       "      <td>-0.108977</td>\n",
       "      <td>0.387931</td>\n",
       "      <td>0.656315</td>\n",
       "      <td>1.294863</td>\n",
       "      <td>-0.107636</td>\n",
       "      <td>0.098436</td>\n",
       "      <td>0.319937</td>\n",
       "      <td>0.078609</td>\n",
       "      <td>0.223573</td>\n",
       "      <td>0.272391</td>\n",
       "      <td>-0.081878</td>\n",
       "      <td>0.367707</td>\n",
       "      <td>0.177515</td>\n",
       "    </tr>\n",
       "    <tr>\n",
       "      <th>Far Rockaway-Bayswater</th>\n",
       "      <td>0.474639</td>\n",
       "      <td>1.145833</td>\n",
       "      <td>0.724960</td>\n",
       "      <td>0.079263</td>\n",
       "      <td>1.519575</td>\n",
       "      <td>-0.048835</td>\n",
       "      <td>0.418249</td>\n",
       "      <td>0.666468</td>\n",
       "      <td>0.784358</td>\n",
       "      <td>0.192239</td>\n",
       "      <td>-0.169354</td>\n",
       "      <td>0.987193</td>\n",
       "      <td>0.681856</td>\n",
       "      <td>0.174629</td>\n",
       "    </tr>\n",
       "    <tr>\n",
       "      <th>West Concourse</th>\n",
       "      <td>0.654288</td>\n",
       "      <td>1.002777</td>\n",
       "      <td>0.437117</td>\n",
       "      <td>0.107791</td>\n",
       "      <td>0.647059</td>\n",
       "      <td>0.554286</td>\n",
       "      <td>0.243339</td>\n",
       "      <td>0.181975</td>\n",
       "      <td>0.822890</td>\n",
       "      <td>-0.135778</td>\n",
       "      <td>-0.202269</td>\n",
       "      <td>0.678371</td>\n",
       "      <td>0.501160</td>\n",
       "      <td>0.172113</td>\n",
       "    </tr>\n",
       "    <tr>\n",
       "      <th>Morrisania-Melrose</th>\n",
       "      <td>0.202599</td>\n",
       "      <td>1.454182</td>\n",
       "      <td>0.487524</td>\n",
       "      <td>0.169032</td>\n",
       "      <td>1.240672</td>\n",
       "      <td>0.205384</td>\n",
       "      <td>0.321320</td>\n",
       "      <td>0.084183</td>\n",
       "      <td>0.876940</td>\n",
       "      <td>-0.467387</td>\n",
       "      <td>-0.050097</td>\n",
       "      <td>0.423478</td>\n",
       "      <td>0.529859</td>\n",
       "      <td>0.170319</td>\n",
       "    </tr>\n",
       "    <tr>\n",
       "      <th>Bedford</th>\n",
       "      <td>1.216309</td>\n",
       "      <td>0.339604</td>\n",
       "      <td>0.747834</td>\n",
       "      <td>0.113535</td>\n",
       "      <td>2.023692</td>\n",
       "      <td>0.007346</td>\n",
       "      <td>0.249315</td>\n",
       "      <td>0.516779</td>\n",
       "      <td>3.251678</td>\n",
       "      <td>0.137964</td>\n",
       "      <td>0.095561</td>\n",
       "      <td>0.108736</td>\n",
       "      <td>1.232211</td>\n",
       "      <td>0.167749</td>\n",
       "    </tr>\n",
       "  </tbody>\n",
       "</table>\n",
       "</div>"
      ],
      "text/plain": [
       "                                          Dif2000-2009Bch  Dif2009-2013Bch  \\\n",
       "SoHo-TriBeCa-Civic Center-Little Italy           0.346950         0.277158   \n",
       "Battery Park City-Lower Manhattan                0.764415         1.557064   \n",
       "Queensbridge-Ravenswood-Long Island City         0.604013         0.722515   \n",
       "Springfield Gardens North                       -0.100809         0.950018   \n",
       "East Harlem South                                0.746602         0.528228   \n",
       "Hunts Point                                      0.470297         1.836364   \n",
       "Hamilton Heights                                 1.441146         0.353084   \n",
       "North Side-South Side                            1.878241         0.179607   \n",
       "Central Harlem North-Polo Grounds                0.910684         0.215129   \n",
       "Bushwick South                                   1.620210         0.519642   \n",
       "Manhattanville                                   1.218529         0.861705   \n",
       "Clinton Hill                                     0.522297         0.166500   \n",
       "Grasmere-Arrochar-Ft. Wadsworth                  0.153086         0.285600   \n",
       "East Concourse-Concourse Village                 0.344150         1.768992   \n",
       "Bushwick North                                   1.509772         0.450230   \n",
       "East Williamsburg                                0.802894         0.307881   \n",
       "Grymes Hill-Clifton-Fox Hills                    0.618796        -0.108977   \n",
       "Far Rockaway-Bayswater                           0.474639         1.145833   \n",
       "West Concourse                                   0.654288         1.002777   \n",
       "Morrisania-Melrose                               0.202599         1.454182   \n",
       "Bedford                                          1.216309         0.339604   \n",
       "\n",
       "                                          Dif2000-2009R  Dif2009-2013R  \\\n",
       "SoHo-TriBeCa-Civic Center-Little Italy        -0.739726       2.980861   \n",
       "Battery Park City-Lower Manhattan             -0.876379       2.580913   \n",
       "Queensbridge-Ravenswood-Long Island City       2.930796       0.102993   \n",
       "Springfield Gardens North                      1.136602      -0.051639   \n",
       "East Harlem South                              0.204409       0.623960   \n",
       "Hunts Point                                    1.128329       0.080774   \n",
       "Hamilton Heights                               0.573402       0.075741   \n",
       "North Side-South Side                          0.661211      -0.062069   \n",
       "Central Harlem North-Polo Grounds              0.615542       0.055696   \n",
       "Bushwick South                                 0.668896       0.154309   \n",
       "Manhattanville                                 0.725806       0.181075   \n",
       "Clinton Hill                                   0.771067       0.103886   \n",
       "Grasmere-Arrochar-Ft. Wadsworth                0.162826       0.793923   \n",
       "East Concourse-Concourse Village               0.619820       0.176863   \n",
       "Bushwick North                                 0.604361       0.183495   \n",
       "East Williamsburg                              0.504559       0.460606   \n",
       "Grymes Hill-Clifton-Fox Hills                  0.387931       0.656315   \n",
       "Far Rockaway-Bayswater                         0.724960       0.079263   \n",
       "West Concourse                                 0.437117       0.107791   \n",
       "Morrisania-Melrose                             0.487524       0.169032   \n",
       "Bedford                                        0.747834       0.113535   \n",
       "\n",
       "                                          Dif2000-2009HV  Dif2009-2013HV  \\\n",
       "SoHo-TriBeCa-Civic Center-Little Italy          0.692347       -0.119538   \n",
       "Battery Park City-Lower Manhattan               2.231280        0.402728   \n",
       "Queensbridge-Ravenswood-Long Island City        0.480513        0.809952   \n",
       "Springfield Gardens North                       0.032110        1.834074   \n",
       "East Harlem South                               1.906433        0.642426   \n",
       "Hunts Point                                     1.294378       -0.043227   \n",
       "Hamilton Heights                               -0.137346        0.602862   \n",
       "North Side-South Side                           1.321493        0.298083   \n",
       "Central Harlem North-Polo Grounds               0.342539        0.647714   \n",
       "Bushwick South                                  1.912821       -0.051643   \n",
       "Manhattanville                                 -0.626436        0.115190   \n",
       "Clinton Hill                                    2.032653        0.223755   \n",
       "Grasmere-Arrochar-Ft. Wadsworth                 1.229398       -0.081388   \n",
       "East Concourse-Concourse Village                0.743469       -0.121366   \n",
       "Bushwick North                                  1.723288       -0.085915   \n",
       "East Williamsburg                               1.598565        0.055791   \n",
       "Grymes Hill-Clifton-Fox Hills                   1.294863       -0.107636   \n",
       "Far Rockaway-Bayswater                          1.519575       -0.048835   \n",
       "West Concourse                                  0.647059        0.554286   \n",
       "Morrisania-Melrose                              1.240672        0.205384   \n",
       "Bedford                                         2.023692        0.007346   \n",
       "\n",
       "                                          Dif2000-2009HI  Dif2009-2013HI  \\\n",
       "SoHo-TriBeCa-Civic Center-Little Italy          0.429492        0.374802   \n",
       "Battery Park City-Lower Manhattan               0.380075        0.099026   \n",
       "Queensbridge-Ravenswood-Long Island City        0.129227        1.150608   \n",
       "Springfield Gardens North                       0.072840        0.374811   \n",
       "East Harlem South                               0.138156        0.151432   \n",
       "Hunts Point                                     0.260261        0.229232   \n",
       "Hamilton Heights                                0.348144        0.266654   \n",
       "North Side-South Side                           0.424388        0.613509   \n",
       "Central Harlem North-Polo Grounds               0.745357        0.077365   \n",
       "Bushwick South                                  0.444326        0.255034   \n",
       "Manhattanville                                  0.088903        0.651034   \n",
       "Clinton Hill                                    0.310261        0.351304   \n",
       "Grasmere-Arrochar-Ft. Wadsworth                 0.488900        0.016908   \n",
       "East Concourse-Concourse Village                0.169998        0.205929   \n",
       "Bushwick North                                  0.475884        0.299171   \n",
       "East Williamsburg                               0.763295        0.267446   \n",
       "Grymes Hill-Clifton-Fox Hills                   0.098436        0.319937   \n",
       "Far Rockaway-Bayswater                          0.418249        0.666468   \n",
       "West Concourse                                  0.243339        0.181975   \n",
       "Morrisania-Melrose                              0.321320        0.084183   \n",
       "Bedford                                         0.249315        0.516779   \n",
       "\n",
       "                                          Dif2000-2009Pr  Dif2009-2013Pr  \\\n",
       "SoHo-TriBeCa-Civic Center-Little Italy          0.385545       -0.040920   \n",
       "Battery Park City-Lower Manhattan               2.429166        0.010257   \n",
       "Queensbridge-Ravenswood-Long Island City        0.619392        0.279802   \n",
       "Springfield Gardens North                       0.583056       -0.044771   \n",
       "East Harlem South                               0.270158        0.164201   \n",
       "Hunts Point                                     1.005375       -0.082363   \n",
       "Hamilton Heights                                0.725452        0.187560   \n",
       "North Side-South Side                           0.485689        0.298062   \n",
       "Central Harlem North-Polo Grounds               1.836890        0.353190   \n",
       "Bushwick South                                  0.973455        0.344850   \n",
       "Manhattanville                                  0.904730       -0.171017   \n",
       "Clinton Hill                                    1.038579        0.142342   \n",
       "Grasmere-Arrochar-Ft. Wadsworth                -0.027587       -0.063979   \n",
       "East Concourse-Concourse Village                1.342178       -0.146407   \n",
       "Bushwick North                                  0.392872        0.313123   \n",
       "East Williamsburg                               0.364866        0.057888   \n",
       "Grymes Hill-Clifton-Fox Hills                   0.078609        0.223573   \n",
       "Far Rockaway-Bayswater                          0.784358        0.192239   \n",
       "West Concourse                                  0.822890       -0.135778   \n",
       "Morrisania-Melrose                              0.876940       -0.467387   \n",
       "Bedford                                         3.251678        0.137964   \n",
       "\n",
       "                                          Dif2000-2009Pv  Dif2009-2013Pv  \\\n",
       "SoHo-TriBeCa-Civic Center-Little Italy         -0.100027       -0.158291   \n",
       "Battery Park City-Lower Manhattan               0.254068        1.148570   \n",
       "Queensbridge-Ravenswood-Long Island City       -0.125163        0.004743   \n",
       "Springfield Gardens North                       0.100128        0.705465   \n",
       "East Harlem South                              -0.094417        0.069679   \n",
       "Hunts Point                                     0.083762        0.567362   \n",
       "Hamilton Heights                               -0.085278        0.058771   \n",
       "North Side-South Side                          -0.049090       -0.084302   \n",
       "Central Harlem North-Polo Grounds              -0.067970       -0.033257   \n",
       "Bushwick South                                 -0.052829       -0.092468   \n",
       "Manhattanville                                 -0.059116        0.367204   \n",
       "Clinton Hill                                   -0.003770       -0.168105   \n",
       "Grasmere-Arrochar-Ft. Wadsworth                -0.193672       -0.136952   \n",
       "East Concourse-Concourse Village               -0.058936        0.798765   \n",
       "Bushwick North                                 -0.097362        0.077017   \n",
       "East Williamsburg                              -0.070789        0.067961   \n",
       "Grymes Hill-Clifton-Fox Hills                   0.272391       -0.081878   \n",
       "Far Rockaway-Bayswater                         -0.169354        0.987193   \n",
       "West Concourse                                 -0.202269        0.678371   \n",
       "Morrisania-Melrose                             -0.050097        0.423478   \n",
       "Bedford                                         0.095561        0.108736   \n",
       "\n",
       "                                          Genindx2009  Genindx2013  \n",
       "SoHo-TriBeCa-Civic Center-Little Italy       0.202439     0.605109  \n",
       "Battery Park City-Lower Manhattan            0.779081     0.583570  \n",
       "Queensbridge-Ravenswood-Long Island City     0.814851     0.510188  \n",
       "Springfield Gardens North                    0.270612     0.392838  \n",
       "East Harlem South                            0.560029     0.340095  \n",
       "Hunts Point                                  0.679146     0.242236  \n",
       "Hamilton Heights                             0.506013     0.237855  \n",
       "North Side-South Side                        0.803352     0.235249  \n",
       "Central Harlem North-Polo Grounds            0.753164     0.230392  \n",
       "Bushwick South                               0.945423     0.219110  \n",
       "Manhattanville                               0.395108     0.211797  \n",
       "Clinton Hill                                 0.779771     0.192649  \n",
       "Grasmere-Arrochar-Ft. Wadsworth              0.366716     0.181336  \n",
       "East Concourse-Concourse Village             0.546425     0.180874  \n",
       "Bushwick North                               0.800590     0.180514  \n",
       "East Williamsburg                            0.684161     0.180275  \n",
       "Grymes Hill-Clifton-Fox Hills                0.367707     0.177515  \n",
       "Far Rockaway-Bayswater                       0.681856     0.174629  \n",
       "West Concourse                               0.501160     0.172113  \n",
       "Morrisania-Melrose                           0.529859     0.170319  \n",
       "Bedford                                      1.232211     0.167749  "
      ]
     },
     "execution_count": 103,
     "metadata": {},
     "output_type": "execute_result"
    }
   ],
   "source": [
    "Totalb.sort(['Genindx2013'], ascending=False).head(21)"
   ]
  },
  {
   "cell_type": "code",
   "execution_count": 104,
   "metadata": {
    "collapsed": false
   },
   "outputs": [],
   "source": [
    "data = gpd.read_file('neighborhood_nta_census.geojson')"
   ]
  },
  {
   "cell_type": "code",
   "execution_count": 105,
   "metadata": {
    "collapsed": false
   },
   "outputs": [],
   "source": [
    "psGeom = ps.open('neighborhood_nta_census/neighborhood_nta_census.shp', 'r')"
   ]
  },
  {
   "cell_type": "code",
   "execution_count": 106,
   "metadata": {
    "collapsed": true
   },
   "outputs": [],
   "source": [
    "W = ps.buildContiguity(psGeom, criterion='rook', ids=data['ntaname'].values.tolist())"
   ]
  },
  {
   "cell_type": "code",
   "execution_count": 107,
   "metadata": {
    "collapsed": true
   },
   "outputs": [],
   "source": [
    "m = list(Totalb.sort(['Genindx2009'], ascending=False).head(21).index.values) "
   ]
  },
  {
   "cell_type": "code",
   "execution_count": 108,
   "metadata": {
    "collapsed": false
   },
   "outputs": [
    {
     "data": {
      "text/plain": [
       "[u'Claremont-Bathgate',\n",
       " u'Bedford',\n",
       " u'South Jamaica',\n",
       " u'Central Harlem South',\n",
       " u'Marble Hill-Inwood',\n",
       " u'Bushwick South',\n",
       " u'Crown Heights North',\n",
       " u'Stuyvesant Heights',\n",
       " u'Co-op City',\n",
       " u'Greenpoint',\n",
       " u'Queensbridge-Ravenswood-Long Island City',\n",
       " u'North Side-South Side',\n",
       " u'Bushwick North',\n",
       " u'Clinton Hill',\n",
       " u'Battery Park City-Lower Manhattan',\n",
       " u'East Harlem North',\n",
       " u'Parkchester',\n",
       " u'Central Harlem North-Polo Grounds',\n",
       " u'Chinatown',\n",
       " u'Baisley Park',\n",
       " u'East Elmhurst']"
      ]
     },
     "execution_count": 108,
     "metadata": {},
     "output_type": "execute_result"
    }
   ],
   "source": [
    "m"
   ]
  },
  {
   "cell_type": "code",
   "execution_count": 110,
   "metadata": {
    "collapsed": false
   },
   "outputs": [],
   "source": [
    "blist = [x.encode('UTF8') for x in m]"
   ]
  },
  {
   "cell_type": "code",
   "execution_count": 111,
   "metadata": {
    "collapsed": false
   },
   "outputs": [
    {
     "data": {
      "text/plain": [
       "['Claremont-Bathgate',\n",
       " 'Bedford',\n",
       " 'South Jamaica',\n",
       " 'Central Harlem South',\n",
       " 'Marble Hill-Inwood',\n",
       " 'Bushwick South',\n",
       " 'Crown Heights North',\n",
       " 'Stuyvesant Heights',\n",
       " 'Co-op City',\n",
       " 'Greenpoint',\n",
       " 'Queensbridge-Ravenswood-Long Island City',\n",
       " 'North Side-South Side',\n",
       " 'Bushwick North',\n",
       " 'Clinton Hill',\n",
       " 'Battery Park City-Lower Manhattan',\n",
       " 'East Harlem North',\n",
       " 'Parkchester',\n",
       " 'Central Harlem North-Polo Grounds',\n",
       " 'Chinatown',\n",
       " 'Baisley Park',\n",
       " 'East Elmhurst']"
      ]
     },
     "execution_count": 111,
     "metadata": {},
     "output_type": "execute_result"
    }
   ],
   "source": [
    "blist"
   ]
  },
  {
   "cell_type": "code",
   "execution_count": 112,
   "metadata": {
    "collapsed": false
   },
   "outputs": [],
   "source": [
    "a = []\n",
    "for i in blist:\n",
    "    b = W[i].keys()\n",
    "    a.append(b)"
   ]
  },
  {
   "cell_type": "code",
   "execution_count": 113,
   "metadata": {
    "collapsed": false
   },
   "outputs": [
    {
     "data": {
      "text/plain": [
       "[[u'Fordham South',\n",
       "  u'Belmont',\n",
       "  u'Mount Hope',\n",
       "  u'East Concourse-Concourse Village',\n",
       "  u'East Tremont',\n",
       "  u'Morrisania-Melrose'],\n",
       " [u'East Williamsburg',\n",
       "  u'Crown Heights North',\n",
       "  u'Williamsburg',\n",
       "  u'Bushwick South',\n",
       "  u'Clinton Hill',\n",
       "  u'Stuyvesant Heights'],\n",
       " [u'Baisley Park', u'South Ozone Park', u'St. Albans', u'Jamaica'],\n",
       " [u'East Harlem North',\n",
       "  u'East Harlem South',\n",
       "  u'Central Harlem North-Polo Grounds',\n",
       "  u'Morningside Heights'],\n",
       " [u'Spuyten Duyvil-Kingsbridge',\n",
       "  u'Washington Heights North',\n",
       "  u'Kingsbridge Heights'],\n",
       " [u'Bedford',\n",
       "  u'East Williamsburg',\n",
       "  u'Stuyvesant Heights',\n",
       "  u'Ocean Hill',\n",
       "  u'Bushwick North',\n",
       "  u'Cypress Hills-City Line'],\n",
       " [u'Bedford',\n",
       "  u'Crown Heights South',\n",
       "  u'Prospect Heights',\n",
       "  u'Clinton Hill',\n",
       "  u'Ocean Hill',\n",
       "  u'Stuyvesant Heights',\n",
       "  u'Rugby-Remsen Village',\n",
       "  u'Brownsville'],\n",
       " [u'Bedford', u'Bushwick South', u'Ocean Hill', u'Crown Heights North'],\n",
       " [u'Eastchester-Edenwald-Baychester'],\n",
       " [u'North Side-South Side', u'East Williamsburg', u'Murray Hill-Kips Bay'],\n",
       " [u'Hunters Point-Sunnyside-West Maspeth', u'Old Astoria', u'Astoria'],\n",
       " [u'Lower East Side',\n",
       "  u'East Williamsburg',\n",
       "  u'Greenpoint',\n",
       "  u'Williamsburg',\n",
       "  u'Stuyvesant Town-Cooper Village'],\n",
       " [u'East Williamsburg', u'Bushwick South', u'Ridgewood'],\n",
       " [u'Prospect Heights',\n",
       "  u'Bedford',\n",
       "  u'Fort Greene',\n",
       "  u'Williamsburg',\n",
       "  u'Crown Heights North'],\n",
       " [u'SoHo-TriBeCa-Civic Center-Little Italy',\n",
       "  u'DUMBO-Vinegar Hill-Downtown Brooklyn-Boerum Hill',\n",
       "  u'Chinatown',\n",
       "  u'Brooklyn Heights-Cobble Hill'],\n",
       " [u'East Harlem South',\n",
       "  u'Central Harlem North-Polo Grounds',\n",
       "  u'Central Harlem South'],\n",
       " [u'Van Nest-Morris Park-Westchester Square',\n",
       "  u'Westchester-Unionport',\n",
       "  u'West Farms-Bronx River',\n",
       "  u'Soundview-Bruckner'],\n",
       " [u'East Harlem North',\n",
       "  u'Central Harlem South',\n",
       "  u'Hamilton Heights',\n",
       "  u'Manhattanville'],\n",
       " [u'Lower East Side',\n",
       "  u'SoHo-TriBeCa-Civic Center-Little Italy',\n",
       "  u'Battery Park City-Lower Manhattan',\n",
       "  u'East Village'],\n",
       " [u'St. Albans',\n",
       "  u'South Ozone Park',\n",
       "  u'Springfield Gardens North',\n",
       "  u'South Jamaica',\n",
       "  u'Springfield Gardens South-Brookville'],\n",
       " [u'Jackson Heights', u'Airport', u'North Corona']]"
      ]
     },
     "execution_count": 113,
     "metadata": {},
     "output_type": "execute_result"
    }
   ],
   "source": [
    "a"
   ]
  },
  {
   "cell_type": "code",
   "execution_count": 127,
   "metadata": {
    "collapsed": false
   },
   "outputs": [],
   "source": [
    "c=[]\n",
    "for i in a:\n",
    "    d = (Totalb['Genindx2013'].loc[i])    \n",
    "    c.append(d)"
   ]
  },
  {
   "cell_type": "code",
   "execution_count": 128,
   "metadata": {
    "collapsed": false
   },
   "outputs": [
    {
     "name": "stdout",
     "output_type": "stream",
     "text": [
      "0.0370981721149\n",
      "0.131483980724\n",
      "-0.00519416257001\n",
      "0.137365200574\n",
      "0.0319110213724\n",
      "0.133797759859\n",
      "0.105271542971\n",
      "0.140691593402\n",
      "-0.0628370298608\n",
      "0.139929094282\n",
      "0.0448805218662\n",
      "0.0582324980079\n",
      "0.161358146048\n",
      "0.0646070549318\n",
      "0.210279419113\n",
      "0.238753416915\n",
      "-0.045670568535\n",
      "0.147102445369\n",
      "0.317342588736\n",
      "0.0283450743315\n",
      "0.0500737913559\n"
     ]
    }
   ],
   "source": [
    "for i in range (0,len(c)):\n",
    "    print(c[i].mean())"
   ]
  },
  {
   "cell_type": "code",
   "execution_count": null,
   "metadata": {
    "collapsed": false
   },
   "outputs": [],
   "source": [
    "a"
   ]
  },
  {
   "cell_type": "code",
   "execution_count": 131,
   "metadata": {
    "collapsed": false
   },
   "outputs": [
    {
     "data": {
      "text/plain": [
       "count    187.000000\n",
       "mean       0.034788\n",
       "std        0.264817\n",
       "min       -0.509170\n",
       "25%       -0.054065\n",
       "50%        0.017728\n",
       "75%        0.085002\n",
       "max        3.109356\n",
       "Name: Genindx2013, dtype: float64"
      ]
     },
     "execution_count": 131,
     "metadata": {},
     "output_type": "execute_result"
    }
   ],
   "source": [
    "Totala['Genindx2013'].describe()"
   ]
  },
  {
   "cell_type": "code",
   "execution_count": 132,
   "metadata": {
    "collapsed": false
   },
   "outputs": [
    {
     "data": {
      "text/plain": [
       "<matplotlib.text.Text at 0x25bc5518>"
      ]
     },
     "execution_count": 132,
     "metadata": {},
     "output_type": "execute_result"
    },
    {
     "data": {
      "image/png": "[encoded data removed]",
      "text/plain": [
       "<matplotlib.figure.Figure at 0x1b709fd0>"
      ]
     },
     "metadata": {},
     "output_type": "display_data"
    }
   ],
   "source": [
    "plt.figure(figsize=(8,6))\n",
    "ax = Totala['Genindx2013'].hist(color='blue', alpha=0.7, bins=10)\n",
    "ax.set_xlabel(\"GI Index values 2009-2013\", fontsize = 12)\n",
    "ax.set_ylabel(\"# of observations\", fontsize = 12)"
   ]
  },
  {
   "cell_type": "code",
   "execution_count": 141,
   "metadata": {
    "collapsed": false
   },
   "outputs": [
    {
     "ename": "ValueError",
     "evalue": "This Series is a view of some other array, to sort in-place you must create a copy",
     "output_type": "error",
     "traceback": [
      "\u001b[1;31m---------------------------------------------------------------------------\u001b[0m",
      "\u001b[1;31mValueError\u001b[0m                                Traceback (most recent call last)",
      "\u001b[1;32m<ipython-input-141-6317ca648002>\u001b[0m in \u001b[0;36m<module>\u001b[1;34m()\u001b[0m\n\u001b[1;32m----> 1\u001b[1;33m \u001b[0ma\u001b[0m \u001b[1;33m=\u001b[0m \u001b[0mTotala\u001b[0m\u001b[1;33m[\u001b[0m\u001b[1;34m'Genindx2013'\u001b[0m\u001b[1;33m]\u001b[0m\u001b[1;33m.\u001b[0m\u001b[0msort\u001b[0m\u001b[1;33m(\u001b[0m\u001b[1;33m)\u001b[0m\u001b[1;33m\u001b[0m\u001b[0m\n\u001b[0m",
      "\u001b[1;32mC:\\Users\\juanpablo\\Anaconda\\lib\\site-packages\\pandas\\core\\series.pyc\u001b[0m in \u001b[0;36msort\u001b[1;34m(self, axis, ascending, kind, na_position, inplace)\u001b[0m\n\u001b[0;32m   1711\u001b[0m                           \u001b[0mkind\u001b[0m\u001b[1;33m=\u001b[0m\u001b[0mkind\u001b[0m\u001b[1;33m,\u001b[0m\u001b[1;33m\u001b[0m\u001b[0m\n\u001b[0;32m   1712\u001b[0m                           \u001b[0mna_position\u001b[0m\u001b[1;33m=\u001b[0m\u001b[0mna_position\u001b[0m\u001b[1;33m,\u001b[0m\u001b[1;33m\u001b[0m\u001b[0m\n\u001b[1;32m-> 1713\u001b[1;33m                           inplace=inplace)\n\u001b[0m\u001b[0;32m   1714\u001b[0m \u001b[1;33m\u001b[0m\u001b[0m\n\u001b[0;32m   1715\u001b[0m     \u001b[1;32mdef\u001b[0m \u001b[0morder\u001b[0m\u001b[1;33m(\u001b[0m\u001b[0mself\u001b[0m\u001b[1;33m,\u001b[0m \u001b[0mna_last\u001b[0m\u001b[1;33m=\u001b[0m\u001b[0mNone\u001b[0m\u001b[1;33m,\u001b[0m \u001b[0mascending\u001b[0m\u001b[1;33m=\u001b[0m\u001b[0mTrue\u001b[0m\u001b[1;33m,\u001b[0m \u001b[0mkind\u001b[0m\u001b[1;33m=\u001b[0m\u001b[1;34m'quicksort'\u001b[0m\u001b[1;33m,\u001b[0m \u001b[0mna_position\u001b[0m\u001b[1;33m=\u001b[0m\u001b[1;34m'last'\u001b[0m\u001b[1;33m,\u001b[0m \u001b[0minplace\u001b[0m\u001b[1;33m=\u001b[0m\u001b[0mFalse\u001b[0m\u001b[1;33m)\u001b[0m\u001b[1;33m:\u001b[0m\u001b[1;33m\u001b[0m\u001b[0m\n",
      "\u001b[1;32mC:\\Users\\juanpablo\\Anaconda\\lib\\site-packages\\pandas\\core\\series.pyc\u001b[0m in \u001b[0;36morder\u001b[1;34m(self, na_last, ascending, kind, na_position, inplace)\u001b[0m\n\u001b[0;32m   1744\u001b[0m         \u001b[1;31m# GH 5856/5853\u001b[0m\u001b[1;33m\u001b[0m\u001b[1;33m\u001b[0m\u001b[0m\n\u001b[0;32m   1745\u001b[0m         \u001b[1;32mif\u001b[0m \u001b[0minplace\u001b[0m \u001b[1;32mand\u001b[0m \u001b[0mself\u001b[0m\u001b[1;33m.\u001b[0m\u001b[0m_is_cached\u001b[0m\u001b[1;33m:\u001b[0m\u001b[1;33m\u001b[0m\u001b[0m\n\u001b[1;32m-> 1746\u001b[1;33m             raise ValueError(\"This Series is a view of some other array, to \"\n\u001b[0m\u001b[0;32m   1747\u001b[0m                              \"sort in-place you must create a copy\")\n\u001b[0;32m   1748\u001b[0m \u001b[1;33m\u001b[0m\u001b[0m\n",
      "\u001b[1;31mValueError\u001b[0m: This Series is a view of some other array, to sort in-place you must create a copy"
     ]
    }
   ],
   "source": [
    "a = Totala['Genindx2013'].sort()"
   ]
  },
  {
   "cell_type": "code",
   "execution_count": 137,
   "metadata": {
    "collapsed": false
   },
   "outputs": [
    {
     "data": {
      "text/plain": [
       "Airport                                                          NaN\n",
       "Allerton-Pelham Gardens                                    -0.333897\n",
       "Annadale-Huguenot-Prince's Bay-Eltingville                 -0.509170\n",
       "Arden Heights                                               0.048192\n",
       "Astoria                                                     0.025145\n",
       "Auburndale                                                 -0.123163\n",
       "Baisley Park                                                0.033732\n",
       "Bath Beach                                                  0.127035\n",
       "Battery Park City-Lower Manhattan                           0.583570\n",
       "Bay Ridge                                                   0.007205\n",
       "Bayside-Bayside Hills                                       0.087443\n",
       "Bedford                                                     0.167749\n",
       "Bedford Park-Fordham North                                 -0.220437\n",
       "Bellerose                                                  -0.270409\n",
       "Belmont                                                    -0.090992\n",
       "Bensonhurst East                                            0.041949\n",
       "Bensonhurst West                                            0.027919\n",
       "Borough Park                                               -0.005254\n",
       "Breezy Point-Belle Harbor-Rockaway Park-Broad Channel      -0.108970\n",
       "Briarwood-Jamaica Hills                                    -0.082178\n",
       "Brighton Beach                                             -0.028287\n",
       "Bronxdale                                                  -0.015996\n",
       "Brooklyn Heights-Cobble Hill                                0.084075\n",
       "Brownsville                                                 0.086152\n",
       "Bushwick North                                              0.180514\n",
       "Bushwick South                                              0.219110\n",
       "Cambria Heights                                             0.074324\n",
       "Canarsie                                                    0.004943\n",
       "Carroll Gardens-Columbia Street-Red Hook                    0.160534\n",
       "Central Harlem North-Polo Grounds                           0.230392\n",
       "                                                              ...   \n",
       "Sunset Park West                                            0.070355\n",
       "Todt Hill-Emerson Hill-Heartland Village-Lighthouse Hill    0.025963\n",
       "Turtle Bay-East Midtown                                    -0.207822\n",
       "University Heights-Morris Heights                          -0.013737\n",
       "Upper East Side-Carnegie Hill                                    NaN\n",
       "Upper West Side                                            -0.113236\n",
       "Van Cortlandt Village                                      -0.184054\n",
       "Van Nest-Morris Park-Westchester Square                    -0.110510\n",
       "Washington Heights North                                    0.143792\n",
       "Washington Heights South                                    0.027849\n",
       "West Brighton                                              -0.026048\n",
       "West Concourse                                              0.172113\n",
       "West Farms-Bronx River                                      0.089894\n",
       "West New Brighton-New Brighton-St. George                   0.007902\n",
       "West Village                                                0.022990\n",
       "Westchester-Unionport                                       0.002417\n",
       "Westerleigh                                                -0.022606\n",
       "Whitestone                                                  0.012057\n",
       "Williamsbridge-Olinville                                   -0.122649\n",
       "Williamsburg                                               -0.044568\n",
       "Windsor Terrace                                             0.076491\n",
       "Woodhaven                                                   0.003520\n",
       "Woodlawn-Wakefield                                         -0.126594\n",
       "Woodside                                                   -0.024181\n",
       "Yorkville                                                  -0.021433\n",
       "park-cemetery-etc-Bronx                                     3.109356\n",
       "park-cemetery-etc-Brooklyn                                       NaN\n",
       "park-cemetery-etc-Manhattan                                      NaN\n",
       "park-cemetery-etc-Queens                                   -0.015368\n",
       "park-cemetery-etc-Staten Island                                  NaN\n",
       "Name: Genindx2013, dtype: float64"
      ]
     },
     "execution_count": 137,
     "metadata": {},
     "output_type": "execute_result"
    }
   ],
   "source": []
  },
  {
   "cell_type": "code",
   "execution_count": 172,
   "metadata": {
    "collapsed": true
   },
   "outputs": [],
   "source": [
    "#adir={}\n",
    "#for i in blist:\n",
    "    #adir[i]=W[i].keys()"
   ]
  }
 ],
 "metadata": {
  "kernelspec": {
   "display_name": "Python 2",
   "language": "python",
   "name": "python2"
  },
  "language_info": {
   "codemirror_mode": {
    "name": "ipython",
    "version": 2
   },
   "file_extension": ".py",
   "mimetype": "text/x-python",
   "name": "python",
   "nbconvert_exporter": "python",
   "pygments_lexer": "ipython2",
   "version": "2.7.10"
  }
 },
 "nbformat": 4,
 "nbformat_minor": 0
}
