{
 "cells": [
  {
   "cell_type": "code",
   "execution_count": 1,
   "metadata": {
    "collapsed": false
   },
   "outputs": [
    {
     "name": "stdout",
     "output_type": "stream",
     "text": [
      "Populating the interactive namespace from numpy and matplotlib\n"
     ]
    }
   ],
   "source": [
    "import pylab as pl\n",
    "import pandas as pd\n",
    "import numpy as np\n",
    "from numpy import ma\n",
    "import os\n",
    "import scipy.stats\n",
    "import statsmodels.api as sm\n",
    "import statsmodels.formula.api as smf\n",
    "from statsmodels.graphics.api import abline_plot\n",
    "import statsmodels.api as sm\n",
    "import statsmodels.formula.api as smf\n",
    "%pylab inline"
   ]
  },
  {
   "cell_type": "code",
   "execution_count": 2,
   "metadata": {
    "collapsed": false
   },
   "outputs": [
    {
     "data": {
      "text/plain": [
       "Index([u'Id2', u'Median Rent 2000'], dtype='object')"
      ]
     },
     "execution_count": 2,
     "metadata": {},
     "output_type": "execute_result"
    }
   ],
   "source": [
    "HouseMR2000 = pd.read_excel('Median Rent 2000.xlsx')\n",
    "HouseMR2000.columns"
   ]
  },
  {
   "cell_type": "code",
   "execution_count": 3,
   "metadata": {
    "collapsed": false
   },
   "outputs": [
    {
     "data": {
      "text/plain": [
       "Index([u'Id2', u'Median Rent 2013'], dtype='object')"
      ]
     },
     "execution_count": 3,
     "metadata": {},
     "output_type": "execute_result"
    }
   ],
   "source": [
    "HouseMR2013 = pd.read_excel('Median Rent 2013.xlsx')\n",
    "HouseMR2013.columns"
   ]
  },
  {
   "cell_type": "code",
   "execution_count": 4,
   "metadata": {
    "collapsed": true
   },
   "outputs": [],
   "source": [
    "HouseMR13yr = pd.merge(HouseMR2000, HouseMR2013, on='Id2')"
   ]
  },
  {
   "cell_type": "code",
   "execution_count": 5,
   "metadata": {
    "collapsed": false
   },
   "outputs": [
    {
     "data": {
      "text/html": [
       "<div>\n",
       "<table border=\"1\" class=\"dataframe\">\n",
       "  <thead>\n",
       "    <tr style=\"text-align: right;\">\n",
       "      <th></th>\n",
       "      <th>Id2</th>\n",
       "      <th>Median Rent 2000</th>\n",
       "      <th>Median Rent 2013</th>\n",
       "    </tr>\n",
       "  </thead>\n",
       "  <tbody>\n",
       "    <tr>\n",
       "      <th>0</th>\n",
       "      <td>36005000100</td>\n",
       "      <td>0</td>\n",
       "      <td>NaN</td>\n",
       "    </tr>\n",
       "    <tr>\n",
       "      <th>1</th>\n",
       "      <td>36005000200</td>\n",
       "      <td>730</td>\n",
       "      <td>1264</td>\n",
       "    </tr>\n",
       "    <tr>\n",
       "      <th>2</th>\n",
       "      <td>36005000400</td>\n",
       "      <td>640</td>\n",
       "      <td>1413</td>\n",
       "    </tr>\n",
       "    <tr>\n",
       "      <th>3</th>\n",
       "      <td>36005001600</td>\n",
       "      <td>558</td>\n",
       "      <td>863</td>\n",
       "    </tr>\n",
       "    <tr>\n",
       "      <th>4</th>\n",
       "      <td>36005002000</td>\n",
       "      <td>266</td>\n",
       "      <td>472</td>\n",
       "    </tr>\n",
       "  </tbody>\n",
       "</table>\n",
       "</div>"
      ],
      "text/plain": [
       "           Id2  Median Rent 2000  Median Rent 2013\n",
       "0  36005000100                 0               NaN\n",
       "1  36005000200               730              1264\n",
       "2  36005000400               640              1413\n",
       "3  36005001600               558               863\n",
       "4  36005002000               266               472"
      ]
     },
     "execution_count": 5,
     "metadata": {},
     "output_type": "execute_result"
    }
   ],
   "source": [
    "HouseMR13yr.head()"
   ]
  },
  {
   "cell_type": "code",
   "execution_count": 33,
   "metadata": {
    "collapsed": true
   },
   "outputs": [],
   "source": [
    "HouseMR13yr['Pchange'] = (HouseMR13yr['Median Rent 2013']-HouseMR13yr['Median Rent 2000'])/(HouseMR13yr['Median Rent 2000'])"
   ]
  },
  {
   "cell_type": "code",
   "execution_count": 34,
   "metadata": {
    "collapsed": false
   },
   "outputs": [
    {
     "data": {
      "text/html": [
       "<div>\n",
       "<table border=\"1\" class=\"dataframe\">\n",
       "  <thead>\n",
       "    <tr style=\"text-align: right;\">\n",
       "      <th></th>\n",
       "      <th>Id2</th>\n",
       "      <th>Median Rent 2000</th>\n",
       "      <th>Median Rent 2013</th>\n",
       "      <th>Pchange</th>\n",
       "    </tr>\n",
       "  </thead>\n",
       "  <tbody>\n",
       "    <tr>\n",
       "      <th>0</th>\n",
       "      <td>36005000100</td>\n",
       "      <td>0</td>\n",
       "      <td>NaN</td>\n",
       "      <td>NaN</td>\n",
       "    </tr>\n",
       "    <tr>\n",
       "      <th>1</th>\n",
       "      <td>36005000200</td>\n",
       "      <td>730</td>\n",
       "      <td>1264</td>\n",
       "      <td>0.731507</td>\n",
       "    </tr>\n",
       "    <tr>\n",
       "      <th>2</th>\n",
       "      <td>36005000400</td>\n",
       "      <td>640</td>\n",
       "      <td>1413</td>\n",
       "      <td>1.207812</td>\n",
       "    </tr>\n",
       "    <tr>\n",
       "      <th>3</th>\n",
       "      <td>36005001600</td>\n",
       "      <td>558</td>\n",
       "      <td>863</td>\n",
       "      <td>0.546595</td>\n",
       "    </tr>\n",
       "    <tr>\n",
       "      <th>4</th>\n",
       "      <td>36005002000</td>\n",
       "      <td>266</td>\n",
       "      <td>472</td>\n",
       "      <td>0.774436</td>\n",
       "    </tr>\n",
       "  </tbody>\n",
       "</table>\n",
       "</div>"
      ],
      "text/plain": [
       "           Id2  Median Rent 2000  Median Rent 2013   Pchange\n",
       "0  36005000100                 0               NaN       NaN\n",
       "1  36005000200               730              1264  0.731507\n",
       "2  36005000400               640              1413  1.207812\n",
       "3  36005001600               558               863  0.546595\n",
       "4  36005002000               266               472  0.774436"
      ]
     },
     "execution_count": 34,
     "metadata": {},
     "output_type": "execute_result"
    }
   ],
   "source": [
    "HouseMR13yr.head()"
   ]
  },
  {
   "cell_type": "code",
   "execution_count": 35,
   "metadata": {
    "collapsed": false
   },
   "outputs": [
    {
     "data": {
      "text/plain": [
       "count    1556.000000\n",
       "mean        0.663059\n",
       "std         0.416256\n",
       "min        -0.966017\n",
       "25%         0.542785\n",
       "50%         0.678982\n",
       "75%         0.827248\n",
       "max         6.393665\n",
       "Name: Pchange, dtype: float64"
      ]
     },
     "execution_count": 35,
     "metadata": {},
     "output_type": "execute_result"
    }
   ],
   "source": [
    "HouseMR13yr.Pchange.describe()"
   ]
  },
  {
   "cell_type": "code",
   "execution_count": 36,
   "metadata": {
    "collapsed": false
   },
   "outputs": [
    {
     "data": {
      "text/plain": [
       "<matplotlib.text.Text at 0x18ff8cf8>"
      ]
     },
     "execution_count": 36,
     "metadata": {},
     "output_type": "execute_result"
    },
    {
     "data": {
      "image/png": "[encoded data removed]",
      "text/plain": [
       "<matplotlib.figure.Figure at 0x18fe4b70>"
      ]
     },
     "metadata": {},
     "output_type": "display_data"
    }
   ],
   "source": [
    "plt.figure(figsize=(8,6))\n",
    "ax = HouseMR13yr['Pchange'].hist(color='red', alpha=0.7, bins=10)\n",
    "ax.set_xlabel(\"% change in median rent asked bewteen 2000 and 2013\", fontsize = 12)\n",
    "ax.set_ylabel(\"# of observations\", fontsize = 12)"
   ]
  },
  {
   "cell_type": "code",
   "execution_count": 37,
   "metadata": {
    "collapsed": true
   },
   "outputs": [],
   "source": [
    "HouseMR13yr['Id2'] = HouseMR13yr['Id2'].astype(str)"
   ]
  },
  {
   "cell_type": "code",
   "execution_count": 38,
   "metadata": {
    "collapsed": false
   },
   "outputs": [],
   "source": [
    "#HouseMR13yr['Id2'] = HouseMR13yr['Id2'].map(lambda x: str(x)[5:])"
   ]
  },
  {
   "cell_type": "code",
   "execution_count": 39,
   "metadata": {
    "collapsed": false
   },
   "outputs": [
    {
     "data": {
      "text/html": [
       "<div>\n",
       "<table border=\"1\" class=\"dataframe\">\n",
       "  <thead>\n",
       "    <tr style=\"text-align: right;\">\n",
       "      <th></th>\n",
       "      <th>Id2</th>\n",
       "      <th>Median Rent 2000</th>\n",
       "      <th>Median Rent 2013</th>\n",
       "      <th>Pchange</th>\n",
       "    </tr>\n",
       "  </thead>\n",
       "  <tbody>\n",
       "    <tr>\n",
       "      <th>0</th>\n",
       "      <td>36005000100</td>\n",
       "      <td>0</td>\n",
       "      <td>NaN</td>\n",
       "      <td>NaN</td>\n",
       "    </tr>\n",
       "    <tr>\n",
       "      <th>1</th>\n",
       "      <td>36005000200</td>\n",
       "      <td>730</td>\n",
       "      <td>1264</td>\n",
       "      <td>0.731507</td>\n",
       "    </tr>\n",
       "    <tr>\n",
       "      <th>2</th>\n",
       "      <td>36005000400</td>\n",
       "      <td>640</td>\n",
       "      <td>1413</td>\n",
       "      <td>1.207812</td>\n",
       "    </tr>\n",
       "    <tr>\n",
       "      <th>3</th>\n",
       "      <td>36005001600</td>\n",
       "      <td>558</td>\n",
       "      <td>863</td>\n",
       "      <td>0.546595</td>\n",
       "    </tr>\n",
       "    <tr>\n",
       "      <th>4</th>\n",
       "      <td>36005002000</td>\n",
       "      <td>266</td>\n",
       "      <td>472</td>\n",
       "      <td>0.774436</td>\n",
       "    </tr>\n",
       "  </tbody>\n",
       "</table>\n",
       "</div>"
      ],
      "text/plain": [
       "           Id2  Median Rent 2000  Median Rent 2013   Pchange\n",
       "0  36005000100                 0               NaN       NaN\n",
       "1  36005000200               730              1264  0.731507\n",
       "2  36005000400               640              1413  1.207812\n",
       "3  36005001600               558               863  0.546595\n",
       "4  36005002000               266               472  0.774436"
      ]
     },
     "execution_count": 39,
     "metadata": {},
     "output_type": "execute_result"
    }
   ],
   "source": [
    "HouseMR13yr.head()"
   ]
  },
  {
   "cell_type": "code",
   "execution_count": 40,
   "metadata": {
    "collapsed": false
   },
   "outputs": [],
   "source": [
    "writer = pd.ExcelWriter('Change in rent values 2000-2013.xlsx', engine='xlsxwriter')\n",
    "HouseMR13yr.to_excel(writer, sheet_name='Rent Values', header=True, index=True, startrow=0, startcol=0)"
   ]
  },
  {
   "cell_type": "code",
   "execution_count": 41,
   "metadata": {
    "collapsed": true
   },
   "outputs": [],
   "source": [
    "writer.save()"
   ]
  },
  {
   "cell_type": "code",
   "execution_count": 56,
   "metadata": {
    "collapsed": false
   },
   "outputs": [
    {
     "data": {
      "text/plain": [
       "Index([u'Id2', u'Median value 2000'], dtype='object')"
      ]
     },
     "execution_count": 56,
     "metadata": {},
     "output_type": "execute_result"
    }
   ],
   "source": [
    "MHValue2000 = pd.read_excel('Median House Value 2000.xlsx')\n",
    "MHValue2000.columns"
   ]
  },
  {
   "cell_type": "code",
   "execution_count": 57,
   "metadata": {
    "collapsed": false
   },
   "outputs": [
    {
     "data": {
      "text/plain": [
       "Index([u'Id2', u'Median value 2013'], dtype='object')"
      ]
     },
     "execution_count": 57,
     "metadata": {},
     "output_type": "execute_result"
    }
   ],
   "source": [
    "MHValue2013 = pd.read_excel('Median House Value 2013.xlsx')\n",
    "MHValue2013.columns"
   ]
  },
  {
   "cell_type": "code",
   "execution_count": 58,
   "metadata": {
    "collapsed": true
   },
   "outputs": [],
   "source": [
    "HouseMV13yr = pd.merge(MHValue2000, MHValue2013, on='Id2')"
   ]
  },
  {
   "cell_type": "code",
   "execution_count": 59,
   "metadata": {
    "collapsed": false
   },
   "outputs": [
    {
     "data": {
      "text/html": [
       "<div>\n",
       "<table border=\"1\" class=\"dataframe\">\n",
       "  <thead>\n",
       "    <tr style=\"text-align: right;\">\n",
       "      <th></th>\n",
       "      <th>Id2</th>\n",
       "      <th>Median value 2000</th>\n",
       "      <th>Median value 2013</th>\n",
       "    </tr>\n",
       "  </thead>\n",
       "  <tbody>\n",
       "    <tr>\n",
       "      <th>0</th>\n",
       "      <td>36005000100</td>\n",
       "      <td>0</td>\n",
       "      <td>NaN</td>\n",
       "    </tr>\n",
       "    <tr>\n",
       "      <th>1</th>\n",
       "      <td>36005000200</td>\n",
       "      <td>167900</td>\n",
       "      <td>418100</td>\n",
       "    </tr>\n",
       "    <tr>\n",
       "      <th>2</th>\n",
       "      <td>36005000400</td>\n",
       "      <td>168800</td>\n",
       "      <td>356800</td>\n",
       "    </tr>\n",
       "    <tr>\n",
       "      <th>3</th>\n",
       "      <td>36005001600</td>\n",
       "      <td>186800</td>\n",
       "      <td>410300</td>\n",
       "    </tr>\n",
       "    <tr>\n",
       "      <th>4</th>\n",
       "      <td>36005002000</td>\n",
       "      <td>211500</td>\n",
       "      <td>371900</td>\n",
       "    </tr>\n",
       "  </tbody>\n",
       "</table>\n",
       "</div>"
      ],
      "text/plain": [
       "           Id2  Median value 2000  Median value 2013\n",
       "0  36005000100                  0                NaN\n",
       "1  36005000200             167900             418100\n",
       "2  36005000400             168800             356800\n",
       "3  36005001600             186800             410300\n",
       "4  36005002000             211500             371900"
      ]
     },
     "execution_count": 59,
     "metadata": {},
     "output_type": "execute_result"
    }
   ],
   "source": [
    "HouseMV13yr.head()"
   ]
  },
  {
   "cell_type": "code",
   "execution_count": 60,
   "metadata": {
    "collapsed": false
   },
   "outputs": [],
   "source": [
    "HouseMV13yr['Pchange'] = (HouseMV13yr['Median value 2013']-HouseMV13yr['Median value 2000'])/HouseMV13yr['Median value 2000']"
   ]
  },
  {
   "cell_type": "code",
   "execution_count": 61,
   "metadata": {
    "collapsed": false
   },
   "outputs": [
    {
     "data": {
      "text/html": [
       "<div>\n",
       "<table border=\"1\" class=\"dataframe\">\n",
       "  <thead>\n",
       "    <tr style=\"text-align: right;\">\n",
       "      <th></th>\n",
       "      <th>Id2</th>\n",
       "      <th>Median value 2000</th>\n",
       "      <th>Median value 2013</th>\n",
       "      <th>Pchange</th>\n",
       "    </tr>\n",
       "  </thead>\n",
       "  <tbody>\n",
       "    <tr>\n",
       "      <th>0</th>\n",
       "      <td>36005000100</td>\n",
       "      <td>0</td>\n",
       "      <td>NaN</td>\n",
       "      <td>NaN</td>\n",
       "    </tr>\n",
       "    <tr>\n",
       "      <th>1</th>\n",
       "      <td>36005000200</td>\n",
       "      <td>167900</td>\n",
       "      <td>418100</td>\n",
       "      <td>1.490173</td>\n",
       "    </tr>\n",
       "    <tr>\n",
       "      <th>2</th>\n",
       "      <td>36005000400</td>\n",
       "      <td>168800</td>\n",
       "      <td>356800</td>\n",
       "      <td>1.113744</td>\n",
       "    </tr>\n",
       "    <tr>\n",
       "      <th>3</th>\n",
       "      <td>36005001600</td>\n",
       "      <td>186800</td>\n",
       "      <td>410300</td>\n",
       "      <td>1.196467</td>\n",
       "    </tr>\n",
       "    <tr>\n",
       "      <th>4</th>\n",
       "      <td>36005002000</td>\n",
       "      <td>211500</td>\n",
       "      <td>371900</td>\n",
       "      <td>0.758392</td>\n",
       "    </tr>\n",
       "  </tbody>\n",
       "</table>\n",
       "</div>"
      ],
      "text/plain": [
       "           Id2  Median value 2000  Median value 2013   Pchange\n",
       "0  36005000100                  0                NaN       NaN\n",
       "1  36005000200             167900             418100  1.490173\n",
       "2  36005000400             168800             356800  1.113744\n",
       "3  36005001600             186800             410300  1.196467\n",
       "4  36005002000             211500             371900  0.758392"
      ]
     },
     "execution_count": 61,
     "metadata": {},
     "output_type": "execute_result"
    }
   ],
   "source": [
    "HouseMV13yr.head()"
   ]
  },
  {
   "cell_type": "code",
   "execution_count": 62,
   "metadata": {
    "collapsed": false
   },
   "outputs": [
    {
     "data": {
      "text/plain": [
       "count    1692.000000\n",
       "mean             inf\n",
       "std              NaN\n",
       "min        -0.835429\n",
       "25%         1.045726\n",
       "50%         1.281012\n",
       "75%         1.604768\n",
       "max              inf\n",
       "Name: Pchange, dtype: float64"
      ]
     },
     "execution_count": 62,
     "metadata": {},
     "output_type": "execute_result"
    }
   ],
   "source": [
    "HouseMV13yr.Pchange.describe()"
   ]
  },
  {
   "cell_type": "code",
   "execution_count": 63,
   "metadata": {
    "collapsed": true
   },
   "outputs": [],
   "source": [
    "HouseMV13yr = HouseMV13yr.replace([np.inf, -np.inf], np.nan)"
   ]
  },
  {
   "cell_type": "code",
   "execution_count": 64,
   "metadata": {
    "collapsed": false
   },
   "outputs": [
    {
     "data": {
      "text/plain": [
       "count      1679.000000\n",
       "mean       1242.879117\n",
       "std       30074.585054\n",
       "min          -0.835429\n",
       "25%           1.043344\n",
       "50%           1.276701\n",
       "75%           1.595953\n",
       "max      978799.000000\n",
       "Name: Pchange, dtype: float64"
      ]
     },
     "execution_count": 64,
     "metadata": {},
     "output_type": "execute_result"
    }
   ],
   "source": [
    "HouseMV13yr.Pchange.describe()"
   ]
  },
  {
   "cell_type": "code",
   "execution_count": 65,
   "metadata": {
    "collapsed": false
   },
   "outputs": [
    {
     "data": {
      "text/html": [
       "<div>\n",
       "<table border=\"1\" class=\"dataframe\">\n",
       "  <thead>\n",
       "    <tr style=\"text-align: right;\">\n",
       "      <th></th>\n",
       "      <th>Id2</th>\n",
       "      <th>Median value 2000</th>\n",
       "      <th>Median value 2013</th>\n",
       "      <th>Pchange</th>\n",
       "    </tr>\n",
       "  </thead>\n",
       "  <tbody>\n",
       "    <tr>\n",
       "      <th>666</th>\n",
       "      <td>36047049100</td>\n",
       "      <td>10</td>\n",
       "      <td>397100</td>\n",
       "      <td>39709.000000</td>\n",
       "    </tr>\n",
       "    <tr>\n",
       "      <th>1070</th>\n",
       "      <td>36061009600</td>\n",
       "      <td>1</td>\n",
       "      <td>14700</td>\n",
       "      <td>14699.000000</td>\n",
       "    </tr>\n",
       "    <tr>\n",
       "      <th>1073</th>\n",
       "      <td>36061009900</td>\n",
       "      <td>1</td>\n",
       "      <td>978800</td>\n",
       "      <td>978799.000000</td>\n",
       "    </tr>\n",
       "    <tr>\n",
       "      <th>1076</th>\n",
       "      <td>36061010200</td>\n",
       "      <td>1</td>\n",
       "      <td>588700</td>\n",
       "      <td>588699.000000</td>\n",
       "    </tr>\n",
       "    <tr>\n",
       "      <th>1164</th>\n",
       "      <td>36061018400</td>\n",
       "      <td>1</td>\n",
       "      <td>462500</td>\n",
       "      <td>462499.000000</td>\n",
       "    </tr>\n",
       "    <tr>\n",
       "      <th>1240</th>\n",
       "      <td>36061029100</td>\n",
       "      <td>12600</td>\n",
       "      <td>283700</td>\n",
       "      <td>21.515873</td>\n",
       "    </tr>\n",
       "    <tr>\n",
       "      <th>1724</th>\n",
       "      <td>36081093800</td>\n",
       "      <td>15700</td>\n",
       "      <td>381500</td>\n",
       "      <td>23.299363</td>\n",
       "    </tr>\n",
       "  </tbody>\n",
       "</table>\n",
       "</div>"
      ],
      "text/plain": [
       "              Id2  Median value 2000  Median value 2013        Pchange\n",
       "666   36047049100                 10             397100   39709.000000\n",
       "1070  36061009600                  1              14700   14699.000000\n",
       "1073  36061009900                  1             978800  978799.000000\n",
       "1076  36061010200                  1             588700  588699.000000\n",
       "1164  36061018400                  1             462500  462499.000000\n",
       "1240  36061029100              12600             283700      21.515873\n",
       "1724  36081093800              15700             381500      23.299363"
      ]
     },
     "execution_count": 65,
     "metadata": {},
     "output_type": "execute_result"
    }
   ],
   "source": [
    "HouseMV13yr[HouseMV13yr.Pchange > 12]"
   ]
  },
  {
   "cell_type": "code",
   "execution_count": 66,
   "metadata": {
    "collapsed": false
   },
   "outputs": [],
   "source": [
    "HouseMV13yr = HouseMV13yr[HouseMV13yr.Pchange < 12]"
   ]
  },
  {
   "cell_type": "code",
   "execution_count": 67,
   "metadata": {
    "collapsed": false
   },
   "outputs": [
    {
     "data": {
      "text/plain": [
       "count    1672.000000\n",
       "mean        1.402047\n",
       "std         0.751059\n",
       "min        -0.835429\n",
       "25%         1.040667\n",
       "50%         1.274155\n",
       "75%         1.589978\n",
       "max         9.297391\n",
       "Name: Pchange, dtype: float64"
      ]
     },
     "execution_count": 67,
     "metadata": {},
     "output_type": "execute_result"
    }
   ],
   "source": [
    "HouseMV13yr.Pchange.describe()"
   ]
  },
  {
   "cell_type": "code",
   "execution_count": 71,
   "metadata": {
    "collapsed": true
   },
   "outputs": [],
   "source": [
    "writer = pd.ExcelWriter('Change in house values 2000-2013.xlsx', engine='xlsxwriter')\n",
    "HouseMV13yr.to_excel(writer, sheet_name='House Values', header=True, index=True, startrow=0, startcol=0)"
   ]
  },
  {
   "cell_type": "code",
   "execution_count": 72,
   "metadata": {
    "collapsed": true
   },
   "outputs": [],
   "source": [
    "writer.save()"
   ]
  },
  {
   "cell_type": "code",
   "execution_count": 73,
   "metadata": {
    "collapsed": false
   },
   "outputs": [
    {
     "data": {
      "text/html": [
       "<div>\n",
       "<table border=\"1\" class=\"dataframe\">\n",
       "  <thead>\n",
       "    <tr style=\"text-align: right;\">\n",
       "      <th></th>\n",
       "      <th>Id2</th>\n",
       "      <th>Median value 2000</th>\n",
       "      <th>Median value 2013</th>\n",
       "      <th>Pchange</th>\n",
       "    </tr>\n",
       "  </thead>\n",
       "  <tbody>\n",
       "    <tr>\n",
       "      <th>94</th>\n",
       "      <td>36005019500</td>\n",
       "      <td>33800</td>\n",
       "      <td>249100</td>\n",
       "      <td>6.369822</td>\n",
       "    </tr>\n",
       "    <tr>\n",
       "      <th>549</th>\n",
       "      <td>36047035000</td>\n",
       "      <td>16700</td>\n",
       "      <td>154000</td>\n",
       "      <td>8.221557</td>\n",
       "    </tr>\n",
       "    <tr>\n",
       "      <th>713</th>\n",
       "      <td>36047054700</td>\n",
       "      <td>75000</td>\n",
       "      <td>597400</td>\n",
       "      <td>6.965333</td>\n",
       "    </tr>\n",
       "    <tr>\n",
       "      <th>1711</th>\n",
       "      <td>36081087100</td>\n",
       "      <td>57500</td>\n",
       "      <td>592100</td>\n",
       "      <td>9.297391</td>\n",
       "    </tr>\n",
       "  </tbody>\n",
       "</table>\n",
       "</div>"
      ],
      "text/plain": [
       "              Id2  Median value 2000  Median value 2013   Pchange\n",
       "94    36005019500              33800             249100  6.369822\n",
       "549   36047035000              16700             154000  8.221557\n",
       "713   36047054700              75000             597400  6.965333\n",
       "1711  36081087100              57500             592100  9.297391"
      ]
     },
     "execution_count": 73,
     "metadata": {},
     "output_type": "execute_result"
    }
   ],
   "source": [
    "HouseMV13yr[HouseMV13yr.Pchange > 6]"
   ]
  },
  {
   "cell_type": "code",
   "execution_count": null,
   "metadata": {
    "collapsed": true
   },
   "outputs": [],
   "source": []
  },
  {
   "cell_type": "code",
   "execution_count": null,
   "metadata": {
    "collapsed": true
   },
   "outputs": [],
   "source": []
  }
 ],
 "metadata": {
  "kernelspec": {
   "display_name": "Python 2",
   "language": "python",
   "name": "python2"
  },
  "language_info": {
   "codemirror_mode": {
    "name": "ipython",
    "version": 2
   },
   "file_extension": ".py",
   "mimetype": "text/x-python",
   "name": "python",
   "nbconvert_exporter": "python",
   "pygments_lexer": "ipython2",
   "version": "2.7.10"
  }
 },
 "nbformat": 4,
 "nbformat_minor": 0
}
