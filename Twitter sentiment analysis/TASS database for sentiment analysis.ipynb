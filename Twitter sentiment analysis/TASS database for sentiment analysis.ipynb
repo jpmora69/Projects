{
 "cells": [
  {
   "cell_type": "code",
   "execution_count": 1,
   "metadata": {
    "collapsed": false
   },
   "outputs": [],
   "source": [
    "#Importing required modules\n",
    "from lxml import objectify\n",
    "import pandas as pd\n",
    "import requests\n",
    "import xml.etree.ElementTree as ET\n",
    "import nltk\n",
    "from nltk.corpus import stopwords\n",
    "import string"
   ]
  },
  {
   "cell_type": "code",
   "execution_count": 2,
   "metadata": {
    "collapsed": false
   },
   "outputs": [],
   "source": [
    "#Opening the TASS 2015 CSV file\n",
    "tassdb = pd.read_csv('TASS_tweet_database.csv', encoding='latin1')"
   ]
  },
  {
   "cell_type": "code",
   "execution_count": 3,
   "metadata": {
    "collapsed": false
   },
   "outputs": [
    {
     "data": {
      "text/html": [
       "<div>\n",
       "<table border=\"1\" class=\"dataframe\">\n",
       "  <thead>\n",
       "    <tr style=\"text-align: right;\">\n",
       "      <th></th>\n",
       "      <th>tweetid</th>\n",
       "      <th>user</th>\n",
       "      <th>content</th>\n",
       "      <th>date</th>\n",
       "      <th>lang</th>\n",
       "      <th>value</th>\n",
       "      <th>topic</th>\n",
       "    </tr>\n",
       "  </thead>\n",
       "  <tbody>\n",
       "    <tr>\n",
       "      <th>0</th>\n",
       "      <td>1.423780e+17</td>\n",
       "      <td>jesusmarana</td>\n",
       "      <td>Portada 'Público', viernes. Fabra al banquillo...</td>\n",
       "      <td>02/12/2011 0:03</td>\n",
       "      <td>es</td>\n",
       "      <td>N</td>\n",
       "      <td>política</td>\n",
       "    </tr>\n",
       "    <tr>\n",
       "      <th>1</th>\n",
       "      <td>1.423790e+17</td>\n",
       "      <td>EvaORegan</td>\n",
       "      <td>Grande! RT @veronicacalderon \"El periodista es...</td>\n",
       "      <td>02/12/2011 0:06</td>\n",
       "      <td>es</td>\n",
       "      <td>NONE</td>\n",
       "      <td>política</td>\n",
       "    </tr>\n",
       "    <tr>\n",
       "      <th>2</th>\n",
       "      <td>1.423790e+17</td>\n",
       "      <td>LosadaPescador</td>\n",
       "      <td>Gonzalo Altozano tras la presentación de su li...</td>\n",
       "      <td>02/12/2011 0:06</td>\n",
       "      <td>es</td>\n",
       "      <td>P+</td>\n",
       "      <td>otros</td>\n",
       "    </tr>\n",
       "    <tr>\n",
       "      <th>3</th>\n",
       "      <td>1.423800e+17</td>\n",
       "      <td>mgilguerrero</td>\n",
       "      <td>Mañana en Gaceta: TVE, la que pagamos tú y yo,...</td>\n",
       "      <td>02/12/2011 0:09</td>\n",
       "      <td>es</td>\n",
       "      <td>N</td>\n",
       "      <td>entretenimiento</td>\n",
       "    </tr>\n",
       "    <tr>\n",
       "      <th>4</th>\n",
       "      <td>1.423810e+17</td>\n",
       "      <td>pedroj_ramirez</td>\n",
       "      <td>Qué envidia @mfcastineiras: Pedro mañana x la...</td>\n",
       "      <td>02/12/2011 0:14</td>\n",
       "      <td>es</td>\n",
       "      <td>NONE</td>\n",
       "      <td>otros</td>\n",
       "    </tr>\n",
       "  </tbody>\n",
       "</table>\n",
       "</div>"
      ],
      "text/plain": [
       "        tweetid            user  \\\n",
       "0  1.423780e+17     jesusmarana   \n",
       "1  1.423790e+17       EvaORegan   \n",
       "2  1.423790e+17  LosadaPescador   \n",
       "3  1.423800e+17    mgilguerrero   \n",
       "4  1.423810e+17  pedroj_ramirez   \n",
       "\n",
       "                                             content             date lang  \\\n",
       "0  Portada 'Público', viernes. Fabra al banquillo...  02/12/2011 0:03   es   \n",
       "1  Grande! RT @veronicacalderon \"El periodista es...  02/12/2011 0:06   es   \n",
       "2  Gonzalo Altozano tras la presentación de su li...  02/12/2011 0:06   es   \n",
       "3  Mañana en Gaceta: TVE, la que pagamos tú y yo,...  02/12/2011 0:09   es   \n",
       "4  Qué envidia @mfcastineiras: Pedro mañana x la...  02/12/2011 0:14   es   \n",
       "\n",
       "  value            topic  \n",
       "0     N         política  \n",
       "1  NONE         política  \n",
       "2    P+            otros  \n",
       "3     N  entretenimiento  \n",
       "4  NONE            otros  "
      ]
     },
     "execution_count": 3,
     "metadata": {},
     "output_type": "execute_result"
    }
   ],
   "source": [
    "tassdb.head()"
   ]
  },
  {
   "cell_type": "code",
   "execution_count": 4,
   "metadata": {
    "collapsed": false
   },
   "outputs": [
    {
     "data": {
      "text/plain": [
       "u\"Portada 'P\\xfablico', viernes. Fabra al banquillo por 'orden' del Supremo; Wikileaks 'retrata' a 160 empresas esp\\xedas. http://t.co/YtpRU0fd\""
      ]
     },
     "execution_count": 4,
     "metadata": {},
     "output_type": "execute_result"
    }
   ],
   "source": [
    "#getting the root node from the XML file\n",
    "tassdb.content[0]"
   ]
  },
  {
   "cell_type": "code",
   "execution_count": 5,
   "metadata": {
    "collapsed": false
   },
   "outputs": [],
   "source": [
    "tassdb = (tassdb[tassdb.value != 'NONE'])"
   ]
  },
  {
   "cell_type": "code",
   "execution_count": 6,
   "metadata": {
    "collapsed": false
   },
   "outputs": [
    {
     "data": {
      "text/plain": [
       "45396"
      ]
     },
     "execution_count": 6,
     "metadata": {},
     "output_type": "execute_result"
    }
   ],
   "source": [
    "len(tassdb)"
   ]
  },
  {
   "cell_type": "code",
   "execution_count": 7,
   "metadata": {
    "collapsed": false
   },
   "outputs": [
    {
     "data": {
      "text/html": [
       "<div>\n",
       "<table border=\"1\" class=\"dataframe\">\n",
       "  <thead>\n",
       "    <tr style=\"text-align: right;\">\n",
       "      <th></th>\n",
       "      <th>tweetid</th>\n",
       "      <th>user</th>\n",
       "      <th>content</th>\n",
       "      <th>date</th>\n",
       "      <th>lang</th>\n",
       "      <th>value</th>\n",
       "      <th>topic</th>\n",
       "    </tr>\n",
       "  </thead>\n",
       "  <tbody>\n",
       "    <tr>\n",
       "      <th>0</th>\n",
       "      <td>1.423780e+17</td>\n",
       "      <td>jesusmarana</td>\n",
       "      <td>Portada 'Público', viernes. Fabra al banquillo...</td>\n",
       "      <td>02/12/2011 0:03</td>\n",
       "      <td>es</td>\n",
       "      <td>N</td>\n",
       "      <td>política</td>\n",
       "    </tr>\n",
       "    <tr>\n",
       "      <th>2</th>\n",
       "      <td>1.423790e+17</td>\n",
       "      <td>LosadaPescador</td>\n",
       "      <td>Gonzalo Altozano tras la presentación de su li...</td>\n",
       "      <td>02/12/2011 0:06</td>\n",
       "      <td>es</td>\n",
       "      <td>P+</td>\n",
       "      <td>otros</td>\n",
       "    </tr>\n",
       "    <tr>\n",
       "      <th>3</th>\n",
       "      <td>1.423800e+17</td>\n",
       "      <td>mgilguerrero</td>\n",
       "      <td>Mañana en Gaceta: TVE, la que pagamos tú y yo,...</td>\n",
       "      <td>02/12/2011 0:09</td>\n",
       "      <td>es</td>\n",
       "      <td>N</td>\n",
       "      <td>entretenimiento</td>\n",
       "    </tr>\n",
       "    <tr>\n",
       "      <th>5</th>\n",
       "      <td>1.423830e+17</td>\n",
       "      <td>mgilguerrero</td>\n",
       "      <td>Más mañana en Gaceta. Amaiur depende de Uxue B...</td>\n",
       "      <td>02/12/2011 0:20</td>\n",
       "      <td>es</td>\n",
       "      <td>N</td>\n",
       "      <td>política</td>\n",
       "    </tr>\n",
       "    <tr>\n",
       "      <th>6</th>\n",
       "      <td>1.423830e+17</td>\n",
       "      <td>SSantiagosegura</td>\n",
       "      <td>Muy buenas noches followercetes, mañana va a s...</td>\n",
       "      <td>02/12/2011 0:20</td>\n",
       "      <td>es</td>\n",
       "      <td>P+</td>\n",
       "      <td>otros</td>\n",
       "    </tr>\n",
       "  </tbody>\n",
       "</table>\n",
       "</div>"
      ],
      "text/plain": [
       "        tweetid             user  \\\n",
       "0  1.423780e+17      jesusmarana   \n",
       "2  1.423790e+17   LosadaPescador   \n",
       "3  1.423800e+17     mgilguerrero   \n",
       "5  1.423830e+17     mgilguerrero   \n",
       "6  1.423830e+17  SSantiagosegura   \n",
       "\n",
       "                                             content             date lang  \\\n",
       "0  Portada 'Público', viernes. Fabra al banquillo...  02/12/2011 0:03   es   \n",
       "2  Gonzalo Altozano tras la presentación de su li...  02/12/2011 0:06   es   \n",
       "3  Mañana en Gaceta: TVE, la que pagamos tú y yo,...  02/12/2011 0:09   es   \n",
       "5  Más mañana en Gaceta. Amaiur depende de Uxue B...  02/12/2011 0:20   es   \n",
       "6  Muy buenas noches followercetes, mañana va a s...  02/12/2011 0:20   es   \n",
       "\n",
       "  value            topic  \n",
       "0     N         política  \n",
       "2    P+            otros  \n",
       "3     N  entretenimiento  \n",
       "5     N         política  \n",
       "6    P+            otros  "
      ]
     },
     "execution_count": 7,
     "metadata": {},
     "output_type": "execute_result"
    }
   ],
   "source": [
    "tassdb.head()"
   ]
  },
  {
   "cell_type": "code",
   "execution_count": 8,
   "metadata": {
    "collapsed": false
   },
   "outputs": [
    {
     "data": {
      "text/plain": [
       "P+     23545\n",
       "N      12839\n",
       "N+      5575\n",
       "P       1939\n",
       "NEU     1498\n",
       "Name: value, dtype: int64"
      ]
     },
     "execution_count": 8,
     "metadata": {},
     "output_type": "execute_result"
    }
   ],
   "source": [
    "tassdb.value.value_counts()"
   ]
  },
  {
   "cell_type": "code",
   "execution_count": 9,
   "metadata": {
    "collapsed": false
   },
   "outputs": [],
   "source": [
    "values = {'P+':1, 'P':0.5, 'NEU':0, 'N': -0.5, 'N+':-1 }"
   ]
  },
  {
   "cell_type": "code",
   "execution_count": 10,
   "metadata": {
    "collapsed": false
   },
   "outputs": [],
   "source": [
    "tassdb.value.replace(values, inplace=True)"
   ]
  },
  {
   "cell_type": "code",
   "execution_count": 11,
   "metadata": {
    "collapsed": false
   },
   "outputs": [
    {
     "data": {
      "text/html": [
       "<div>\n",
       "<table border=\"1\" class=\"dataframe\">\n",
       "  <thead>\n",
       "    <tr style=\"text-align: right;\">\n",
       "      <th></th>\n",
       "      <th>tweetid</th>\n",
       "      <th>user</th>\n",
       "      <th>content</th>\n",
       "      <th>date</th>\n",
       "      <th>lang</th>\n",
       "      <th>value</th>\n",
       "      <th>topic</th>\n",
       "    </tr>\n",
       "  </thead>\n",
       "  <tbody>\n",
       "    <tr>\n",
       "      <th>0</th>\n",
       "      <td>1.423780e+17</td>\n",
       "      <td>jesusmarana</td>\n",
       "      <td>Portada 'Público', viernes. Fabra al banquillo...</td>\n",
       "      <td>02/12/2011 0:03</td>\n",
       "      <td>es</td>\n",
       "      <td>-0.5</td>\n",
       "      <td>política</td>\n",
       "    </tr>\n",
       "    <tr>\n",
       "      <th>2</th>\n",
       "      <td>1.423790e+17</td>\n",
       "      <td>LosadaPescador</td>\n",
       "      <td>Gonzalo Altozano tras la presentación de su li...</td>\n",
       "      <td>02/12/2011 0:06</td>\n",
       "      <td>es</td>\n",
       "      <td>1.0</td>\n",
       "      <td>otros</td>\n",
       "    </tr>\n",
       "    <tr>\n",
       "      <th>3</th>\n",
       "      <td>1.423800e+17</td>\n",
       "      <td>mgilguerrero</td>\n",
       "      <td>Mañana en Gaceta: TVE, la que pagamos tú y yo,...</td>\n",
       "      <td>02/12/2011 0:09</td>\n",
       "      <td>es</td>\n",
       "      <td>-0.5</td>\n",
       "      <td>entretenimiento</td>\n",
       "    </tr>\n",
       "    <tr>\n",
       "      <th>5</th>\n",
       "      <td>1.423830e+17</td>\n",
       "      <td>mgilguerrero</td>\n",
       "      <td>Más mañana en Gaceta. Amaiur depende de Uxue B...</td>\n",
       "      <td>02/12/2011 0:20</td>\n",
       "      <td>es</td>\n",
       "      <td>-0.5</td>\n",
       "      <td>política</td>\n",
       "    </tr>\n",
       "    <tr>\n",
       "      <th>6</th>\n",
       "      <td>1.423830e+17</td>\n",
       "      <td>SSantiagosegura</td>\n",
       "      <td>Muy buenas noches followercetes, mañana va a s...</td>\n",
       "      <td>02/12/2011 0:20</td>\n",
       "      <td>es</td>\n",
       "      <td>1.0</td>\n",
       "      <td>otros</td>\n",
       "    </tr>\n",
       "  </tbody>\n",
       "</table>\n",
       "</div>"
      ],
      "text/plain": [
       "        tweetid             user  \\\n",
       "0  1.423780e+17      jesusmarana   \n",
       "2  1.423790e+17   LosadaPescador   \n",
       "3  1.423800e+17     mgilguerrero   \n",
       "5  1.423830e+17     mgilguerrero   \n",
       "6  1.423830e+17  SSantiagosegura   \n",
       "\n",
       "                                             content             date lang  \\\n",
       "0  Portada 'Público', viernes. Fabra al banquillo...  02/12/2011 0:03   es   \n",
       "2  Gonzalo Altozano tras la presentación de su li...  02/12/2011 0:06   es   \n",
       "3  Mañana en Gaceta: TVE, la que pagamos tú y yo,...  02/12/2011 0:09   es   \n",
       "5  Más mañana en Gaceta. Amaiur depende de Uxue B...  02/12/2011 0:20   es   \n",
       "6  Muy buenas noches followercetes, mañana va a s...  02/12/2011 0:20   es   \n",
       "\n",
       "   value            topic  \n",
       "0   -0.5         política  \n",
       "2    1.0            otros  \n",
       "3   -0.5  entretenimiento  \n",
       "5   -0.5         política  \n",
       "6    1.0            otros  "
      ]
     },
     "execution_count": 11,
     "metadata": {},
     "output_type": "execute_result"
    }
   ],
   "source": [
    "tassdb.head()"
   ]
  },
  {
   "cell_type": "code",
   "execution_count": 12,
   "metadata": {
    "collapsed": false
   },
   "outputs": [
    {
     "data": {
      "text/plain": [
       " 1.0    23545\n",
       "-0.5    12839\n",
       "-1.0     5575\n",
       " 0.5     1939\n",
       " 0.0     1498\n",
       "Name: value, dtype: int64"
      ]
     },
     "execution_count": 12,
     "metadata": {},
     "output_type": "execute_result"
    }
   ],
   "source": [
    "tassdb.value.value_counts()"
   ]
  },
  {
   "cell_type": "code",
   "execution_count": 13,
   "metadata": {
    "collapsed": true
   },
   "outputs": [],
   "source": [
    "#First step to standarize the text data is to unifiy all text into lower cases\n",
    "tassdb.content = tassdb.content.str.lower()"
   ]
  },
  {
   "cell_type": "code",
   "execution_count": 14,
   "metadata": {
    "collapsed": false
   },
   "outputs": [],
   "source": [
    "tassdb.content = tassdb.content.str.replace('/ ' , '/')"
   ]
  },
  {
   "cell_type": "code",
   "execution_count": 15,
   "metadata": {
    "collapsed": true
   },
   "outputs": [],
   "source": [
    "tassdb.content = tassdb.content.str.replace('w. ', 'w.')"
   ]
  },
  {
   "cell_type": "code",
   "execution_count": 16,
   "metadata": {
    "collapsed": false
   },
   "outputs": [],
   "source": [
    "tassdb = tassdb.reset_index()\n",
    "del(tassdb['index']) "
   ]
  },
  {
   "cell_type": "code",
   "execution_count": 17,
   "metadata": {
    "collapsed": false
   },
   "outputs": [
    {
     "data": {
      "text/html": [
       "<div>\n",
       "<table border=\"1\" class=\"dataframe\">\n",
       "  <thead>\n",
       "    <tr style=\"text-align: right;\">\n",
       "      <th></th>\n",
       "      <th>tweetid</th>\n",
       "      <th>user</th>\n",
       "      <th>content</th>\n",
       "      <th>date</th>\n",
       "      <th>lang</th>\n",
       "      <th>value</th>\n",
       "      <th>topic</th>\n",
       "    </tr>\n",
       "  </thead>\n",
       "  <tbody>\n",
       "    <tr>\n",
       "      <th>0</th>\n",
       "      <td>1.423780e+17</td>\n",
       "      <td>jesusmarana</td>\n",
       "      <td>portada 'público', viernes. fabra al banquillo...</td>\n",
       "      <td>02/12/2011 0:03</td>\n",
       "      <td>es</td>\n",
       "      <td>-0.5</td>\n",
       "      <td>política</td>\n",
       "    </tr>\n",
       "    <tr>\n",
       "      <th>1</th>\n",
       "      <td>1.423790e+17</td>\n",
       "      <td>LosadaPescador</td>\n",
       "      <td>gonzalo altozano tras la presentación de su li...</td>\n",
       "      <td>02/12/2011 0:06</td>\n",
       "      <td>es</td>\n",
       "      <td>1.0</td>\n",
       "      <td>otros</td>\n",
       "    </tr>\n",
       "    <tr>\n",
       "      <th>2</th>\n",
       "      <td>1.423800e+17</td>\n",
       "      <td>mgilguerrero</td>\n",
       "      <td>mañana en gaceta: tve, la que pagamos tú y yo,...</td>\n",
       "      <td>02/12/2011 0:09</td>\n",
       "      <td>es</td>\n",
       "      <td>-0.5</td>\n",
       "      <td>entretenimiento</td>\n",
       "    </tr>\n",
       "    <tr>\n",
       "      <th>3</th>\n",
       "      <td>1.423830e+17</td>\n",
       "      <td>mgilguerrero</td>\n",
       "      <td>más mañana en gaceta. amaiur depende de uxue b...</td>\n",
       "      <td>02/12/2011 0:20</td>\n",
       "      <td>es</td>\n",
       "      <td>-0.5</td>\n",
       "      <td>política</td>\n",
       "    </tr>\n",
       "    <tr>\n",
       "      <th>4</th>\n",
       "      <td>1.423830e+17</td>\n",
       "      <td>SSantiagosegura</td>\n",
       "      <td>muy buenas noches followercetes, mañana va a s...</td>\n",
       "      <td>02/12/2011 0:20</td>\n",
       "      <td>es</td>\n",
       "      <td>1.0</td>\n",
       "      <td>otros</td>\n",
       "    </tr>\n",
       "  </tbody>\n",
       "</table>\n",
       "</div>"
      ],
      "text/plain": [
       "        tweetid             user  \\\n",
       "0  1.423780e+17      jesusmarana   \n",
       "1  1.423790e+17   LosadaPescador   \n",
       "2  1.423800e+17     mgilguerrero   \n",
       "3  1.423830e+17     mgilguerrero   \n",
       "4  1.423830e+17  SSantiagosegura   \n",
       "\n",
       "                                             content             date lang  \\\n",
       "0  portada 'público', viernes. fabra al banquillo...  02/12/2011 0:03   es   \n",
       "1  gonzalo altozano tras la presentación de su li...  02/12/2011 0:06   es   \n",
       "2  mañana en gaceta: tve, la que pagamos tú y yo,...  02/12/2011 0:09   es   \n",
       "3  más mañana en gaceta. amaiur depende de uxue b...  02/12/2011 0:20   es   \n",
       "4  muy buenas noches followercetes, mañana va a s...  02/12/2011 0:20   es   \n",
       "\n",
       "   value            topic  \n",
       "0   -0.5         política  \n",
       "1    1.0            otros  \n",
       "2   -0.5  entretenimiento  \n",
       "3   -0.5         política  \n",
       "4    1.0            otros  "
      ]
     },
     "execution_count": 17,
     "metadata": {},
     "output_type": "execute_result"
    }
   ],
   "source": [
    "tassdb.head()"
   ]
  },
  {
   "cell_type": "code",
   "execution_count": 18,
   "metadata": {
    "collapsed": false
   },
   "outputs": [
    {
     "data": {
      "text/plain": [
       "u\"portada 'p\\xfablico', viernes. fabra al banquillo por 'orden' del supremo; wikileaks 'retrata' a 160 empresas esp\\xedas. http://t.co/ytpru0fd\""
      ]
     },
     "execution_count": 18,
     "metadata": {},
     "output_type": "execute_result"
    }
   ],
   "source": [
    "tassdb.content[0]"
   ]
  },
  {
   "cell_type": "code",
   "execution_count": 19,
   "metadata": {
    "collapsed": true
   },
   "outputs": [],
   "source": [
    "#Then from the strings library we import the punctuation list\n",
    "#and from nklt the stop words list in this case for spanish\n",
    "#I decided to add some aadditional terms that I want to remove in order to obatin a cleaner\n",
    "#list of the most used words\n",
    "punctuation = list(string.punctuation)\n",
    "stop = stopwords.words('spanish') + punctuation + ['rt', 'via', u'', u'\\u2026,', u'\\u2026', u'...', u'...,']"
   ]
  },
  {
   "cell_type": "code",
   "execution_count": 120,
   "metadata": {
    "collapsed": false
   },
   "outputs": [],
   "source": [
    "#To obtain the actual text for each tweet we split each word\n",
    "tasssplit = tassdb.content.str.split(' ')"
   ]
  },
  {
   "cell_type": "code",
   "execution_count": 130,
   "metadata": {
    "collapsed": false
   },
   "outputs": [],
   "source": [
    "tasstweetlist = []\n",
    "for i in range (0, len(tasssplit)):\n",
    "    a= [term.rstrip(''.join(punctuation)) for term in tasssplit[i]]\n",
    "    tasstweetlist.append(a)"
   ]
  },
  {
   "cell_type": "code",
   "execution_count": 132,
   "metadata": {
    "collapsed": false
   },
   "outputs": [],
   "source": [
    "tasstweetlist1 = []\n",
    "for i in range (0, len(tasstweetlist)):\n",
    "    tasstweetlist1.append([term for term in tasstweetlist[i] if term not in stop])"
   ]
  },
  {
   "cell_type": "code",
   "execution_count": 134,
   "metadata": {
    "collapsed": false
   },
   "outputs": [],
   "source": [
    "for lists in tasstweetlist1:\n",
    "    for words in lists:\n",
    "        if words.startswith('http:') == True or words.startswith('@') == True:\n",
    "            lists.remove(words) "
   ]
  },
  {
   "cell_type": "code",
   "execution_count": 138,
   "metadata": {
    "collapsed": false
   },
   "outputs": [
    {
     "name": "stdout",
     "output_type": "stream",
     "text": [
      "[u'fuentes', u'gobierno', u'confirman', u'reglamento', u'ley', u'sinde', u'tampoco', u'aprobar\\xe1', u'pr\\xf3xima', u'semana']\n"
     ]
    }
   ],
   "source": [
    "print(tasstweetlist1[200])"
   ]
  },
  {
   "cell_type": "code",
   "execution_count": null,
   "metadata": {
    "collapsed": false
   },
   "outputs": [],
   "source": [
    "tasstweetlistws = []\n",
    "for i in range (0, len(tasstweetlist)):\n",
    "    a = \" \".join(tasstweetlist[i])\n",
    "    tasstweetlistws.append(a)"
   ]
  },
  {
   "cell_type": "code",
   "execution_count": null,
   "metadata": {
    "collapsed": false
   },
   "outputs": [],
   "source": [
    "tasstweetlistws"
   ]
  },
  {
   "cell_type": "code",
   "execution_count": null,
   "metadata": {
    "collapsed": false
   },
   "outputs": [],
   "source": [
    "punctuation"
   ]
  },
  {
   "cell_type": "code",
   "execution_count": null,
   "metadata": {
    "collapsed": true
   },
   "outputs": [],
   "source": []
  }
 ],
 "metadata": {
  "kernelspec": {
   "display_name": "Python 2",
   "language": "python",
   "name": "python2"
  },
  "language_info": {
   "codemirror_mode": {
    "name": "ipython",
    "version": 2
   },
   "file_extension": ".py",
   "mimetype": "text/x-python",
   "name": "python",
   "nbconvert_exporter": "python",
   "pygments_lexer": "ipython2",
   "version": "2.7.12"
  }
 },
 "nbformat": 4,
 "nbformat_minor": 0
}
