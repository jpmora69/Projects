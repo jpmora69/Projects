{
 "cells": [
  {
   "cell_type": "code",
   "execution_count": 40,
   "metadata": {
    "collapsed": false
   },
   "outputs": [],
   "source": [
    "#Importing required modules\n",
    "from lxml import objectify\n",
    "import pandas as pd\n",
    "import requests\n",
    "import xml.etree.ElementTree as ET\n",
    "import nltk\n",
    "from nltk.corpus import stopwords\n",
    "import string\n",
    "from sklearn.feature_extraction.text import CountVectorizer\n",
    "from sklearn.cross_validation import train_test_split\n",
    "from sklearn import svm\n",
    "from sklearn.ensemble import RandomForestClassifier\n",
    "from sklearn.preprocessing import scale\n",
    "from sklearn import grid_search\n",
    "from sklearn.tree import DecisionTreeClassifier"
   ]
  },
  {
   "cell_type": "code",
   "execution_count": 2,
   "metadata": {
    "collapsed": false
   },
   "outputs": [],
   "source": [
    "#Opening the TASS 2015 CSV file\n",
    "tassdb = pd.read_csv('TASS_tweet_database.csv', encoding='latin1')"
   ]
  },
  {
   "cell_type": "code",
   "execution_count": 3,
   "metadata": {
    "collapsed": false
   },
   "outputs": [
    {
     "data": {
      "text/html": [
       "<div>\n",
       "<table border=\"1\" class=\"dataframe\">\n",
       "  <thead>\n",
       "    <tr style=\"text-align: right;\">\n",
       "      <th></th>\n",
       "      <th>tweetid</th>\n",
       "      <th>user</th>\n",
       "      <th>content</th>\n",
       "      <th>date</th>\n",
       "      <th>lang</th>\n",
       "      <th>value</th>\n",
       "      <th>topic</th>\n",
       "    </tr>\n",
       "  </thead>\n",
       "  <tbody>\n",
       "    <tr>\n",
       "      <th>0</th>\n",
       "      <td>1.423780e+17</td>\n",
       "      <td>jesusmarana</td>\n",
       "      <td>Portada 'Público', viernes. Fabra al banquillo...</td>\n",
       "      <td>02/12/2011 0:03</td>\n",
       "      <td>es</td>\n",
       "      <td>N</td>\n",
       "      <td>política</td>\n",
       "    </tr>\n",
       "    <tr>\n",
       "      <th>1</th>\n",
       "      <td>1.423790e+17</td>\n",
       "      <td>EvaORegan</td>\n",
       "      <td>Grande! RT @veronicacalderon \"El periodista es...</td>\n",
       "      <td>02/12/2011 0:06</td>\n",
       "      <td>es</td>\n",
       "      <td>NONE</td>\n",
       "      <td>política</td>\n",
       "    </tr>\n",
       "    <tr>\n",
       "      <th>2</th>\n",
       "      <td>1.423790e+17</td>\n",
       "      <td>LosadaPescador</td>\n",
       "      <td>Gonzalo Altozano tras la presentación de su li...</td>\n",
       "      <td>02/12/2011 0:06</td>\n",
       "      <td>es</td>\n",
       "      <td>P+</td>\n",
       "      <td>otros</td>\n",
       "    </tr>\n",
       "    <tr>\n",
       "      <th>3</th>\n",
       "      <td>1.423800e+17</td>\n",
       "      <td>mgilguerrero</td>\n",
       "      <td>Mañana en Gaceta: TVE, la que pagamos tú y yo,...</td>\n",
       "      <td>02/12/2011 0:09</td>\n",
       "      <td>es</td>\n",
       "      <td>N</td>\n",
       "      <td>entretenimiento</td>\n",
       "    </tr>\n",
       "    <tr>\n",
       "      <th>4</th>\n",
       "      <td>1.423810e+17</td>\n",
       "      <td>pedroj_ramirez</td>\n",
       "      <td>Qué envidia @mfcastineiras: Pedro mañana x la...</td>\n",
       "      <td>02/12/2011 0:14</td>\n",
       "      <td>es</td>\n",
       "      <td>NONE</td>\n",
       "      <td>otros</td>\n",
       "    </tr>\n",
       "  </tbody>\n",
       "</table>\n",
       "</div>"
      ],
      "text/plain": [
       "        tweetid            user  \\\n",
       "0  1.423780e+17     jesusmarana   \n",
       "1  1.423790e+17       EvaORegan   \n",
       "2  1.423790e+17  LosadaPescador   \n",
       "3  1.423800e+17    mgilguerrero   \n",
       "4  1.423810e+17  pedroj_ramirez   \n",
       "\n",
       "                                             content             date lang  \\\n",
       "0  Portada 'Público', viernes. Fabra al banquillo...  02/12/2011 0:03   es   \n",
       "1  Grande! RT @veronicacalderon \"El periodista es...  02/12/2011 0:06   es   \n",
       "2  Gonzalo Altozano tras la presentación de su li...  02/12/2011 0:06   es   \n",
       "3  Mañana en Gaceta: TVE, la que pagamos tú y yo,...  02/12/2011 0:09   es   \n",
       "4  Qué envidia @mfcastineiras: Pedro mañana x la...  02/12/2011 0:14   es   \n",
       "\n",
       "  value            topic  \n",
       "0     N         política  \n",
       "1  NONE         política  \n",
       "2    P+            otros  \n",
       "3     N  entretenimiento  \n",
       "4  NONE            otros  "
      ]
     },
     "execution_count": 3,
     "metadata": {},
     "output_type": "execute_result"
    }
   ],
   "source": [
    "tassdb.head()"
   ]
  },
  {
   "cell_type": "code",
   "execution_count": 4,
   "metadata": {
    "collapsed": false
   },
   "outputs": [
    {
     "data": {
      "text/plain": [
       "u\"Portada 'P\\xfablico', viernes. Fabra al banquillo por 'orden' del Supremo; Wikileaks 'retrata' a 160 empresas esp\\xedas. http://t.co/YtpRU0fd\""
      ]
     },
     "execution_count": 4,
     "metadata": {},
     "output_type": "execute_result"
    }
   ],
   "source": [
    "#getting the root node from the XML file\n",
    "tassdb.content[0]"
   ]
  },
  {
   "cell_type": "code",
   "execution_count": 5,
   "metadata": {
    "collapsed": false
   },
   "outputs": [],
   "source": [
    "tassdb = (tassdb[tassdb.value != 'NONE'])"
   ]
  },
  {
   "cell_type": "code",
   "execution_count": 6,
   "metadata": {
    "collapsed": false
   },
   "outputs": [
    {
     "data": {
      "text/plain": [
       "45396"
      ]
     },
     "execution_count": 6,
     "metadata": {},
     "output_type": "execute_result"
    }
   ],
   "source": [
    "len(tassdb)"
   ]
  },
  {
   "cell_type": "code",
   "execution_count": 7,
   "metadata": {
    "collapsed": false
   },
   "outputs": [
    {
     "data": {
      "text/html": [
       "<div>\n",
       "<table border=\"1\" class=\"dataframe\">\n",
       "  <thead>\n",
       "    <tr style=\"text-align: right;\">\n",
       "      <th></th>\n",
       "      <th>tweetid</th>\n",
       "      <th>user</th>\n",
       "      <th>content</th>\n",
       "      <th>date</th>\n",
       "      <th>lang</th>\n",
       "      <th>value</th>\n",
       "      <th>topic</th>\n",
       "    </tr>\n",
       "  </thead>\n",
       "  <tbody>\n",
       "    <tr>\n",
       "      <th>0</th>\n",
       "      <td>1.423780e+17</td>\n",
       "      <td>jesusmarana</td>\n",
       "      <td>Portada 'Público', viernes. Fabra al banquillo...</td>\n",
       "      <td>02/12/2011 0:03</td>\n",
       "      <td>es</td>\n",
       "      <td>N</td>\n",
       "      <td>política</td>\n",
       "    </tr>\n",
       "    <tr>\n",
       "      <th>2</th>\n",
       "      <td>1.423790e+17</td>\n",
       "      <td>LosadaPescador</td>\n",
       "      <td>Gonzalo Altozano tras la presentación de su li...</td>\n",
       "      <td>02/12/2011 0:06</td>\n",
       "      <td>es</td>\n",
       "      <td>P+</td>\n",
       "      <td>otros</td>\n",
       "    </tr>\n",
       "    <tr>\n",
       "      <th>3</th>\n",
       "      <td>1.423800e+17</td>\n",
       "      <td>mgilguerrero</td>\n",
       "      <td>Mañana en Gaceta: TVE, la que pagamos tú y yo,...</td>\n",
       "      <td>02/12/2011 0:09</td>\n",
       "      <td>es</td>\n",
       "      <td>N</td>\n",
       "      <td>entretenimiento</td>\n",
       "    </tr>\n",
       "    <tr>\n",
       "      <th>5</th>\n",
       "      <td>1.423830e+17</td>\n",
       "      <td>mgilguerrero</td>\n",
       "      <td>Más mañana en Gaceta. Amaiur depende de Uxue B...</td>\n",
       "      <td>02/12/2011 0:20</td>\n",
       "      <td>es</td>\n",
       "      <td>N</td>\n",
       "      <td>política</td>\n",
       "    </tr>\n",
       "    <tr>\n",
       "      <th>6</th>\n",
       "      <td>1.423830e+17</td>\n",
       "      <td>SSantiagosegura</td>\n",
       "      <td>Muy buenas noches followercetes, mañana va a s...</td>\n",
       "      <td>02/12/2011 0:20</td>\n",
       "      <td>es</td>\n",
       "      <td>P+</td>\n",
       "      <td>otros</td>\n",
       "    </tr>\n",
       "  </tbody>\n",
       "</table>\n",
       "</div>"
      ],
      "text/plain": [
       "        tweetid             user  \\\n",
       "0  1.423780e+17      jesusmarana   \n",
       "2  1.423790e+17   LosadaPescador   \n",
       "3  1.423800e+17     mgilguerrero   \n",
       "5  1.423830e+17     mgilguerrero   \n",
       "6  1.423830e+17  SSantiagosegura   \n",
       "\n",
       "                                             content             date lang  \\\n",
       "0  Portada 'Público', viernes. Fabra al banquillo...  02/12/2011 0:03   es   \n",
       "2  Gonzalo Altozano tras la presentación de su li...  02/12/2011 0:06   es   \n",
       "3  Mañana en Gaceta: TVE, la que pagamos tú y yo,...  02/12/2011 0:09   es   \n",
       "5  Más mañana en Gaceta. Amaiur depende de Uxue B...  02/12/2011 0:20   es   \n",
       "6  Muy buenas noches followercetes, mañana va a s...  02/12/2011 0:20   es   \n",
       "\n",
       "  value            topic  \n",
       "0     N         política  \n",
       "2    P+            otros  \n",
       "3     N  entretenimiento  \n",
       "5     N         política  \n",
       "6    P+            otros  "
      ]
     },
     "execution_count": 7,
     "metadata": {},
     "output_type": "execute_result"
    }
   ],
   "source": [
    "tassdb.head()"
   ]
  },
  {
   "cell_type": "code",
   "execution_count": 8,
   "metadata": {
    "collapsed": false
   },
   "outputs": [
    {
     "data": {
      "text/plain": [
       "P+     23545\n",
       "N      12839\n",
       "N+      5575\n",
       "P       1939\n",
       "NEU     1498\n",
       "Name: value, dtype: int64"
      ]
     },
     "execution_count": 8,
     "metadata": {},
     "output_type": "execute_result"
    }
   ],
   "source": [
    "tassdb.value.value_counts()"
   ]
  },
  {
   "cell_type": "code",
   "execution_count": 9,
   "metadata": {
    "collapsed": false
   },
   "outputs": [],
   "source": [
    "values = {'P+': 'P', 'P': 'P', 'NEU': 'NEU', 'N': 'N', 'N+': 'N'}"
   ]
  },
  {
   "cell_type": "code",
   "execution_count": 10,
   "metadata": {
    "collapsed": false
   },
   "outputs": [],
   "source": [
    "tassdb.value.replace(values, inplace=True)"
   ]
  },
  {
   "cell_type": "code",
   "execution_count": 11,
   "metadata": {
    "collapsed": false
   },
   "outputs": [
    {
     "data": {
      "text/html": [
       "<div>\n",
       "<table border=\"1\" class=\"dataframe\">\n",
       "  <thead>\n",
       "    <tr style=\"text-align: right;\">\n",
       "      <th></th>\n",
       "      <th>tweetid</th>\n",
       "      <th>user</th>\n",
       "      <th>content</th>\n",
       "      <th>date</th>\n",
       "      <th>lang</th>\n",
       "      <th>value</th>\n",
       "      <th>topic</th>\n",
       "    </tr>\n",
       "  </thead>\n",
       "  <tbody>\n",
       "    <tr>\n",
       "      <th>0</th>\n",
       "      <td>1.423780e+17</td>\n",
       "      <td>jesusmarana</td>\n",
       "      <td>Portada 'Público', viernes. Fabra al banquillo...</td>\n",
       "      <td>02/12/2011 0:03</td>\n",
       "      <td>es</td>\n",
       "      <td>N</td>\n",
       "      <td>política</td>\n",
       "    </tr>\n",
       "    <tr>\n",
       "      <th>2</th>\n",
       "      <td>1.423790e+17</td>\n",
       "      <td>LosadaPescador</td>\n",
       "      <td>Gonzalo Altozano tras la presentación de su li...</td>\n",
       "      <td>02/12/2011 0:06</td>\n",
       "      <td>es</td>\n",
       "      <td>P</td>\n",
       "      <td>otros</td>\n",
       "    </tr>\n",
       "    <tr>\n",
       "      <th>3</th>\n",
       "      <td>1.423800e+17</td>\n",
       "      <td>mgilguerrero</td>\n",
       "      <td>Mañana en Gaceta: TVE, la que pagamos tú y yo,...</td>\n",
       "      <td>02/12/2011 0:09</td>\n",
       "      <td>es</td>\n",
       "      <td>N</td>\n",
       "      <td>entretenimiento</td>\n",
       "    </tr>\n",
       "    <tr>\n",
       "      <th>5</th>\n",
       "      <td>1.423830e+17</td>\n",
       "      <td>mgilguerrero</td>\n",
       "      <td>Más mañana en Gaceta. Amaiur depende de Uxue B...</td>\n",
       "      <td>02/12/2011 0:20</td>\n",
       "      <td>es</td>\n",
       "      <td>N</td>\n",
       "      <td>política</td>\n",
       "    </tr>\n",
       "    <tr>\n",
       "      <th>6</th>\n",
       "      <td>1.423830e+17</td>\n",
       "      <td>SSantiagosegura</td>\n",
       "      <td>Muy buenas noches followercetes, mañana va a s...</td>\n",
       "      <td>02/12/2011 0:20</td>\n",
       "      <td>es</td>\n",
       "      <td>P</td>\n",
       "      <td>otros</td>\n",
       "    </tr>\n",
       "  </tbody>\n",
       "</table>\n",
       "</div>"
      ],
      "text/plain": [
       "        tweetid             user  \\\n",
       "0  1.423780e+17      jesusmarana   \n",
       "2  1.423790e+17   LosadaPescador   \n",
       "3  1.423800e+17     mgilguerrero   \n",
       "5  1.423830e+17     mgilguerrero   \n",
       "6  1.423830e+17  SSantiagosegura   \n",
       "\n",
       "                                             content             date lang  \\\n",
       "0  Portada 'Público', viernes. Fabra al banquillo...  02/12/2011 0:03   es   \n",
       "2  Gonzalo Altozano tras la presentación de su li...  02/12/2011 0:06   es   \n",
       "3  Mañana en Gaceta: TVE, la que pagamos tú y yo,...  02/12/2011 0:09   es   \n",
       "5  Más mañana en Gaceta. Amaiur depende de Uxue B...  02/12/2011 0:20   es   \n",
       "6  Muy buenas noches followercetes, mañana va a s...  02/12/2011 0:20   es   \n",
       "\n",
       "  value            topic  \n",
       "0     N         política  \n",
       "2     P            otros  \n",
       "3     N  entretenimiento  \n",
       "5     N         política  \n",
       "6     P            otros  "
      ]
     },
     "execution_count": 11,
     "metadata": {},
     "output_type": "execute_result"
    }
   ],
   "source": [
    "tassdb.head()"
   ]
  },
  {
   "cell_type": "code",
   "execution_count": 12,
   "metadata": {
    "collapsed": false
   },
   "outputs": [
    {
     "data": {
      "text/plain": [
       "P      25484\n",
       "N      18414\n",
       "NEU     1498\n",
       "Name: value, dtype: int64"
      ]
     },
     "execution_count": 12,
     "metadata": {},
     "output_type": "execute_result"
    }
   ],
   "source": [
    "tassdb.value.value_counts()"
   ]
  },
  {
   "cell_type": "code",
   "execution_count": 13,
   "metadata": {
    "collapsed": true
   },
   "outputs": [],
   "source": [
    "#First step to standarize the text data is to unifiy all text into lower cases\n",
    "tassdb.content = tassdb.content.str.lower()"
   ]
  },
  {
   "cell_type": "code",
   "execution_count": 14,
   "metadata": {
    "collapsed": false
   },
   "outputs": [],
   "source": [
    "tassdb.content = tassdb.content.str.replace('/ ' , '/')"
   ]
  },
  {
   "cell_type": "code",
   "execution_count": 15,
   "metadata": {
    "collapsed": true
   },
   "outputs": [],
   "source": [
    "tassdb.content = tassdb.content.str.replace('w. ', 'w.')"
   ]
  },
  {
   "cell_type": "code",
   "execution_count": 16,
   "metadata": {
    "collapsed": false
   },
   "outputs": [],
   "source": [
    "tassdb = tassdb.reset_index()\n",
    "del(tassdb['index']) "
   ]
  },
  {
   "cell_type": "code",
   "execution_count": 17,
   "metadata": {
    "collapsed": false
   },
   "outputs": [
    {
     "data": {
      "text/html": [
       "<div>\n",
       "<table border=\"1\" class=\"dataframe\">\n",
       "  <thead>\n",
       "    <tr style=\"text-align: right;\">\n",
       "      <th></th>\n",
       "      <th>tweetid</th>\n",
       "      <th>user</th>\n",
       "      <th>content</th>\n",
       "      <th>date</th>\n",
       "      <th>lang</th>\n",
       "      <th>value</th>\n",
       "      <th>topic</th>\n",
       "    </tr>\n",
       "  </thead>\n",
       "  <tbody>\n",
       "    <tr>\n",
       "      <th>0</th>\n",
       "      <td>1.423780e+17</td>\n",
       "      <td>jesusmarana</td>\n",
       "      <td>portada 'público', viernes. fabra al banquillo...</td>\n",
       "      <td>02/12/2011 0:03</td>\n",
       "      <td>es</td>\n",
       "      <td>N</td>\n",
       "      <td>política</td>\n",
       "    </tr>\n",
       "    <tr>\n",
       "      <th>1</th>\n",
       "      <td>1.423790e+17</td>\n",
       "      <td>LosadaPescador</td>\n",
       "      <td>gonzalo altozano tras la presentación de su li...</td>\n",
       "      <td>02/12/2011 0:06</td>\n",
       "      <td>es</td>\n",
       "      <td>P</td>\n",
       "      <td>otros</td>\n",
       "    </tr>\n",
       "    <tr>\n",
       "      <th>2</th>\n",
       "      <td>1.423800e+17</td>\n",
       "      <td>mgilguerrero</td>\n",
       "      <td>mañana en gaceta: tve, la que pagamos tú y yo,...</td>\n",
       "      <td>02/12/2011 0:09</td>\n",
       "      <td>es</td>\n",
       "      <td>N</td>\n",
       "      <td>entretenimiento</td>\n",
       "    </tr>\n",
       "    <tr>\n",
       "      <th>3</th>\n",
       "      <td>1.423830e+17</td>\n",
       "      <td>mgilguerrero</td>\n",
       "      <td>más mañana en gaceta. amaiur depende de uxue b...</td>\n",
       "      <td>02/12/2011 0:20</td>\n",
       "      <td>es</td>\n",
       "      <td>N</td>\n",
       "      <td>política</td>\n",
       "    </tr>\n",
       "    <tr>\n",
       "      <th>4</th>\n",
       "      <td>1.423830e+17</td>\n",
       "      <td>SSantiagosegura</td>\n",
       "      <td>muy buenas noches followercetes, mañana va a s...</td>\n",
       "      <td>02/12/2011 0:20</td>\n",
       "      <td>es</td>\n",
       "      <td>P</td>\n",
       "      <td>otros</td>\n",
       "    </tr>\n",
       "  </tbody>\n",
       "</table>\n",
       "</div>"
      ],
      "text/plain": [
       "        tweetid             user  \\\n",
       "0  1.423780e+17      jesusmarana   \n",
       "1  1.423790e+17   LosadaPescador   \n",
       "2  1.423800e+17     mgilguerrero   \n",
       "3  1.423830e+17     mgilguerrero   \n",
       "4  1.423830e+17  SSantiagosegura   \n",
       "\n",
       "                                             content             date lang  \\\n",
       "0  portada 'público', viernes. fabra al banquillo...  02/12/2011 0:03   es   \n",
       "1  gonzalo altozano tras la presentación de su li...  02/12/2011 0:06   es   \n",
       "2  mañana en gaceta: tve, la que pagamos tú y yo,...  02/12/2011 0:09   es   \n",
       "3  más mañana en gaceta. amaiur depende de uxue b...  02/12/2011 0:20   es   \n",
       "4  muy buenas noches followercetes, mañana va a s...  02/12/2011 0:20   es   \n",
       "\n",
       "  value            topic  \n",
       "0     N         política  \n",
       "1     P            otros  \n",
       "2     N  entretenimiento  \n",
       "3     N         política  \n",
       "4     P            otros  "
      ]
     },
     "execution_count": 17,
     "metadata": {},
     "output_type": "execute_result"
    }
   ],
   "source": [
    "tassdb.head()"
   ]
  },
  {
   "cell_type": "code",
   "execution_count": 18,
   "metadata": {
    "collapsed": false
   },
   "outputs": [
    {
     "data": {
      "text/plain": [
       "u\"portada 'p\\xfablico', viernes. fabra al banquillo por 'orden' del supremo; wikileaks 'retrata' a 160 empresas esp\\xedas. http://t.co/ytpru0fd\""
      ]
     },
     "execution_count": 18,
     "metadata": {},
     "output_type": "execute_result"
    }
   ],
   "source": [
    "tassdb.content[0]"
   ]
  },
  {
   "cell_type": "code",
   "execution_count": 19,
   "metadata": {
    "collapsed": true
   },
   "outputs": [],
   "source": [
    "#Then from the strings library we import the punctuation list\n",
    "#and from nklt the stop words list in this case for spanish\n",
    "#I decided to add some aadditional terms that I want to remove in order to obatin a cleaner\n",
    "#list of the most used words\n",
    "punctuation = list(string.punctuation)\n",
    "punctuation2 = punctuation + [u\"'\" + u'\"' + u'\\xa1', u'\\xbf']\n",
    "stop = stopwords.words('spanish') + punctuation2 + ['rt', 'via', u'', u'\\u2026,', u'\\u2026', u'...', u'...,']"
   ]
  },
  {
   "cell_type": "code",
   "execution_count": 20,
   "metadata": {
    "collapsed": false
   },
   "outputs": [],
   "source": [
    "#To obtain the actual text for each tweet we split each word\n",
    "tasssplit = tassdb.content.str.split(' ')"
   ]
  },
  {
   "cell_type": "code",
   "execution_count": 21,
   "metadata": {
    "collapsed": false
   },
   "outputs": [],
   "source": [
    "tasstweetlist = []\n",
    "for i in range (0, len(tasssplit)):\n",
    "    a= [term.rstrip(''.join(punctuation)) for term in tasssplit[i]]\n",
    "    tasstweetlist.append(a)"
   ]
  },
  {
   "cell_type": "code",
   "execution_count": 22,
   "metadata": {
    "collapsed": false
   },
   "outputs": [],
   "source": [
    "tasstweetlist1 = []\n",
    "for i in range (0, len(tasstweetlist)):\n",
    "    tasstweetlist1.append([term for term in tasstweetlist[i] if term not in stop if \"@\" not in term\\\n",
    "                           if '#' not in term if term.startswith('http:') == False])"
   ]
  },
  {
   "cell_type": "code",
   "execution_count": 23,
   "metadata": {
    "collapsed": false
   },
   "outputs": [],
   "source": [
    "tasstweetlist2 = []\n",
    "for i in range (0, len(tasstweetlist1)):\n",
    "    a= [term.lstrip(''.join(punctuation2)) for term in tasstweetlist1[i]]\n",
    "    tasstweetlist2.append(a)"
   ]
  },
  {
   "cell_type": "code",
   "execution_count": 24,
   "metadata": {
    "collapsed": true
   },
   "outputs": [],
   "source": [
    "tasstweetlist2ws = []\n",
    "for i in range (0, len(tasstweetlist2)):\n",
    "    a = \" \".join(tasstweetlist2[i])\n",
    "    tasstweetlist2ws.append(a)"
   ]
  },
  {
   "cell_type": "code",
   "execution_count": 25,
   "metadata": {
    "collapsed": false
   },
   "outputs": [],
   "source": [
    "tassfinal = pd.concat([pd.DataFrame(tasstweetlist2ws), tassdb.value], axis=1)\n",
    "tassfinal.columns = ['text', 'values']"
   ]
  },
  {
   "cell_type": "code",
   "execution_count": 67,
   "metadata": {
    "collapsed": false
   },
   "outputs": [],
   "source": [
    "tassfinal.to_csv('Tass_final.csv', encoding='utf-8')"
   ]
  },
  {
   "cell_type": "code",
   "execution_count": 57,
   "metadata": {
    "collapsed": false
   },
   "outputs": [
    {
     "data": {
      "text/plain": [
       "u'miedo da si dieran goya fidel castro saliera agradecer premio unas breves palabras'"
      ]
     },
     "execution_count": 57,
     "metadata": {},
     "output_type": "execute_result"
    }
   ],
   "source": [
    "tassfinal.text[28365]"
   ]
  },
  {
   "cell_type": "code",
   "execution_count": 58,
   "metadata": {
    "collapsed": false
   },
   "outputs": [],
   "source": [
    "vectorizer = CountVectorizer(min_df=5, max_df = 0.5, ngram_range=(1,2))\n",
    "vectors = vectorizer.fit_transform(tassfinal['text'].tolist())"
   ]
  },
  {
   "cell_type": "code",
   "execution_count": 59,
   "metadata": {
    "collapsed": false
   },
   "outputs": [
    {
     "data": {
      "text/plain": [
       "45396"
      ]
     },
     "execution_count": 59,
     "metadata": {},
     "output_type": "execute_result"
    }
   ],
   "source": [
    "len(tassfinal['values'])"
   ]
  },
  {
   "cell_type": "code",
   "execution_count": 60,
   "metadata": {
    "collapsed": false
   },
   "outputs": [],
   "source": [
    "X_train, X_validation, y_train, y_validation = train_test_split(vectors, tassfinal['values'], \\\n",
    "                                                                test_size=0.25, random_state=42)"
   ]
  },
  {
   "cell_type": "code",
   "execution_count": 61,
   "metadata": {
    "collapsed": false
   },
   "outputs": [
    {
     "data": {
      "text/plain": [
       "LinearSVC(C=0.1, class_weight=None, dual=True, fit_intercept=True,\n",
       "     intercept_scaling=1, loss='squared_hinge', max_iter=4000,\n",
       "     multi_class='ovr', penalty='l2', random_state=None, tol=0.0001,\n",
       "     verbose=0)"
      ]
     },
     "execution_count": 61,
     "metadata": {},
     "output_type": "execute_result"
    }
   ],
   "source": [
    "lin_svc = svm.LinearSVC(max_iter=4000, multi_class='ovr', random_state=None, penalty='l2', \\\n",
    "                       loss='squared_hinge', C=.1, tol=0.0001)\n",
    "lin_svc.fit(X_train, y_train)"
   ]
  },
  {
   "cell_type": "code",
   "execution_count": 62,
   "metadata": {
    "collapsed": false
   },
   "outputs": [
    {
     "data": {
      "text/plain": [
       "0.88307339853731603"
      ]
     },
     "execution_count": 62,
     "metadata": {},
     "output_type": "execute_result"
    }
   ],
   "source": [
    "lin_svc.score(X_validation, y_validation)"
   ]
  },
  {
   "cell_type": "code",
   "execution_count": 54,
   "metadata": {
    "collapsed": false
   },
   "outputs": [
    {
     "data": {
      "text/plain": [
       "RandomForestClassifier(bootstrap=True, class_weight=None, criterion='entropy',\n",
       "            max_depth=None, max_features='sqrt', max_leaf_nodes=None,\n",
       "            min_samples_leaf=1, min_samples_split=2,\n",
       "            min_weight_fraction_leaf=0.0, n_estimators=300, n_jobs=5,\n",
       "            oob_score=False, random_state=None, verbose=0,\n",
       "            warm_start=False)"
      ]
     },
     "execution_count": 54,
     "metadata": {},
     "output_type": "execute_result"
    }
   ],
   "source": [
    "Ran_for = RandomForestClassifier(n_estimators=300, criterion=\"entropy\", max_depth=None, max_leaf_nodes=None, bootstrap=True, \\\n",
    "                                 n_jobs=5, random_state=None, max_features='sqrt')\n",
    "Ran_for.fit(X_train, y_train)"
   ]
  },
  {
   "cell_type": "code",
   "execution_count": 53,
   "metadata": {
    "collapsed": false
   },
   "outputs": [
    {
     "data": {
      "text/plain": [
       "0.85672746497488761"
      ]
     },
     "execution_count": 53,
     "metadata": {},
     "output_type": "execute_result"
    }
   ],
   "source": [
    "Ran_for.score(X_validation, y_validation)"
   ]
  },
  {
   "cell_type": "code",
   "execution_count": 63,
   "metadata": {
    "collapsed": false
   },
   "outputs": [
    {
     "data": {
      "text/plain": [
       "DecisionTreeClassifier(class_weight=None, criterion='entropy', max_depth=None,\n",
       "            max_features='sqrt', max_leaf_nodes=None, min_samples_leaf=1,\n",
       "            min_samples_split=2, min_weight_fraction_leaf=0.0,\n",
       "            presort=False, random_state=None, splitter='best')"
      ]
     },
     "execution_count": 63,
     "metadata": {},
     "output_type": "execute_result"
    }
   ],
   "source": [
    "dtclass = DecisionTreeClassifier(criterion= 'entropy', splitter='best', max_depth=None, min_samples_split=2, min_samples_leaf=1, \\\n",
    "                                    min_weight_fraction_leaf=0.0, max_features='sqrt', random_state=None, max_leaf_nodes=None)\n",
    "dtclass.fit(X_train, y_train)"
   ]
  },
  {
   "cell_type": "code",
   "execution_count": 64,
   "metadata": {
    "collapsed": false
   },
   "outputs": [
    {
     "data": {
      "text/plain": [
       "0.79866067494933479"
      ]
     },
     "execution_count": 64,
     "metadata": {},
     "output_type": "execute_result"
    }
   ],
   "source": [
    "dtclass.score(X_validation, y_validation)"
   ]
  },
  {
   "cell_type": "code",
   "execution_count": 135,
   "metadata": {
    "collapsed": false
   },
   "outputs": [],
   "source": [
    "parameters = {'C': (0.1 , 0.5, 0.7, 1),\n",
    "              'loss':('hinge', 'squared_hinge'), \n",
    "              'max_iter': (500, 1000, 2000, 4000)}"
   ]
  },
  {
   "cell_type": "code",
   "execution_count": 143,
   "metadata": {
    "collapsed": false
   },
   "outputs": [
    {
     "data": {
      "text/plain": [
       "GridSearchCV(cv=None, error_score='raise',\n",
       "       estimator=LinearSVC(C=1.0, class_weight=None, dual=True, fit_intercept=True,\n",
       "     intercept_scaling=1, loss='squared_hinge', max_iter=1000,\n",
       "     multi_class='ovr', penalty='l2', random_state=None, tol=0.0001,\n",
       "     verbose=0),\n",
       "       fit_params={}, iid=True, n_jobs=4,\n",
       "       param_grid={'loss': ('hinge', 'squared_hinge'), 'C': (0.1, 0.5, 0.7, 1), 'max_iter': (500, 1000, 2000, 4000)},\n",
       "       pre_dispatch='2*n_jobs', refit=True, scoring=None, verbose=0)"
      ]
     },
     "execution_count": 143,
     "metadata": {},
     "output_type": "execute_result"
    }
   ],
   "source": [
    "svr = svm.LinearSVC(multi_class='ovr', random_state=None, penalty='l2', tol=0.0001)\n",
    "clf = grid_search.GridSearchCV(estimator=svr, param_grid=parameters, scoring=None, n_jobs= 4)\n",
    "clf.fit(vectors, tassfinal['values'])"
   ]
  },
  {
   "cell_type": "code",
   "execution_count": 144,
   "metadata": {
    "collapsed": false
   },
   "outputs": [
    {
     "data": {
      "text/plain": [
       "LinearSVC(C=0.1, class_weight=None, dual=True, fit_intercept=True,\n",
       "     intercept_scaling=1, loss='squared_hinge', max_iter=500,\n",
       "     multi_class='ovr', penalty='l2', random_state=None, tol=0.0001,\n",
       "     verbose=0)"
      ]
     },
     "execution_count": 144,
     "metadata": {},
     "output_type": "execute_result"
    }
   ],
   "source": [
    "clf.best_estimator_ "
   ]
  },
  {
   "cell_type": "code",
   "execution_count": 145,
   "metadata": {
    "collapsed": false
   },
   "outputs": [
    {
     "data": {
      "text/plain": [
       "0.85150674068199839"
      ]
     },
     "execution_count": 145,
     "metadata": {},
     "output_type": "execute_result"
    }
   ],
   "source": [
    "clf.best_score_ "
   ]
  },
  {
   "cell_type": "code",
   "execution_count": null,
   "metadata": {
    "collapsed": true
   },
   "outputs": [],
   "source": []
  }
 ],
 "metadata": {
  "kernelspec": {
   "display_name": "Python 2",
   "language": "python",
   "name": "python2"
  },
  "language_info": {
   "codemirror_mode": {
    "name": "ipython",
    "version": 2
   },
   "file_extension": ".py",
   "mimetype": "text/x-python",
   "name": "python",
   "nbconvert_exporter": "python",
   "pygments_lexer": "ipython2",
   "version": "2.7.12"
  }
 },
 "nbformat": 4,
 "nbformat_minor": 0
}
